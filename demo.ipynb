{
 "cells": [
  {
   "cell_type": "markdown",
   "metadata": {
    "collapsed": true,
    "pycharm": {
     "name": "#%% md\n"
    }
   },
   "source": [
    "我们想看看垃圾邮件和非垃圾邮件的特性是怎样的。"
   ]
  },
  {
   "cell_type": "code",
   "execution_count": 5,
   "outputs": [],
   "source": [
    "import dataloader\n",
    "import params\n",
    "import random\n",
    "import numpy as np\n",
    "import matplotlib.pyplot as plt\n",
    "import importlib"
   ],
   "metadata": {
    "collapsed": false,
    "pycharm": {
     "name": "#%%\n"
    }
   }
  },
  {
   "cell_type": "code",
   "execution_count": 6,
   "outputs": [
    {
     "name": "stdout",
     "output_type": "stream",
     "text": [
      "Loaded 37822 data\n",
      "Random seed: 1\n"
     ]
    }
   ],
   "source": [
    "args = params.get_default_args()\n",
    "dl = dataloader.Dataloader(args)\n",
    "hams = dl.get_ham()\n",
    "spams = dl.get_spam()"
   ],
   "metadata": {
    "collapsed": false,
    "pycharm": {
     "name": "#%%\n"
    }
   }
  },
  {
   "cell_type": "code",
   "execution_count": 7,
   "outputs": [
    {
     "name": "stdout",
     "output_type": "stream",
     "text": [
      "Received: from ool-43525782.dyn.optonline.net (HELO phil) (67.82.87.130)\n",
      "  by 178.9.cm2.net with SMTP; 21 Mar 2002 15:27:07 -0000\n",
      "Message-ID: <000501c1d0ec$d71632a0$6501a8c0@phil>\n",
      "From: \"Phil McLewin\" <phil@mclewin.com>\n",
      "To: \"Phil McLewin\" <phil@mclewin.com>\n",
      "Subject: Business Week OnlineGDP The Mother of All Numbers\n",
      "Date: Thu, 21 Mar 2002 10:26:56 -0500\n",
      "MIME-Version: 1.0\n",
      "Content-Type: multipart/related;\n",
      "\ttype=\"multipart/alternative\";\n",
      "\tboundary=\"----=_NextPart_000_0001_01C1D0C2.ED7E6140\"\n",
      "X-Priority: 3\n",
      "X-MSMail-Priority: Normal\n",
      "X-Mailer: Microsoft Outlook Express 6.00.2600.0000\n",
      "X-MimeOLE: Produced By Microsoft MimeOLE V6.00.2600.0000\n",
      "\n",
      "This is a multi-part message in MIME format.\n",
      "\n",
      "------=_NextPart_000_0001_01C1D0C2.ED7E6140\n",
      "Content-Type: multipart/alternative;\n",
      "\tboundary=\"----=_NextPart_001_0002_01C1D0C2.ED878900\"\n",
      "\n",
      "\n",
      "------=_NextPart_001_0002_01C1D0C2.ED878900\n",
      "Content-Type: text/plain;\n",
      "\tcharset=\"Windows-1252\"\n",
      "Content-Transfer-Encoding: quoted-printable\n",
      "\n",
      "Business Week Online:GDP: The Mother of All Numbers\n",
      "=20\n",
      "      Register/Subscribe\n",
      "      Home  =20\n",
      "    =20\n",
      "       =20\n",
      "           Close Window=20\n",
      "    =20\n",
      "\n",
      "\n",
      "MARCH 18, 2002=20\n",
      "\n",
      "BUSINESSWEEK INVESTOR=20\n",
      "\n",
      "      GDP: The Mother of All Numbers =20\n",
      "      The data aren't perfect, but the quarterly reports are still =\n",
      "essential reading=20\n",
      "\n",
      "    =20\n",
      "Gross domestic product. GDP. The acronym may conjure up nightmares of =\n",
      "cramming for your Econ 101 final: C+I+G+(X-M). Relax. Think of GDP as =\n",
      "the Swiss Army knife of the economic data. It's an all-in-one tool =\n",
      "covering all the goods and services produced using labor and capital =\n",
      "located in the U.S. The production of cars and computers are counted in =\n",
      "GDP; so are bank transactions, dental appointments, a college education, =\n",
      "and foreign tourists visiting Disney World. When we discuss real GDP, we =\n",
      "are discussing the economy. That's why the GDP data, released by the =\n",
      "Commerce Dept.'s Bureau of Economic Analysis (BEA), so critically =\n",
      "affects the behavior of investors, Federal Reserve officials, and fiscal =\n",
      "policymakers.\n",
      "\n",
      "Simply put, GDP is the sum of the output of the economy's sectors. =\n",
      "Consumer spending, which accounts for two-thirds of the economy, =\n",
      "reflects what households and nonprofit institutions spend on goods and =\n",
      "services. Investment is what businesses spend on equipment, inventories, =\n",
      "and structures, plus residential construction. The government sector =\n",
      "includes federal outlays on everything from the military to highway =\n",
      "projects, as well as state and local budgets. But public spending does =\n",
      "not include checks for Social Security or welfare. Those are counted as =\n",
      "personal income spent by consumers. Finally, imports are subtracted from =\n",
      "exports to get a trade-balance figure called \"net exports.\" The U.S. has =\n",
      "long imported more than it exports, and this number will almost =\n",
      "certainly be negative, making it a drag on economic growth.\n",
      "\n",
      "The BEA uses data from monthly reports and \"puts them together in a =\n",
      "coherent way that's easy to understand,\" explains Steve Landefeld, =\n",
      "director of the BEA. Monthly retail reports and auto sales are used to =\n",
      "estimate part of consumer spending; the manufacturing inventories and =\n",
      "sales reports go into business investment; and the international trade =\n",
      "reports add up net exports. (At businessweek.com/investor/primer.htm, =\n",
      "you can read previous BusinessWeek Investor articles that explain each =\n",
      "of these monthly reports.)\n",
      "\n",
      "The BEA then seasonally adjusts the raw data and totals them up for =\n",
      "nominal GDP. Real GDP--that is, after taking out the effects of =\n",
      "inflation--is adjusted for price changes using a method called =\n",
      "chain-weighting that makes sure the price changes aren't skewed when =\n",
      "people substitute a cheaper product.\n",
      "\n",
      "Wall Street doesn't pay attention to the level of GDP but rather its =\n",
      "growth rate. The percentage change is expressed at an annual rate--in =\n",
      "other words, how much the economy would grow for a whole year if the =\n",
      "quarter's GDP change were repeated for three more quarters.\n",
      "\n",
      "When a reported growth rate is vastly different from expectations, the =\n",
      "market can react strongly. In January, economists expected the GDP =\n",
      "report to show the economy, which is officially in recession, had =\n",
      "contracted in the fourth quarter, just as it had in the third. Instead, =\n",
      "GDP grew at a 0.2% annual rate last quarter. That increase, taken as a =\n",
      "sign that the recession was ending, sent the stock market soaring. Then, =\n",
      "on Feb. 28, the BEA revised fourth-quarter growth to 1.4%. Stock prices =\n",
      "rallied early in the day until Enron worries pulled the market down.\n",
      "\n",
      "In 2002, economists expect inventories to generate the bulk of GDP =\n",
      "growth. Although the sector is quite small, it is extremely volatile. =\n",
      "Keep in mind that GDP is designed to measure what has been produced or =\n",
      "consumed in any given quarter. So the level of GDP does not include all =\n",
      "the inventories on hand (since some of those goods were produced in =\n",
      "quarters or even years before), but only how much those inventories have =\n",
      "changed in the quarter. If businesses build up their stockpiles, =\n",
      "inventory accumulation adds to the level of GDP. If those stockpiles =\n",
      "decline, it subtracts from the GDP total.\n",
      "\n",
      "Accounting for inventories is where GDP math gets a little strange. =\n",
      "That's because, in some cases, businesses can draw down inventories and =\n",
      "yet add to GDP growth. In fact, that's what economists think is =\n",
      "happening right now. Businesses cut their inventories at a $120 billion =\n",
      "annual rate in the fourth quarter. This quarter, economists forecast, =\n",
      "companies are reducing inventories by only about $60 billion. That =\n",
      "slower rate of inventory drawdown is a plus for GDP growth. Indeed, the =\n",
      "expected $60 billion difference would add a large 2.5 percentage points =\n",
      "to the first quarter's GDP growth.\n",
      "\n",
      "The BEA takes three passes at GDP. The first release, available on the =\n",
      "last Thursday of the month right after the quarter ends, is called the =\n",
      "advance report. A month later is the preliminary, which usually includes =\n",
      "the BEA's estimate for corporate profits and margins economywide. Near =\n",
      "the end of the subsequent quarter is the final report. So on Mar. 28, =\n",
      "we'll get the final numbers on the fourth quarter. Yearly and benchmark =\n",
      "revisions come at regular intervals for five years. To get the GDP =\n",
      "report, log on to www.bea.doc.gov.\n",
      "\n",
      "Although the GDP release is one of the longest-running government =\n",
      "economic reports--it dates to 1929--it is still a work-in-progress as =\n",
      "the BEA tries to address some of its flaws. The first problem is one of =\n",
      "timing; the quarterly numbers lag behind the monthly reports. \"By the =\n",
      "time the GDP comes out, it can be a nonevent because we have most of the =\n",
      "monthly numbers,\" says James Paulsen, chief investment officer of Wells =\n",
      "Capital Management. That's why the pros use other data to estimate =\n",
      "monthly GDP (table). Next, the BEA has little data on the enormous =\n",
      "private service sector. Instead, it estimates spending, from medical =\n",
      "care to dry cleaning.\n",
      "\n",
      "Finally, the revisions can rewrite what we thought we knew about the =\n",
      "economy, giving bad investment and policy signals. An extreme example =\n",
      "took place in early 2000, says Landefeld. The original reports showed an =\n",
      "economy surging by 4.8% in the first quarter. But as the BEA gathered =\n",
      "more information, real GDP growth was revised down to 2.3%. If we knew =\n",
      "the revised growth rate earlier, Landefeld notes, investors \"could have =\n",
      "rethought their profit expectations and thus their investments.\" In =\n",
      "addition, the Fed might not have kept raising interest rates as late as =\n",
      "May, 2000, if it realized the economy was sputtering. \"Bad data is a =\n",
      "significant problem for economic policy,\" Landefeld admits.\n",
      "\n",
      "To correct these failings, the BEA has requested $11 million in =\n",
      "additional appropriations for fiscal 2003. The money would be used to =\n",
      "move up the release of the trade data and gather real data on the =\n",
      "service sector, which will reduce the magnitude of the revisions.\n",
      "\n",
      "Even with its drawbacks, the GDP report should not be ignored. The best =\n",
      "portfolios are ones diversified into a broad swath of industries. And =\n",
      "the GDP report is one-stop shopping for information on what's going on =\n",
      "just about anywhere in the U.S. economy.\n",
      "\n",
      "\n",
      "This is the 13th in an occasional series showing how major economic =\n",
      "indicators can affect the stock and bond markets.=20\n",
      "\n",
      "By Kathleen Madigan\n",
      "\n",
      "\n",
      "\n",
      "\n",
      "Copyright 2000-2001, by The McGraw-Hill Companies Inc. All rights =\n",
      "reserved.\n",
      "Terms of Use   Privacy Policy\n",
      "\n",
      "\n",
      "\n",
      "------=_NextPart_001_0002_01C1D0C2.ED878900\n",
      "Content-Type: text/html;\n",
      "\tcharset=\"Windows-1252\"\n",
      "Content-Transfer-Encoding: quoted-printable\n",
      "\n",
      "<!DOCTYPE HTML PUBLIC \"-//W3C//DTD HTML 4.0 Transitional//EN\">\n",
      "<HTML><HEAD><TITLE>Business Week Online:GDP: The Mother of All =\n",
      "Numbers</TITLE>\n",
      "<META http-equiv=3DContent-Type content=3D\"text/html; =\n",
      "charset=3Dwindows-1252\"><BASE=20\n",
      "href=3Dhttp://www.businessweek.com:/print/premium/content/02_11/b3774105.=\n",
      "htm?mainwindow>\n",
      "<META content=3Dnoindex,nofollow name=3Drobots><!-- Javascript --><LINK=20\n",
      "href=3D\"http://www.businessweek.com/w3c/p3p.xml\" rel=3DP3Pv1>\n",
      "<SCRIPT language=3Djavascript type=3Dtext/javascript>=0A=\n",
      "<!--=0A=\n",
      "=0A=\n",
      "openerName =3D location.search.substring(1);=0A=\n",
      "=0A=\n",
      "if (openerName !=3D \"\") {=0A=\n",
      "\tdocument.write ('<base target=3D\"' + openerName + '\">');=0A=\n",
      "}=0A=\n",
      "=0A=\n",
      "//-->=0A=\n",
      "</SCRIPT>\n",
      "\n",
      "<SCRIPT language=3DJavaScript type=3Dtext/javascript>=0A=\n",
      "<!--=0A=\n",
      "=0A=\n",
      "function showGlossaryTerm(term) {=0A=\n",
      "\tbrowserVer =3D parseInt(navigator.appVersion);=0A=\n",
      "\t=0A=\n",
      "\tif (navigator.appName =3D=3D \"Netscape\" && browserVer < 3) =0A=\n",
      "\t{=0A=\n",
      "\t\t=\n",
      "remote=3Dwindow.open(\"http://bwnt.businessweek.com/Glossary/home.asp?Code=\n",
      "=3D\"+term,\"glossaryWindow\",\"width=3D470,height=3D400\");=0A=\n",
      "\t}=0A=\n",
      "\telse =0A=\n",
      "\t{=0A=\n",
      "\t\t=\n",
      "remote=3Dwindow.open(\"http://bwnt.businessweek.com/Glossary/home.asp?Code=\n",
      "=3D\"+term,\"glossaryWindow\",\"width=3D470,height=3D400,scrollbars=3Dyes,too=\n",
      "lbar=3Dno,location=3Dno,directories=3Dno,status=3Dno,menubar=3Dyes,resiza=\n",
      "ble=3Dyes\");=0A=\n",
      "\t}=0A=\n",
      "=0A=\n",
      "\tremote.focus();=0A=\n",
      "=0A=\n",
      "}=0A=\n",
      "=0A=\n",
      "function showTicker(symbol, channel) {=0A=\n",
      "\ttheURL =3D =\n",
      "\"http://host.businessweek.com/businessweek/Corporate_Snapshot.html?Symbol=\n",
      "=3D\" + symbol;=0A=\n",
      "\ttop.location =3D theURL;=0A=\n",
      "}=0A=\n",
      "=0A=\n",
      "//-->=0A=\n",
      "</SCRIPT>\n",
      "<!-- END Javascript--><LINK href=3D\"/external.css\" type=3Dtext/css =\n",
      "rel=3Dstylesheet>\n",
      "<META content=3D\"MSHTML 6.00.2600.0\" name=3DGENERATOR></HEAD>\n",
      "<BODY text=3D#000000 vLink=3D#003366 link=3D#336666 bgColor=3D#ffffff =\n",
      "topMargin=3D10=20\n",
      "MARGINWIDTH=3D\"10\" MARGINHEIGHT=3D\"10\">\n",
      "<DIV>&nbsp;</DIV><A href=3D\"#top\"><IMG height=3D1=20\n",
      "alt=3D\"Click Here to Go Directly to the Story\" =\n",
      "src=3D\"/common_images/bw_1x1.gif\"=20\n",
      "width=3D1 border=3D0></A>=20\n",
      "<P><!-- Top Include Starts Here--><LINK=20\n",
      "href=3D\"http://www.businessweek.com/external.css\" type=3Dtext/css =\n",
      "rel=3Dstylesheet><!--START TABLE 1...AD INFORMATION-->\n",
      "<TABLE cellSpacing=3D0 cellPadding=3D0 border=3D0>\n",
      "  <TBODY>\n",
      "  <TR>\n",
      "    <TD vAlign=3Dbottom noWrap align=3Dbottom width=3D100><FONT =\n",
      "class=3Dsmalltext><A=20\n",
      "      href=3D\"/register.htm\">Register/Subscribe</A><BR><A=20\n",
      "      href=3D\"/index.html\">Home</A></FONT></TD>\n",
      "    <TD noWrap align=3Dright width=3D\"100%\"><!--include =\n",
      "virtual=3D\"/html.ng/page=3Dpr_story&chan=3Dprinter_friendly&pagepos=3D10\"=\n",
      "-->\n",
      "      <TABLE cellSpacing=3D0 cellPadding=3D0 width=3D473 =\n",
      "bgColor=3D#ffffff border=3D0>\n",
      "        <TBODY>\n",
      "        <TR>\n",
      "          <TD align=3Dleft width=3D468>\n",
      "            <SCRIPT language=3Djavascript type=3Dtext/javascript>\n",
      "<!--\n",
      "\n",
      "\n",
      "if(!rnd){\n",
      "var axel =3D Math.random() + \"\";\n",
      "var rnd =3D axel * 1000000000000000000;\n",
      "}\n",
      "var urls =3D new Array(\n",
      "\t\t\t\"www.businessweek.com\",\n",
      "\t\t\t\"asia.businessweek.com\",\n",
      "\t\t\t\"europe.businessweek.com\",\n",
      "\t\t\t\"test.businessweek.com\",\n",
      "\t\t\t\"staging.businessweek.com\"\n",
      ")\n",
      "var site =3D new Array(\n",
      "\t\t\t\"bw\",\n",
      "\t\t\t\"bw_as\",\n",
      "\t\t\t\"bw_eu\",\n",
      "\t\t\t\"test\",\n",
      "\t\t\t\"staging\"\n",
      ")\n",
      "\n",
      "for(i=3D0; i<urls.length; i++){\n",
      "\tif (document.location.href.indexOf(urls[i]) !=3D -1){\n",
      "\t\tsub_domain =3D site[i];\n",
      "\tbreak;\n",
      "\t}\n",
      "\telse{\n",
      "\tsub_domain =3D \"bw\";\n",
      "\t}\n",
      "}\n",
      "var site =3D \"site\\=3D\" + sub_domain + \"&\";\n",
      "\n",
      "bannerParams =3D site + \"chan=3Dpf&adsize=3D468x60&pagepos=3D10&var=3D\"\n",
      "\n",
      "document.write('<NOLAYER><IFRAME =\n",
      "SRC=3D\"http://ads.businessweek.com/html.ng/'+bannerParams+rnd+'?\" =\n",
      "width=3D468 height=3D60 frameborder=3D0 border=3D0 marginheight=3D0 =\n",
      "marginwidth=3D0 vspace=3D0 scrolling=3Dno><A =\n",
      "HREF=3D\"http://ads.businessweek.com/click.ng/'+bannerParams+rnd+'?\"><IMG =\n",
      "SRC=3D\"http://ads.businessweek.com/image.ng/'+bannerParams+rnd+'?\" =\n",
      "border=3D0 width=3D234 height=3D60><\\/A><\\/IFRAME><\\/NOLAYER><ILAYER =\n",
      "id=3Dbanner visibility=3Dhide width=3D468 height=3D60><\\/ILAYER>');\n",
      "\n",
      "//-->\n",
      "\n",
      "</SCRIPT>\n",
      "            <NOSCRIPT><A=20\n",
      "            =\n",
      "href=3D\"http://ads.businessweek.com/click.ng/chan=3Dpf&amp;adsize=3D468x6=\n",
      "0&amp;pagepos=3D10&amp;var=3D987654321?\"><IMG=20\n",
      "            height=3D60=20\n",
      "            =\n",
      "src=3D\"http://ads.businessweek.com/image.ng/chan=3Dpf&amp;adsize=3D468x60=\n",
      "&amp;pagepos=3D10&amp;var=3D987654321?\"=20\n",
      "            width=3D468 border=3D0></A>=20\n",
      "</NOSCRIPT></TD></TR></TBODY></TABLE></TD></TR></TBODY></TABLE><!--END =\n",
      "TABLE 1...AD INFORMATION--><!--START TABLE 2...LOGO-->\n",
      "<TABLE cellSpacing=3D0 cellPadding=3D0 width=3D\"100%\" border=3D0>\n",
      "  <TBODY>\n",
      "  <TR>\n",
      "    <TD vAlign=3Dtop align=3Dleft><A =\n",
      "href=3D\"http://www.businessweek.com/\"><IMG=20\n",
      "      height=3D50 alt=3D\"Business Week Online\" =\n",
      "src=3D\"/common_images/bw_logo.gif\"=20\n",
      "      width=3D300 border=3D0></A> </TD>\n",
      "    <TD><IMG height=3D4 src=3D\"/common_images/bw_1x1.gif\" =\n",
      "width=3D5><BR><!--START TABLE 3...HEADER INFORMATION-->\n",
      "      <TABLE cellSpacing=3D0 cellPadding=3D0 align=3Dright border=3D0>\n",
      "        <TBODY>\n",
      "        <TR>\n",
      "          <TD vAlign=3Dcenter align=3Dleft><A =\n",
      "href=3D\"javascript:self.close()\"><IMG=20\n",
      "            height=3D15 alt=3D\"\" src=3D\"/common_images/bw_arrowbox.gif\" =\n",
      "width=3D18=20\n",
      "            align=3DabsMiddle border=3D0></A></TD>\n",
      "          <TD vAlign=3Dcenter align=3Dleft><FONT class=3Dsmalltext><A=20\n",
      "            onclick=3D\"self.close(); return false\" =\n",
      "href=3D\"javascript://\">Close=20\n",
      "            Window</A></FONT></TD></TR></TBODY></TABLE><!--END TABLE =\n",
      "3...HEADER INFORMATION--></TD></TR></TBODY></TABLE><!--END TABLE =\n",
      "2...LOGO--><!-- Top Include Ends Here--></P>\n",
      "<P><FONT class=3Ddate><!--DATE-->MARCH 18, 2002 =\n",
      "<!--/DATE--><BR><BR></FONT><FONT=20\n",
      "class=3Dstrap color=3D#cc0033>BUSINESSWEEK INVESTOR </FONT><BR>\n",
      "<TABLE cellSpacing=3D0 cellPadding=3D0 width=3D\"100%\" border=3D0>\n",
      "  <TBODY>\n",
      "  <TR>\n",
      "    <TD><BR><!--HEADLINE--><FONT class=3Dbighed>GDP: The Mother of All=20\n",
      "      Numbers</FONT> <!--/HEADLINE--></TD></TR>\n",
      "  <TR>\n",
      "    <TD><!--DECK--><FONT class=3Ddeck>The data aren't perfect, but the =\n",
      "quarterly=20\n",
      "      reports are still essential reading</FONT>=20\n",
      "  <!--/DECK--><BR><BR></TD></TR></TBODY></TABLE><!--STORY--><FONT =\n",
      "class=3Dtext=20\n",
      "face=3Darial,helvetica,univers>Gross domestic product. GDP. The acronym =\n",
      "may=20\n",
      "conjure up nightmares of cramming for your Econ 101 final: C+I+G+(X-M). =\n",
      "Relax.=20\n",
      "Think of GDP as the Swiss Army knife of the economic data. It's an =\n",
      "all-in-one=20\n",
      "tool covering all the goods and services produced using labor and =\n",
      "capital=20\n",
      "located in the U.S. The production of cars and computers are counted in =\n",
      "GDP; so=20\n",
      "are bank transactions, dental appointments, a college education, and =\n",
      "foreign=20\n",
      "tourists visiting Disney World. When we discuss real GDP, we are =\n",
      "discussing the=20\n",
      "economy. That's why the GDP data, released by the Commerce Dept.'s =\n",
      "Bureau of=20\n",
      "Economic Analysis (BEA), so critically affects the behavior of =\n",
      "investors,=20\n",
      "Federal Reserve officials, and fiscal policymakers.<BR><BR>Simply put, =\n",
      "GDP is=20\n",
      "the sum of the output of the economy's sectors. Consumer spending, which =\n",
      "\n",
      "accounts for two-thirds of the economy, reflects what households and =\n",
      "nonprofit=20\n",
      "institutions spend on goods and services. Investment is what businesses =\n",
      "spend on=20\n",
      "equipment, inventories, and structures, plus residential construction. =\n",
      "The=20\n",
      "government sector includes federal outlays on everything from the =\n",
      "military to=20\n",
      "highway projects, as well as state and local budgets. But public =\n",
      "spending does=20\n",
      "not include checks for Social Security or welfare. Those are counted as =\n",
      "personal=20\n",
      "income spent by consumers. Finally, imports are subtracted from exports =\n",
      "to get a=20\n",
      "trade-balance figure called \"net exports.\" The U.S. has long imported =\n",
      "more than=20\n",
      "it exports, and this number will almost certainly be negative, making it =\n",
      "a drag=20\n",
      "on economic growth.<BR><BR>The BEA uses data from monthly reports and =\n",
      "\"puts them=20\n",
      "together in a coherent way that's easy to understand,\" explains Steve =\n",
      "Landefeld,=20\n",
      "director of the BEA. Monthly retail reports and auto sales are used to =\n",
      "estimate=20\n",
      "part of consumer spending; the manufacturing inventories and sales =\n",
      "reports go=20\n",
      "into business investment; and the international trade reports add up net =\n",
      "\n",
      "exports. (At <A href=3D\"/investor/primer.htm\"=20\n",
      "target=3D_content>businessweek.com/investor/primer.htm</A>, you can read =\n",
      "previous=20\n",
      "<I>BusinessWeek Investor</I> articles that explain each of these monthly =\n",
      "\n",
      "reports.)<BR><BR>The BEA then seasonally adjusts the raw data and totals =\n",
      "them up=20\n",
      "for nominal GDP. Real GDP--that is, after taking out the effects of=20\n",
      "inflation--is adjusted for price changes using a method called =\n",
      "chain-weighting=20\n",
      "that makes sure the price changes aren't skewed when people substitute a =\n",
      "cheaper=20\n",
      "product.<BR><BR>Wall Street doesn't pay attention to the level of GDP =\n",
      "but rather=20\n",
      "its growth rate. The percentage change is expressed at an annual =\n",
      "rate--in other=20\n",
      "words, how much the economy would grow for a whole year if the quarter's =\n",
      "GDP=20\n",
      "change were repeated for three more quarters.<BR><BR>When a reported =\n",
      "growth rate=20\n",
      "is vastly different from expectations, the market can react strongly. In =\n",
      "\n",
      "January, economists expected the GDP report to show the economy, which =\n",
      "is=20\n",
      "officially in recession, had contracted in the fourth quarter, just as =\n",
      "it had in=20\n",
      "the third. Instead, GDP grew at a 0.2% annual rate last quarter. That =\n",
      "increase,=20\n",
      "taken as a sign that the recession was ending, sent the stock market =\n",
      "soaring.=20\n",
      "Then, on Feb. 28, the BEA revised fourth-quarter growth to 1.4%. Stock =\n",
      "prices=20\n",
      "rallied early in the day until Enron worries pulled the market =\n",
      "down.<BR><BR>In=20\n",
      "2002, economists expect inventories to generate the bulk of GDP growth. =\n",
      "Although=20\n",
      "the sector is quite small, it is extremely volatile. Keep in mind that =\n",
      "GDP is=20\n",
      "designed to measure what has been produced or consumed in any given =\n",
      "quarter. So=20\n",
      "the level of GDP does not include all the inventories on hand (since =\n",
      "some of=20\n",
      "those goods were produced in quarters or even years before), but only =\n",
      "how much=20\n",
      "those inventories have changed in the quarter. If businesses build up =\n",
      "their=20\n",
      "stockpiles, inventory accumulation adds to the level of GDP. If those =\n",
      "stockpiles=20\n",
      "decline, it subtracts from the GDP total.<BR><BR>Accounting for =\n",
      "inventories is=20\n",
      "where GDP math gets a little strange. That's because, in some cases, =\n",
      "businesses=20\n",
      "can draw down inventories and yet add to GDP growth. In fact, that's =\n",
      "what=20\n",
      "economists think is happening right now. Businesses cut their =\n",
      "inventories at a=20\n",
      "$120 billion annual rate in the fourth quarter. This quarter, economists =\n",
      "\n",
      "forecast, companies are reducing inventories by only about $60 billion. =\n",
      "That=20\n",
      "slower rate of inventory drawdown is a plus for GDP growth. Indeed, the =\n",
      "expected=20\n",
      "$60 billion difference would add a large 2.5 percentage points to the =\n",
      "first=20\n",
      "quarter's GDP growth.<BR><BR>The BEA takes three passes at GDP. The =\n",
      "first=20\n",
      "release, available on the last Thursday of the month right after the =\n",
      "quarter=20\n",
      "ends, is called the advance report. A month later is the preliminary, =\n",
      "which=20\n",
      "usually includes the BEA's estimate for corporate profits and margins=20\n",
      "economywide. Near the end of the subsequent quarter is the final report. =\n",
      "So on=20\n",
      "Mar. 28, we'll get the final numbers on the fourth quarter. Yearly and =\n",
      "benchmark=20\n",
      "revisions come at regular intervals for five years. To get the GDP =\n",
      "report, log=20\n",
      "on to <A href=3D\"http://www.bea.doc.gov\"=20\n",
      "target=3D_new>www.bea.doc.gov</A>.<BR><BR>Although the GDP release is =\n",
      "one of the=20\n",
      "longest-running government economic reports--it dates to 1929--it is =\n",
      "still a=20\n",
      "work-in-progress as the BEA tries to address some of its flaws. The =\n",
      "first=20\n",
      "problem is one of timing; the quarterly numbers lag behind the monthly =\n",
      "reports.=20\n",
      "\"By the time the GDP comes out, it can be a nonevent because we have =\n",
      "most of the=20\n",
      "monthly numbers,\" says James Paulsen, chief investment officer of Wells =\n",
      "Capital=20\n",
      "Management. That's why the pros use other data to estimate monthly GDP =\n",
      "(table).=20\n",
      "Next, the BEA has little data on the enormous private service sector. =\n",
      "Instead,=20\n",
      "it estimates spending, from medical care to dry =\n",
      "cleaning.<BR><BR>Finally, the=20\n",
      "revisions can rewrite what we thought we knew about the economy, giving =\n",
      "bad=20\n",
      "investment and policy signals. An extreme example took place in early =\n",
      "2000, says=20\n",
      "Landefeld. The original reports showed an economy surging by 4.8% in the =\n",
      "first=20\n",
      "quarter. But as the BEA gathered more information, real GDP growth was =\n",
      "revised=20\n",
      "down to 2.3%. If we knew the revised growth rate earlier, Landefeld =\n",
      "notes,=20\n",
      "investors \"could have rethought their profit expectations and thus their =\n",
      "\n",
      "investments.\" In addition, the Fed might not have kept raising interest =\n",
      "rates as=20\n",
      "late as May, 2000, if it realized the economy was sputtering. \"Bad data =\n",
      "is a=20\n",
      "significant problem for economic policy,\" Landefeld admits.<BR><BR>To =\n",
      "correct=20\n",
      "these failings, the BEA has requested $11 million in additional =\n",
      "appropriations=20\n",
      "for fiscal 2003. The money would be used to move up the release of the =\n",
      "trade=20\n",
      "data and gather real data on the service sector, which will reduce the =\n",
      "magnitude=20\n",
      "of the revisions.<BR><BR>Even with its drawbacks, the GDP report should =\n",
      "not be=20\n",
      "ignored. The best portfolios are ones diversified into a broad swath of=20\n",
      "industries. And the GDP report is one-stop shopping for information on =\n",
      "what's=20\n",
      "going on just about anywhere in the U.S. economy.<BR><BR><BR><I>This is =\n",
      "the 13th=20\n",
      "in an occasional series showing how major economic indicators can affect =\n",
      "the=20\n",
      "stock and bond markets.</I> </FONT><BR><BR><!--/STORY--><FONT =\n",
      "class=3Dtext>By=20\n",
      "Kathleen Madigan<BR><BR></FONT><BR><!-- Bottom Include Starts =\n",
      "Here--><!-- FOOTER --><!-- copyright and disclaimer --><MAP=20\n",
      "name=3Dfooter><AREA shape=3DRECT target=3D_top coords=3D19,7,166,26 =\n",
      "href=3D\"/index.html\"=20\n",
      "  TYPE=3D\"RECT\"><AREA shape=3DRECT target=3D_top coords=3D2,37,175,51=20\n",
      "  href=3D\"http://www.mcgraw-hill.com\" TYPE=3D\"RECT\"></MAP>\n",
      "<DIV align=3Dcenter><FONT class=3Ddisclaimer =\n",
      "face=3DArial,Helvetica,Univers=20\n",
      "color=3D#666666 size=3D1>Copyright 2000-2001, by The McGraw-Hill =\n",
      "Companies Inc. All=20\n",
      "rights reserved.<BR><A href=3D\"/copyrt.htm\" target=3D_top>Terms of =\n",
      "Use</A> &nbsp; <A=20\n",
      "href=3D\"/privacy.htm\" target=3D_top>Privacy Policy</A></FONT><BR><IMG =\n",
      "height=3D55=20\n",
      "src=3D\"http://www.businessweek.com/bwdaily/images/logo.gif\" width=3D194=20\n",
      "useMap=3D#footer border=3D0></DIV>\n",
      "<SCRIPT language=3DJavaScript type=3Dtext/JavaScript>=0A=\n",
      "if (!window.epulse_content_group) {=0A=\n",
      "window.epulse_content_group=3D\"cg1=3Dprint\";=0A=\n",
      "}=0A=\n",
      "</SCRIPT>\n",
      "\n",
      "<SCRIPT language=3DJavaScript type=3Dtext/javascript>=0A=\n",
      "<!--=0A=\n",
      "=0A=\n",
      "if (document.reuters) {=0A=\n",
      "document.write ('<LAYER SRC=3D\"'+reutersParams+'\" visibility=3D\"hide\" =\n",
      "width=3D\"160\" onload=3D\"moveToAbsolute(reuters.pageX, reuters.pageY); =\n",
      "clip.width=3D160; clip.height=3D'+reutersHeight+'; =\n",
      "visibility=3D\\'show\\';\"><\\/LAYER>');=0A=\n",
      "}=0A=\n",
      "=0A=\n",
      "if (document.banner) {=0A=\n",
      "document.write ('<LAYER =\n",
      "SRC=3D\"http://ads.businessweek.com/html.ng/'+bannerParams+rnd+'?\" =\n",
      "visibility=3D\"hide\" onload=3D\"moveToAbsolute(banner.pageX, =\n",
      "banner.pageY); clip.height=3D60; clip.width=3D468; =\n",
      "visibility=3D\\'show\\';\"><\\/LAYER>');=0A=\n",
      "}=0A=\n",
      "=0A=\n",
      "if (document.bannerAd) {=0A=\n",
      "document.write ('<LAYER =\n",
      "SRC=3D\"http://ads.businessweek.com/html.ng/'+bannerParams+rnd+'?\" =\n",
      "visibility=3D\"hide\" onload=3D\"moveToAbsolute(banner.pageX, =\n",
      "banner.pageY); clip.height=3D60; clip.width=3D468; =\n",
      "visibility=3D\\'show\\';\"><\\/LAYER>');=0A=\n",
      "}=0A=\n",
      "=0A=\n",
      "if (document.sponsorAd) {=0A=\n",
      "document.write ('<LAYER =\n",
      "SRC=3D\"http:\\/\\/ads.businessweek.com\\/html.ng\\/Params.richmedia=3Dyes&'+s=\n",
      "ponsorAdParams+rnd+'?\" visibility=3D\"hide\" =\n",
      "onload=3D\"moveToAbsolute(sponsorAd.pageX, sponsorAd.pageY); =\n",
      "clip.height=3D90; clip.width=3D120; visibility=3D\\'show\\';\"><\\/LAYER>');=0A=\n",
      "}=0A=\n",
      "if (document.sponsorAd120) {=0A=\n",
      "document.write ('<LAYER =\n",
      "SRC=3D\"http:\\/\\/ads.businessweek.com\\/html.ng\\/Params.richmedia=3Dyes&'+s=\n",
      "ponsorAdParams120+rnd+'?\" visibility=3D\"hide\" =\n",
      "onload=3D\"moveToAbsolute(sponsorAd120.pageX, sponsorAd120.pageY); =\n",
      "clip.height=3D170; clip.width=3D120; visibility=3D\\'show\\';\"><\\/LAYER>');=0A=\n",
      "}=0A=\n",
      "=0A=\n",
      "if (document.topAd1) {=0A=\n",
      "document.write ('<LAYER =\n",
      "SRC=3D\"http:\\/\\/ads.businessweek.com\\/html.ng\\/Params.richmedia=3Dyes&'+t=\n",
      "opAd1Params+rnd+'?\" visibility=3D\"hide\" =\n",
      "onload=3D\"moveToAbsolute(topAd1.pageX, topAd1.pageY); clip.height=3D60; =\n",
      "clip.width=3D234; visibility=3D\\'show\\';\"><\\/LAYER>');=0A=\n",
      "}=0A=\n",
      "=0A=\n",
      "if (document.topAd2) {=0A=\n",
      "document.write ('<LAYER =\n",
      "SRC=3D\"http:\\/\\/ads.businessweek.com\\/html.ng\\/Params.richmedia=3Dyes&'+t=\n",
      "opAd2Params+rnd+'?\" visibility=3D\"hide\" =\n",
      "onload=3D\"moveToAbsolute(topAd2.pageX, topAd2.pageY); clip.height=3D60; =\n",
      "clip.width=3D234; visibility=3D\\'show\\';\"><\\/LAYER>');=0A=\n",
      "}=0A=\n",
      "=0A=\n",
      "if (document.marketplace1) {=0A=\n",
      "document.write ('<LAYER =\n",
      "SRC=3D\"http:\\/\\/ads.businessweek.com\\/html.ng\\/Params.richmedia=3Dyes&'+m=\n",
      "arketplace1Params+rnd+'?\" visibility=3D\"hide\" =\n",
      "onload=3D\"moveToAbsolute(marketplace1.pageX, marketplace1.pageY); =\n",
      "clip.height=3D300; clip.width=3D125; visibility=3D\\'show\\';\"><\\/LAYER>');=0A=\n",
      "}=0A=\n",
      "=0A=\n",
      "/*if (document.sky) {=0A=\n",
      "document.write ('<LAYER =\n",
      "SRC=3D\"http://ad.doubleclick.net/adl/'+skyParams+rnd+'?\" =\n",
      "visibility=3D\"hide\" onload=3D\"moveToAbsolute(sky.pageX, sky.pageY); =\n",
      "clip.height=3D800; clip.width=3D140; visibility=3D\\'show\\';\"><\\/LAYER>');=0A=\n",
      "}*/=0A=\n",
      "=0A=\n",
      "if (document.sky) {=0A=\n",
      "document.write ('<LAYER =\n",
      "SRC=3D\"http://ads.businessweek.com/html.ng/'+skyParams+rnd+'?\" =\n",
      "visibility=3D\"hide\" onload=3D\"moveToAbsolute(sky.pageX, sky.pageY); =\n",
      "clip.height=3D800; clip.width=3D140; visibility=3D\\'show\\';\"><\\/LAYER>');=0A=\n",
      "}=0A=\n",
      "=0A=\n",
      "//-->=0A=\n",
      "=0A=\n",
      "</SCRIPT>\n",
      "\n",
      "<SCRIPT language=3DJavaScript type=3Dtext/JavaScript>=0A=\n",
      "if (!window.epulse_content_group) {=0A=\n",
      "window.epulse_content_group=3D\"cg1=3Dgeneral\";=0A=\n",
      "}=0A=\n",
      "</SCRIPT>\n",
      "\n",
      "<SCRIPT language=3Djavascript =\n",
      "src=3D\"/common_scripts/cookie_func.js\"></SCRIPT>\n",
      "\n",
      "<SCRIPT language=3Djavascript =\n",
      "src=3D\"/common_scripts/special_ads.js\"></SCRIPT>\n",
      "\n",
      "<SCRIPT language=3Djavascript=20\n",
      "src=3D\"http://www.businessweek.com/common_scripts/Site_87_epulse.js\"=20\n",
      "type=3Dtext/javascript></SCRIPT>\n",
      "\n",
      "<SCRIPT language=3DJavaScript>=0A=\n",
      "<!--=0A=\n",
      "=0A=\n",
      "userAgent =3D \"Mozilla/4.0 (compatible; MSIE 6.0; Windows 98)\";=0A=\n",
      "=0A=\n",
      "if(window.epulse_content_group.indexOf (\"homeage\")=3D=3D-1 && =\n",
      "window.epulse_content_group.indexOf (\"index\")=3D=3D-1 && =\n",
      "userAgent.indexOf ('AOL') =3D=3D -1){=0A=\n",
      "document.write ('<IFRAME SRC=3D\"/common_adcode/popup_layer.htm\" =\n",
      "width=3D30 height=3D100 frameborder=3D0 border=3D0 marginheight=3D0 =\n",
      "marginwidth=3D0 vspace=3D0 scrolling=3Dno><\\/IFRAME><layer =\n",
      "src=3D\"/common_adcode/popup_layer.htm\"></layer>');=0A=\n",
      "}=0A=\n",
      "//-->=0A=\n",
      "</SCRIPT>\n",
      "<!-- Bottom Include Ends Here-->\n",
      "<P></P></BODY></HTML>\n",
      "\n",
      "------=_NextPart_001_0002_01C1D0C2.ED878900--\n",
      "\n",
      "------=_NextPart_000_0001_01C1D0C2.ED7E6140\n",
      "Content-Type: image/gif;\n",
      "\tname=\"bw_1x1.gif\"\n",
      "Content-Transfer-Encoding: base64\n",
      "Content-Location: http://www.businessweek.com:/common_images/bw_1x1.gif\n",
      "\n",
      "R0lGODlhAQABAJEBAP///////wAAAAAAACH5BAEAAAEALAAAAAABAAEAAAICTAEAOw==\n",
      "\n",
      "------=_NextPart_000_0001_01C1D0C2.ED7E6140\n",
      "Content-Type: application/octet-stream;\n",
      "\tname=\"chan=pf&adsize=468x60&pagepos=10&var=987654321?\"\n",
      "Content-Transfer-Encoding: base64\n",
      "Content-Location: http://ads.businessweek.com/image.ng/chan=pf&adsize=468x60&pagepos=10&var=987654321?\n",
      "\n",
      "R0lGODlh1AE8AMQAAP4vMDJbrkpNSvybnfXx9Kyrt8/N0YOFhper1cGTfv6+vysrK9LW5piYqbHM\n",
      "of5nbMLesL+8wIqffmprb+Dj619+vtb0xOH+zb7D2v7e3qC3kQAAAAAzmf8AAP///////yH/C05F\n",
      "VFNDQVBFMi4wAwECAAAh+QQFZAAfACwAAAAA1AE8AAAF/+AmjmRpnmiqrmzrvnAsz3Rt33iu73zv\n",
      "k4YgQ4jBTBaCiXJyaDaehWhkWhQyKFiCVuvper/gsHhMLpvP6LR6zW673/C4fE6v2+9tETFYPTam\n",
      "gFNDg3xWhFdZW3iLjI2Oj5AeHZOUlZaXmJmam5ydnp+goaKYBAEcp6ipqqusGGJ6VbFGCw1RtgUR\n",
      "srqGiIlckcDBwsOOo8bHyMnKy56lrM/QqgxhsLt+t1K7sry+cQQUEcTi4+SMzOfo6erMztHuz9Nf\n",
      "1brX2AWxh/mIV/lTtk8HovwJoqHAkIARDhAox7ChwzTrIkqcSLHdu4up4nURUSQXlVz1sHUEdAvK\n",
      "k5NPJP80aDKhwYQIBgwaVGJggoADLmNOGDJBwsKHYgwAlfPNS9E6R81RXMp0KYBRFjFK1cjR48hZ\n",
      "texhONkkGy4GCp1AMUDA5QEKZXceqNkkpssoZykw8enGgAARE37iibBhaJybXhb0rSO4WKUHAxRk\n",
      "WDwgsYIBD9YBWBy5KSYAiRdnePw08+LHkRFrfjwKswItAz5FlYoxXlWrVELewkAB15MIEwzeDIIr\n",
      "YMwm4F7CjNCAAZMlaxPWNBiwAN02C/LW1HuHr184gLvgDBxODZMv2xtd9vK0w2QPGcqfG9BFgWVN\n",
      "D7oQUG/+J/0O8dMjA9BetSlWCPzH2irTvBYISLTYc0//QDhhkRtxZBVXQFm95dXVbRJEQIEBFLRV\n",
      "3FkFvDTQc2vwRR0j1l3nRnbUdJcGi5FkYl8lGXRxXzLseeDee5nUOJ8lCthoCX83irLQjp2shoqS\n",
      "A57igQgH4jKFbLZgwBtMALk0nAFmBdHSAUrAZABOMTGAJW64MVAAgyuRqAYFG7go3042HfCFXDf9\n",
      "NCaeDXxhVxKDhVGAAAL02QWeeXnxxwFJEMConV5EQKihYTiaREJd4HaoAPIxmgQFXmTnhAcdbsBE\n",
      "AwQk2oUAoIKHRBMejOpBqjUJYICkrBrF6E5ojDcrffHpmE5jRfLYQY73BVsZJZMpA8CR/rESgAcC\n",
      "NpnK/5NxKoiVQNxiUECHU06IqkBnrfStdBs6ygAUxIGJ1phkNeEEpituQGkXgv2xAKQEbHAArl0U\n",
      "sMECa27QKpx/3CUGX3DJ5y9uC3hxgL0CEzxxqwwXsK8YRyRkqnacepCiB4VKGvGqkHpK6sRMhENL\n",
      "FwZscOIBr/ap8kYC4PZwdKG+dMSJYsj4ayX8DW0sU8GmdlgXSlOC2DLQNlMtKhVQa+0q2CqIC5UD\n",
      "1VTcmGdl+C+XMg0KHJi5gbnSui0p0WUEa9YCqxupbpAryl00cDKjh8oscqBxajdBpoG6CgbfswYe\n",
      "a8jZKV5o3ieDsYFQJKcc8siRBsoi4k+6aJN2kX8BI//ngaeIeMyBFXCGrz8yS97RTBWN5CTBZmAJ\n",
      "ZM5GneTUp0zDu7VZa30NSrVggFNxBNx61nDD4QQTFrcSoCG4cCfkxEu33qqh8kCrYcACC/yUXYqE\n",
      "yls64N2NX7gXcPKK9/uIN96dqSyt/3eolhOu6xGaQ7q4F4rzQMwWAiP8gSdknbvf/2K1ryZszAxC\n",
      "a90kijYfAFhQPRe04CU0SLQLTjCDHYTPsobEwQ3S51nouZ186KMADD6gWOZ5wAgnobsMepASqwmA\n",
      "KzxQgQD4kAM+NEUQUTFE3gVPQQJIUFbYNQUGFaABAtgacSAUhEWFaCZj20lNNmSbL/0LTAZwUxv6\n",
      "ZSj/9a3qJvIC1cgcBynM3WkC/npf5UD2PsXRT15hGJmoLjeYfkVxYgak40bk9LLJiWF0CDyfIGkm\n",
      "r3+tboMzclp7TIMa2iWmkhPMQGNaeCxKEsA9otFCaGqko2RpcgAEmGFiEJMaGU7wMas8VgeC5AEW\n",
      "khKDSBqAJhUzQ/ycMgPLQuGOPKnJEUalAleAWREwwAFkzuobGPgPAuJBgQqo4oj2GB5K7pEbfqyJ\n",
      "S9b7DdyCoIW1OGonWYFbgzQEl+kJQSFyeGB2NNaFz4Fhjd1Rgv7IEDOh6BNfhoofpBT3wDEMEH58\n",
      "BN0+5yjIBHrBJqg7pP8WmEDThUxgbLhMJCdBy8oU/61p5mHaBD3g0ccMU3fKQowFF2I7SrCnMi+V\n",
      "pNN4SUOlAeAxtstRMBWgrJlOgj3lqdEIYzpLkuJQWK7jpCWUVDWrSaML1lQFFowoAq0NSonbNN5N\n",
      "ohgmgMwEbrZYSy04RIG1/eGKZ0kbE4yzljV1zwzggJkhSTY4D/yTL5TrDj4hpx37kWoh/RJKA/xm\n",
      "IkHKD3SApZzk+kSBB9KsrwqNVf8klshw6MlfdQ0DYH5CunBY1GGGkhMZIqieno7UAyBFodKAmtSj\n",
      "IilpTTMtf1oa0lrScHYxjU8wZ4UfkVpSdi4NDVJ7S9v8uM62wjyMfi7B1C7wrqlRzUh0r1XVJT4x\n",
      "Cv9JJB67AnKctuaFABMSkQTQ1qGwfLFDEzLI19YknYSsBJ5sqNhdMptE8IXvoXaz20IVRwD7HkF1\n",
      "h7Mbz+qJhJcZdqDdIcBd7jJRRQn4gXAC311U11/wwRHAE1sAqDh3hCQGxl5jEFgSN1xZBXJusPZt\n",
      "VRk0+isL6nIAJ/TtaZUWpBEqxrWSNFptKxOk2dUoNbMlmlHZA1JU1jaXkWEpJTgp1OPyGLWVWIjS\n",
      "dNeB5TL3uc5dRQAWgoBVMJMVWdNuLZJ4vKwy4Yu4sWIQcJOElsBkJ+OEqJqMw6Fxqo0n3HtD9ES3\n",
      "vEppKA1/fqv0VHyoP7MBHG8lVThgFOgvNNoLQRj/wxS+0K9E7/kNMIEIJNujGPTc56NChnJRrfwA\n",
      "JNXotf3JcWRAvWTespqjqQmSBJtV5RRylKNCmmVvjUqJU++YRrbWHU810VynqsIVFFBFBboM5upq\n",
      "96piXtCYUNUW4qAKIMlTSG/oLKKugLE5YGLvhCLgqES3oYAq+kuD8UBioJB2guwB5nFTK+WfymdZ\n",
      "TUOpjH9tWlzb9idKfVqweD3Lp9DyKTe1t1ETjixgE2DXNhZS1J5GbCwbOxXQTQUCpktde0WbzM/2\n",
      "1k3oxKE/oPMlukHT1mgSoiaitW2Fcgmr3GoHdKf7DTavw/fuotiGsFiCEJ9xqG36BRibp9fD7XfQ\n",
      "/3VaiY4eyygerY8XOFkeplO8p0+7JbNuyfRW/1tY/OlllC3+Ow5wORVfbvYGnvhskBPvHuCEFxdX\n",
      "gl4sLQos5DxOmsQ57XKZySDltgNZbk4HckPC8O7eNNBrjdx9qzbHXbByrVFN8F/TcjMKyLxmnuwF\n",
      "kA58VstK2rE82h+jkzLzqNfMTTmd+gyksgPQChJtSUH2ZyBgVlRjttrF/AS3ZxU3G3oUmIhT1rUM\n",
      "YU24WYtYg7AWJYwtCs7/ElvhS3g4oIUM16++Q95diRy559VS97xeJKjvyve0oyC8RI5SnckvkF5Y\n",
      "Pk4hk22U/kmQ8oU3dC0quyB2GtaeFRnHARsHDf/YwntQtC/E4xvFYT0dIj0a4hLoJS9fcyENkhYb\n",
      "shIL+ERnkSpNYG7aVwZwgkAt8oE+p3jJEnm1RW9QBgAl5QW05Wu0w3+hFhkHlwkvFINeEBqvZBRB\n",
      "5WmzI2sUp3WYUIM/B2MrJCP/xwqgwmwMEA0FyHu+hxJaVQtnpiFtU1Za9BZrIgUJ0YVgtRKS4hsS\n",
      "wDaL4oEkOAYvIVeSI1pnOAw/d4IpBH6ghhndl4M0lHQyqGpPV3m0I0M7FXkJB3mcN2w5RhpFZVuW\n",
      "8EJddxhJZms5AlJjtwpNVXYCiHvL5oQiYIAgdzxdUQTBMW5glGbDMWhtgxPhFgh7UkW5UW5D8F7/\n",
      "ZtiGZOBGAQSLbkgKOoaD37dvoldlwOJbMBh0TgaM3WcaQGIjkhcsOzJwvZhri+hSwuhSTxE1KLR4\n",
      "/ieJWXYKHDct1DKABJiJUIiAYkEmXPEhbUMcg4J8CMElXzNmytcVyuEzuGALeUKL7FNX9FILjuJI\n",
      "OtME8xMiSSAGa6Io/LIrihUemqIdXHI3RkEntoIrKmYp7uMBUkAoPYcrhhKQebNuEGSCKrSC+/aI\n",
      "NKRKolZ+I9RTwAUkvXVCCzEZkMgew4SCoYaISmceQLZvtwZ7wwWSV2aNxpZ2qAAqDOCTu5eAOEFm\n",
      "pmiKi9JW7yUTyhF8IXJW6rI8DNISTwQ2ZFEW/6hSFgnxiukGJwS2KhPCSCIDR8CxERQDYmCgNz2z\n",
      "Ki9xMQiFX1H0CjlDlhEwYHTlMa0CR3MZORmzMWrJlhnFkQ6HcDK2eiP5cEtTGb+odEXzZIjpNK0k\n",
      "aq12HjFmU1Rmf8M1ebfzZLOHH0BGZRuFQ0moe6hwex5AmkOZJRholEfpPLWxVgmxhXbhMw0CJtxV\n",
      "C2flJWCoXtwlF1zCIIRGi4YEPqDiNwwli+mzboG1EaoTUQy1RxITOmtoYiHjnNCpQCRjKGq5nE8C\n",
      "YGrAfQq3LDVCW5BRb7CnSUvTg5Q3Qo05QeZpHpyESpK3GVVGn66zLDWmfpL5a68UjK9UHlSGjP87\n",
      "qQra+B+XSKBQ5Q4FWGaNtImN9AfgEBANeBvJERMd0gBlZW3M9y8t4xJfMwXFcXemyJXpVijf42aR\n",
      "Y0bykJyHNDgRxTkC1VCcM4KfRVGIgzhrdGZwBJjO+Z0kRB4WVGqltDQ6UmqRMUnNQizmgZ61tVw6\n",
      "iYNNo1osKG/HAmOE+AA/kh6lhnCZV4c3oluJyH9Tuoww9gBUWjRWVjR8yCRLCEQM8Dto8Q4LmiXy\n",
      "wpoPaiW5wZttgxzbcxxm4gQWmjNgkQRq8y/stV5nQWmwaJs4cWaBhJxy9AVqeaMIFKM2KoLTWaMw\n",
      "GjI4CjhnNjeTiqm90n2OgXqNoaSXUGqftGr/pupKntkYq1aqoFFqpupiqMcZ8EYAm1FaCHeqRocf\n",
      "lgSrYToeN3JTuqpURCOfVCeruLNJtSqa0kJNHEc1DSCnmdhIDdpA2Aqha8ME3wAWaQYO+AheuOlm\n",
      "T1B8GJobdJeP2tYbgCUfsPgnHIIELqKiAMSilTI52fGXdlVX10lRNDoYiMOv/9SpgaGc+qqRGwk7\n",
      "DAsKxQJDTcEkp/BDV4MKc4qtjKKtd+o2W+MhCfElJAcFIeJ8HKIm1QM3xxE3ZwV8z/QLbTgw+BI6\n",
      "KvoTbDQGgHIwgdMv6TM4Claponqv1Nk3lqU4BotYs6JYNysfSDCqDdu0TnsMEluxWHOtGJux/1U7\n",
      "EJmGoWwxPV3YihHyLSWXF8TxDVKCgRooN1qQK1tAokDxj3YlgiziX4MUqZIKsw6WRJklYqZinDOa\n",
      "qQKLQIOFt5S1UAqWX/6DYuxjtwv7tIzbuJsQtVLbce/VSEyAtxg7VhL6Fi1hLrbxlMfxEmVVtq/p\n",
      "NmBIJmPCBCECWIoAi1hwKMFJaZnGBv9kFIZGu++KFLV7BogGBrP7V0zruMAbvLBHiZFrsVQrL8dh\n",
      "pxI4tiULImMyRcQhAdCzIS2xLrh5EskjHUMAPXGxEomSBa9Lj3UAKtxJj+Q7V2zgq+q7vuzbvu77\n",
      "vvAbv/I7v/Rbv/YrvxdXvLuHvGhjE9GBrf9UeVZr4pvwaBDJh041wXLAgYFyAUVqIrIwMRNAiQXh\n",
      "K75zcAR2SY8YnFkW3MHEQLz6u6AssQT++6lnhrZ7Ijf/Mmhf5IANaKgQmj3aozYGMW21wWZoQcEV\n",
      "7MHW13Pimy5voL9CPMREXMQhDMLFiy0jTMIlzKgc6xJZ6L29Qah5+mZqFRu/SZu50U3w8kSskjyI\n",
      "wMNi7BdGXMZmfMZoDLkhLAK2ycRN7Hw0DDeooiHAIRc7sSbl0nJfURvJkzx/UBxrtYBtXBxfTAhj\n",
      "fMgOgcaKvMiM3CRqnMRs7MZKgLef63yS0i53573m8gR0EsHNAXPSV73wOMJrwSobMgiInMr/5NDI\n",
      "rNzKruwkSBy5SizJb/y5+DjAH2Imt4KF5phm4/YhMHEWOPEtg+ZesSkXjQU9QqDKzNzMztzMkSzJ\n",
      "lMzEDKJOw6c9gOwPF+glNJEcGPpENNGWKMsqnGzKVmIlz5zO6rzOL4tZ0hwdbvwv5sIW4MVFYEUW\n",
      "agETYJyhqCIX5IZFXbG5W2QrQVkF7HzQCJ3QDRHNbjzNJOxEDCKhzicQKFtFFVrD6OQuKNt7E9DA\n",
      "a0PQy+TDCj3S4msKb8VMOyQOASIgPpTSYszQTGxh8XxF3wIiHe0b7AVGeCzHTxSh78IrcHFd5OTF\n",
      "ayYIJH3UFmwKphkGpuDSh2LQYLDDLbu2/89UKV7Q1ERBaeO3TGw7BzA9ySU8025jhRbqXngsxXEs\n",
      "NxdYx7ocIsP3KDmhPbGL1HRNgskGRGLwZU3VBdGUCjpkFH/9BV22EBRbmj6kYm+qjVbj1Dy0ZVHN\n",
      "AU7dQ17ATI7NcUsdCV+9BDJNzVEQRnDTIXtijhHqXgsIViJid348w+BqlQtwJfdQ17CtfU14Coxt\n",
      "oJONjQjAjZQCRIQ22FZTAcAN3BTQZXut1FcN2Y9diXei3F5gTQla2c1UBMzG2I3A0EnQZg6NHF/B\n",
      "XtbzTeMEgcTTMjUdE10kHB6KfD7T2t7S2bHd3ulG2Xj9BWmnjXd92bMdD0KkF75tCmKA1f/E/QVY\n",
      "/QVR5djsw9xQNS3VSuA+5CfxjdnuDNZJsNkPbXKmOLL1fBA2/LzywiHLk8sRTOG1sRKpAmdV4t4m\n",
      "PhRdNoAurdT8zUMGztfxTTVesN8cEBS8bQoasdiU5kPWZN8v3kPWROBWQx0IQN2MEM3XbRMbHM9n\n",
      "VY7ZzBUsgd5iNTbKNya2Uo4jfBveVOIn3uUMYU1F0OCUbTWg0uBgYE0L0UzW1FQ0nttu3ipB/uIB\n",
      "3gUpTgBmnmyX7eLNROS4LdVH7i/YreSEAs9uvChy/OEdokVwQY63TDZgVHwf2xyeqMzrLQVefunj\n",
      "gNUBrukcMA1mLtjI3Uwufns0rgqm6Qz/Qp5lK252Lp7SeH7mtB0GAUJEef4IeCHoSS7h2l3FT6CO\n",
      "sjkck1wTH8tFY2OOWQF3e8AHlY4LmN7swmDSp4nXY97qHvDpzd3p1V41dg7Zbe7mCKBiKc7UyE3n\n",
      "QCTdDf7qAr4kYjDcUbXXkMDGSU4o8k7oTNzr5LYuclyotYHHK4wFnLuFbCclV7FMI/EPRu7sCD++\n",
      "p/ATOB7g4Q7t4p7mTTXbaG41ZNBltT3u+ds7h/LjAdBlBJ4UhzLntm4quD7v9E7CGIqhbfXWcuEu\n",
      "yIs9YCMBKnHsWvMRH/EP95LwPK/wig3yYi7q/w0GzNRUog4zP2nxY4Dx4r5DlE0IIN/x/3nu3CC/\n",
      "ENaU49Fe638u6DYh79m9BD3d0d+cPQFRHKdMBZosslZVJd5yFd6bhj0f93Qw9LPyHyndhAW65/LB\n",
      "hF1w9OTO6tC+uuSe8TuE42Bg+OjOBZLtAQlOAEVPHVcPDHjh9V6/2YEew7jhp1cgVsQBx83xDwH/\n",
      "dvdwfTkPJjfh53Kf+mcQ7jNu5nauje0A3P+hEX5P7qDCOynN9IeP3I8PBv9910Tk4te+ZUJU5H3t\n",
      "7iUP4ZSf8mD/DfIsE1hgishhEga4TYgATett+pei+twPBz102RTw8TseAK1CALMORM501bVeAaDS\n",
      "Q0HU0jMe2AL+1wGC9XW/ZeH//lUD3F/zDwIIVXFlWXmpurKt+6rbNgm1XS8LvQvT1PiCh6CwYTwi\n",
      "k8YChkF5YjCRwvD2o8Cy2i236/2Cw+IxuWw+o9PqtVrmfsPj8jm9br/j8/o9v+//AwYKDhIWGh4i\n",
      "JsKFAAAh+QQFCgAfACznAAIATQAuAAAF/+AnjmRpnsSXnmzrvm6WwSKRGUZErXTvswSDQJLhnW4K\n",
      "h8JwM+x+UGhksdlMIrNjIqHIUGSyiDNKfhmoC8FmMTEYVZoEE0c3LHGUsp50Xk8OaAsHbiMGCWJ2\n",
      "OAoRjEtLe3sEgQuUalUCBQwMEVuLjYwDEaGiBpBlBGpUVWuUqmwFCQWfn4cJA1ulplANB1VsaL6q\n",
      "a5yinwpbnAlxOro/Bb3BlKtpHwdcyBGeyVvccnnNPX2rH2lUEw0FXRm3yXHd797gNKirvr6Dx9uw\n",
      "8PwJFN/yXDSox6rKhAz9Er7LxCCgC0kEBVA6cEuhRVwAHZqIwArYAhEXQ2rS2GKNxDUbDv94MBTS\n",
      "4kiSJgq0krbgWkuLYmCaIACt3AYBAypys3aTWyadJij0mjSh2wSJbJDdzIWUBAWoqaC2qhd1G86q\n",
      "SQFRsYSSICsBLQuA3TlBmM9gZU02tbh250CTWgvC9SWg74SmRLfUTdrAY1u9k8x2FNB08E5A0Vyd\n",
      "nKl42gHHJyBfsvRRWkfPZj9iLkFA5t7OZPXGHTfaROppp/cSbH3iqT02kT8rpn1CyDTKM0HP5m2C\n",
      "AbQPP0/qXl2FeO/DiNMoZ+78iGaufe2hVFW9NvRp011tD77gQfUEysV7FqbaFyFwBN7AILDlO0H1\n",
      "a7qbQHgrPc2ywOhXAkK2JACdR+M1JyBaCQQm8MCB20W4wYIk2FDgAwm4VRB7VUQgn3Oc3DJAW/iZ\n",
      "lcCHzhki1IOvRZQFhSzBk4pwAihA4Qil8fMAYwHQNIGNN+KYQGAsaWIAL1eguOAXTNRQ4Q5KahQC\n",
      "ACH5BAUyAB8ALM8AAgBlAC4AAAX/4CeOZGmeH5Gi7Oh9byvPdJtlNZEZRkQRntgsSCzWjkgTwSCQ\n",
      "ZFSsncKhMOw+P+OpyNUmv7PIYrOZRHCnTCKhyFBut4ghi+rawfiWYbwQbBYTBlAua1Y8hwZVPG8/\n",
      "BI4qj5GNjY55liN7fxMHfAsHgpgJcok8ChGnVYoMkCKRjhSwsT+wl5YEnQu5fmQCBQwia6aopwMR\n",
      "xcZzrsrLsrV4BH5jZH+50oANa8PDogkDhbOyy6/jtM5JBx9kgHzq0n8RosemCtlrGqKy+foElJPm\n",
      "SAIOTPtQbVqfCRLYZIsgDN6ah98YSJzIIJ8rWb/+HeE0TZ2AMRMaFGijhluCexBT/yaoSLFiLH76\n",
      "9GmkAa3jH3UfGJpMUEClzzWwWsbc92gmjQbpDCadUPKn04e+hLKMCTOf0Ra3kvLKdcDb069ApVIc\n",
      "2uwqiwjU2C2I4AGs25ZwyVo1q2TCn483D3gw4BYs3Lhy+dE9IaYaH4V9v476O1buYCUC744RMMDr\n",
      "wwOJP0Bl3Njx4xIUBOKaAHHCR0D1+iLiPBTmZxMUTkc7XdAgaYdgF7MOGsslhdewOU02aLOdgL5R\n",
      "d/uWCbwEgQnu+kRn55G04t3hwJVrToJAA4+0qRmMLqD8BNKYN2Mnyx12A7XQxd+sbbOaAM0FMKzn\n",
      "9ypWexTW1CZdWu4U90dXuv3l2f9/JeDFyy7SBUhQgQMt0A1nnWnH4AkFQFhgHx05eNNAGxznA3ZV\n",
      "BbUhYfWNmIs67RhI0EoUrNdbRiuWEJ9t7bxomIwEfVKjfoxh9FuOJ+xCIC70AdnAkBiOhSSHkT0Y\n",
      "4IsjytjLEkRGieOUJJgWoHEiUkiiABhA6SWYJ/BlZh8QwhjdQBOk6eV2bJKQAUcdDQjjfH9O86Q4\n",
      "QBRR2aGITklAAg5aI9+HWqnzhB2UVtrdIF94QdMaOxbnKHUGDVDpHXmWoIY3jfroYpY4jUpqqSOU\n",
      "5M2Oas1nJlOudgGrqQ89QCugoPKiQK667urCqQk8kMCcqtokKrHQ5gmPNwNA96lPgQmoAK2lu/Jl\n",
      "ma9KGigAGtsWayxfPkWDpbAulKsprAT0pNIDAkwQgI8TDNuuu8Y6l0B6K4VlQAMHmIGpCPz2C9oO\n",
      "5F5ayRZGCAHDu4OFAAAh+QQFMgAfACwUAAEAEAE6AAAF/+AnjmRpnmiqrmzrvnAsz3RtxwRx73zv\n",
      "/8AgyfMhCo/IpHLJZHmMzqcU2qxar9hscUo1cb9aZeNz+EgkB41jzXZALOG4fPXtjurg+aoxPqAP\n",
      "gGUifgILhocCaBIXjI2NepB6eGBTBBSTmESZdjITAhOgfmdnGqWmpw4aEmoSCwKFh2cTbxa1theR\n",
      "uVqbUFMLG7zBlTo3r4CrbcnKa6prE4av0KOOt7rWVcIiT5YHDcKTSBMHExJsEKlu5+brEuQQGrDR\n",
      "CxMaBw7Utdf6Sd8CBwQGFHwwYIBCjmwGEzLQQaGhj3H01pVSps7NAVezUhV6tVHVInz7QgIR14DA\n",
      "BAJSBP9cmnJxQgIHBjLINDDwgAFPNLt9yMFz5wiGOx02pLCDHDJ0Ds6Yg8C0abt2GSFI2BgtjQRa\n",
      "jkRq3bFBXMwJBZ7QRMmyjIIMFGRSIGigwIcIHyaIWMmzbs+gIxwWJZVKTdJy6ZiuOffpgz+Pqjh2\n",
      "/HCP2tbHNDZEIBBBXAKUF7/Ajck2YAQFAUOj5GnQbg5tDIn98PiXFeB3nhKdi03PI6DY0aZRkwC5\n",
      "twsPkg38MnwgQjcuGd4SBG0gQoQBzuFOPj2UaAnTlqrzEOWnTRk1GnDLVjVx1JkDiufVw5rPt3sV\n",
      "RCII+OBqg+EPDUp7oPwBdHQF0n0wgAgFVafdT0AhIQr/KKPUU5s4a0wlgBqCpcJgO4q9Qp5j73VY\n",
      "whPz0OePCBts4EoBBLn1FoAAPqeiigysNVBeBlqHIDE27mCVJ2b84eB5GF7VBjzzjJPhArrZ4uGS\n",
      "qAlg3yGGGVKiK2O8BZ1zAplQQEMM0FhjjkkYBdF54qDnihsOogmeYZ64kiE9V2XFZIfbfFCinfQd\n",
      "UqKJb7312WcoRLBWl3N9CeYREPlxG2+gxHbVOeEtgk49/lCVYT2NtTfnex4cYN8rdu6JUXECFQDd\n",
      "CoIyoOoJhoZjTKM7JlJGOhEy9k4pU7WZ4SukyLmpexH8AuUvJoIVkwIJvJDqqqweiMR8ZIhDTlJ+\n",
      "vBNY/4QHMLVKYrtyhKQq1fzqWwZO2vekkwIUwGIC7BaQ7AfvorClqsyW4OwRNyUii1K8+dUUmqNU\n",
      "q4p4R8IZrriQNbDnnb8I8Bm7EEecbLwnFESvCnr5VGgPnqxi3sBpJCNVXGcy80y3IkjQHAWPIPwY\n",
      "AcSKat8ByEpsM8UmYEAvoc1mLIQnoqyxozhHaSCVNFKV40mZDbA7gAINVHBABRNEwIjLjxWw8AaF\n",
      "bEDzzWCHjeLOPdv7waE2SFsObNwSPZFU9NhSwGcD1P3A3XcDMEAAsfHNMtZbTbD1Lwd4EPbhNy/L\n",
      "s71E1RsEOeKUItfAHNlDS0AK2I033gB0rsADeleAAf8fUWsKuD4UOCmlsDvZPADiYI99MQo2KvSD\n",
      "UeclAp67dQ+wOeidA/BA5p9vnvnrFTDQAAZU/336PhGYCEuJEyhQM+zY6zw742gDsa0Ez2met/DA\n",
      "d/57BgNk8EDd1hPg+wOiB6B8AKY/rwsDgh8ibAKvRwyLSwlwDvYSILvFeUkoOHqIXBLxPt8FD3Tv\n",
      "+93T0pc+62XAfTl4QAKSN4HRTcAAuLCfPm7yJP1BTC4xExEABxiBnRlwYxqjUVGiMQHfuU99eOtd\n",
      "BqyXPg+kb4ft+xwBHiCTz1UgAlTjGwhFqA+AyKVE81mdlEwgPVAk4ABXzCIWsUjAzsyIe83aASxc\n",
      "4Tv/9e2wgk/joQeO58OzEO9z4tubAAIwx6pBgIn7oID+DCOzKQ3nTiQSwbAQwa4WXqxLizPUC2kw\n",
      "RgHYkHhPu6D1MufD9T1tfb+72+uWJzU+zG0VeAwJep7EJ2GZaDh4GsHWzDUCAfDPhYg84L3EiIi7\n",
      "mdGMwyMADzOXyfUlgA8IQEADhFmABkwOFIkIZUhICEURRVFYxILSKkuwgASAZlCrSqShugeDjZCR\n",
      "iETUpS4tubnejQGYwuTDbeSRiAUKQpn6KICUpjQ9hklRT6ykZtW41JkX5shnjORIDYnYwHJuknQV\n",
      "+AAGMACRbtHwKYWB5z4o07VTVhQaqHRFNFFwohhp/2+R9gLpCwqgmIHm8KD4SWcDAiEpRDhUPRNw\n",
      "QKMkOlEDXMSPMSMlKv2oAgEggJ+wDKqqnFaDkmaOdFEDpjoJJqlQvHQeU1HFO2mKugaUK6fR1FOe\n",
      "UmAuAeSHAgsV6s4aYhcU6IAThhHo6DwJlzFEo6SvuIdM50GwT7yCHJ/gDVW1Ih+ZzaOUeZImFUmw\n",
      "AATEKKj6+UGGRLA0RsVlsXe1xTMWABG5kAEN5IDHTPcqEgo0IGaIGI5gdwpIVS6gATFK7LO6hREy\n",
      "NaqktIBAPMr02NxISByc1QplBCeqckkPWiXIpyq7ckEmuOVN8RAFVOTiKFu0AkrSwg2S0orX3IoE\n",
      "IP8JiObC0hoq047gjybKUhN2hUxocOe1/rDF0d66XLsmU0PAtW5IKNDXVXZtp6kk7WWs4FBv5bWy\n",
      "/rgHUywwlalA4z4nmxBxJCRf3SrAt9rlk07pM1wBiNe4JYWGt1q73GwNmFqysBQNNZu7BmslAwmo\n",
      "aB/xS9pqXsGqd43HkVxxG3cE5l9nKIR00/AJoJlYKwbg3zP8OqUJh4prybECjKX7UjPIZW2OYIop\n",
      "WvEJN+X4rlP98TVQXLc24dREYCbRwnDGBBj796UTIsWtPlw0qriCUtAKj5b3gWKIPaCeYDbl1iaQ\n",
      "ZCUfibyK2ZbRnpIO1sjUW/S46yqyPGddZCACTtPg4DzzDGZRXbgKVnWTiHeFJAsIph0eRsZERCDQ\n",
      "XJUCFo0OyXOclmIVr3IDCejzFQDd3wlJmVHlMMVg1qngRR841Xnkn8Q88WXqXZq/yO2vITIyioig\n",
      "w9PS4lUpxgFs3bJaYhzhwCFiHYdaK/sDrDgGX2qRO38sr9pboUzYdBYBPkwmDmYWqLcrlxRpfeAd\n",
      "uT7DCESKbmuom4uc6fNp5jDvWq+iTFbRa789BJAMGEA110hPwdPqCqgs/OI/QM9bCy4ejHv8If5N\n",
      "q3vPbNmPm3w77OzvyVeecf2NPL4sj/kOQgAAIfkEBRQAHwAszQABAFcANQAABf/gJ45kaZ5oqq7s\n",
      "6b1tLM90bZfEl998L2aZGCFjMEQoO5+yRTAIJJnkiahwKAxEA3LJTUUWm80kEpwmEooMBQiMaLvw\n",
      "kQG8EGwWE4NUp0lgi4AGV0VrSASHiDmJhltxJXN3Ewd0Cwd6cglugkUKEZ5XgwyIIomHFKeoOo4j\n",
      "BJQLr3ZhAgUMImedn54DEbu8WqU7wKR7cQV2YGF3r8h4B2cfEbjREZkJA2e/qKeKo9zEXQcfYXh0\n",
      "4q/JC9S8uQpn1Al9Rx/a9NrD3nACDejL6AITEtB8yOSp4JmDB7UwWMiQgT1W80jVgjMpmTkBYCY0\n",
      "KJAmSDWEIBHWajhxRL1Ujgj/xBJ3x5yldu8Gfgxp69kHkiQeshrVZV+ylmEmZKBZIOSzowlo5Vyh\n",
      "s0urnxswVrpmlGYJkRRukmyY4huPCMrKQfNQ1erVhCK2Mlx1gsCEOxhbHvBggKbZsza1mizJFsUy\n",
      "c2is5k2BUJMJrn1HvAj3oY44AQOoPnMWA6HSw2sTi3hBIZyrCTYnSBUgIiYKkSn49n3BeXRjqf3Q\n",
      "gTZtonBqviVV92DN2XNUdFDHOSZ88PIjxBHj8H7hFhlc5+eg/zt90PDxeVlVebWxnDUBn3VgK+Pn\n",
      "T8A/0M6Ky8jexXse0QaM0YlEaVzY4GH/YTuRWfv2GrxFFcFbB3zBTGx1uOIc/35TWSdHZii1B0ME\n",
      "HoC1WFyykPbcgbEFt4A1KHDF3n80sDaWhR4cMIuG55Tw0zn2QSVAJuyR0J+Nut3gwQYUoqhihSJY\n",
      "1NgIzAiH3x1+1LgXZjl+BeSFiy2Ih3DR/TUCVJVEFAhOSyrn4wec1WHRX2FZSQKWDSiZllpN+uCj\n",
      "AKw14Fgy5gnZogkyFpADBvzhuEp33hUQjpEihLegiz8JgEFWfGqWAqCsDXWoCOaZk8JPEySnwinX\n",
      "sAWpBxlU9KKGKiy4QZrAJMLcISaiAIOOgCag4R0xikWCqQtE8amjJnQ3VAKZslSrCZMOsCuvLvA2\n",
      "1DUYNgbUrcQmQMCryMYQ6ZoZ10xwYKFEXjmCUNRWa+0LvybwgLbAQSvsBwIoEK644w5hjbkJXFnf\n",
      "pBFMCy93L1BzzQDaFjnpQPruC+ALdUl2LqlBWiRABu8a3AJrdRlFWofsuhuxxCsEKhNCD/wTAJET\n",
      "aLwxxyp4l0A42GBDgQENHDDGtCejzAJnREDcnaqt2lzip0D7zC/QxwotA9FFG3100TUrPXHSPocA\n",
      "ACH5BAVkAB8ALM8AAwBBAC4AAAX/4CeOZGmen5eibOuanvqmcS3PuGvv5+7nwN5P6CFQfLxgDpmk\n",
      "xRYbpnQ6RFFrItuhccU6u6xuLCvGlpulLWFCqAmO2oXgcPDQucWJYSIwRARvNQQHAhNwVCcTHxEq\n",
      "eAYfbXFzXIQCNRsCERMbBxELbDGFmguRUyYbjDF8MQcLSHNaljGoHhFRdrIGtx4LBVenqR6PbbA+\n",
      "xayyHrS2yKwLdK11iCTKwY3KBq/SzbOMzLjO0J2/1Is2fLpMx+DdtbeEMQW7YtQqjJG6HxPqdZHw\n",
      "7d/+EdiAx5qUeooEuHpCkIk8hUf+VXPHzUODDQsyfmEywkYEawNL+fAj8kytbGA6//qImMykS3Jk\n",
      "bBiQswHly5sH6+2IUBKnTy86fwrNWWKoUSRWjiq9AWOp0RZ/AsUYVMhmgQJRbdYChKfAtgbb6L3Y\n",
      "F2pChAMf4GzKNGGhu6vPLLotZBJHjGGhpP375kEAngauBqLc4OuMXXbs9u7SR0fRmH3p6tqV+E/x\n",
      "pQniYgBGXAbIZlVkLY8JO/WDgXVic9AamEq0HVJFbBbaAIeAnJRAMH2q4ZqAgA+/v35wSwEjbiAR\n",
      "Dl2hwHPHBLIxKPREqmTjmSOCX34YMEDJzba7U4+pbr0MBa1Ayb9wqv7w0/bu38NfL38+/fr2w+DP\n",
      "T0Q7/yX+/QegZAICQWCBBlZR3gN8IQAAIfkEBQoAHwAsTgA3ADQABAAABT/g91GRaJ7oSRVp+zXE\n",
      "STTtZC9u3gg5upSmCA9FwfWOSJcwRdlQZBOBQUSITk2UA+1ziFhFBwGtcXhyBWiqNQQAIfkEBQoA\n",
      "HwAsTgAyADUACQAABbTg91GRaJ7oSRVp+zXESTTuZC9u3gg5upSmCC9FwfWOSJewRdlQZBOBQUSI\n",
      "Tk2UA+1ziFhFBwGtcXhyBWjq97XZfhYGghEul4XBAkKB15iMPgY/L3xDdEaAC35FERFwi41XIktc\n",
      "Bx9LjWYfAiWbljyPcB8eHjEGjQeoJAuoZSdAlJ6SC1tDnUGrqaMiC0+8J74pk6ixVBsinRNuuzGy\n",
      "YX6Dd9BDIh7CB9U8BzZ+Hp1FfkY7dyEAIfkEBSwBHwAsTgAtADUADgAABe3g91GRaJ7oSRVp+zXE\n",
      "STTuZC9u3gg5upSmCC9FwfWOSJewRdlQZBOBQUSITk2UA+1ziFhFBwGtcXhyBWjq97XZfhYGghEu\n",
      "l4XBAkKB15iMPgY/L3xDdEaAC35FERFwi41XIktcBx9LjWYfAiWbljyPcB8eHjEGjQeoJAuoZSdA\n",
      "lJ6SC1tDnUGrqaMiC0+8J74pk6ixVBsinRNuuzGyYX6Dd9BDIh7CB9U8BzZ+Hp1FfkY70QQRmaQR\n",
      "uufpoumj7qKm7ukEBqTU5O358vsn+v7sAP0J3MfPxEB2/w5SKxgQhcKBCflJfNcvIkR/IQAAOw==\n",
      "\n",
      "------=_NextPart_000_0001_01C1D0C2.ED7E6140\n",
      "Content-Type: image/gif;\n",
      "\tname=\"bw_logo.gif\"\n",
      "Content-Transfer-Encoding: base64\n",
      "Content-Location: http://www.businessweek.com:/common_images/bw_logo.gif\n",
      "\n",
      "R0lGODlhLAEyALMAAP3y9MwBNNMkUNxNceJyjfXM1umOpu+vwPrk6jMzmWlptJ2dztDQ5uPj8fT0\n",
      "+sDAwCH5BAEAAA8ALAAAAAAsATIAAAT/8MlJq7046827/2AojmRpnmiqrmzrvnAsz3Rt33iu73zv\n",
      "/0BUYEgsGo/IpHLJbDqf0Kh0KpUkrtisdsvter/gMDdFLZvP6LR6nbSK3/C4/Ctk2+/4vH7pnvv/\n",
      "gGMme4SFhodOfYGLjHGDiJCRkneKjZaXgiOTm5ydT5WYoZgknqWmawOpqQJQoKJXCrGyr44iRQW4\n",
      "uboFBgSshga8p0i7uQQBBMW4BsjKaQYHEwOtD7RbCwsNEgxa2QvWmR9HAgXSqgYADwe/egLSw+Pl\n",
      "EgPsAQPpDwj1AvcPAATT1BiYRw3cFgXbsiCUoMCglhBIBkwwIiAdgHp33BGER3ECxgAD/9UhGfjx\n",
      "TMiAiao5zJIQy8IHDVdegXhEooSaEi7uGciM4xEEG4vYBDDywJ2TBWXOfMAty4IH35QmoGnE5gMk\n",
      "E475lBTtQU8jHo8cQLkG6SeVSltKDdch4sQj8r5uRWSzAE4JcgNUxGM25Vq1ax+CcHsTLl5+qugN\n",
      "Qazqo4BevwSwSqxYb2J2/EoSQazZHuTFFAkYqMxK4wOMB+TZFWq0CGcmjY/0beJK4SzbsmLC0r1F\n",
      "bW7dv4HH+pI7DFWhb117JCfvQUDmE+QyN2AAAbMC03C9a4bProCu/rS6LgCAOgIEZPUuQ+eLKBEC\n",
      "AA5Auzhgtbz0AKwaOSB+wPn5BZSEDv8v0axTRF/BFFNEbQlk0wA2DTSg2wIMaOPGUxI4EJVgTSVQ\n",
      "4QQxUehASwxMoOFBDWi4gAMM8NbbYHddZURIct1nBAF4FXFAa3odABRKXZGlUYC8SBakawDopN4D\n",
      "4gUgzGIFALWZknohAMBqNI4XAD5k6TMEjgEuliRqIn35QJhDzNaPOpUNUVuJG3rIlBYjVsNAUxjG\n",
      "uVSHV5QIk0IJPdgnQ0494EAW2ujJEoxVJWcmejMGNYRNX7mTXjkozRaABLxUms5qeqUjnQSRnYak\n",
      "jCCBOumZq+Zz4DFdVbqaTWThSOVAVAYQDaiakleSK0/xOWicflKIqKEvCouhi9swEKf/byPGiZAD\n",
      "LmJxHBFWUQcNAvyNJKk9Oa6ankSZfsspAkbIQ0RXGJWzGo4Y4UhElHCtZho7XuLI6pc9lYOucl6J\n",
      "WSa2G6mZ64JouURoNwvL+UADDP+5qLINLxWhFhZi4ecW2ghrLaPIzZMKAbv6EqlzjQa8an7plosy\n",
      "wkymS+oQ6fx7y8xgYuSek+rUU9+8EmhFzmJh6VqaBDwSAdS/+japF9JpBiWAl20kPKjVsKjlJ8US\n",
      "f8w1sxLoufGeW4z9ojgxUuQvWZpSutkEBZhsDzuaFg00ynUZFrNpY733Xk4GsCNeSK2JRgSXNEet\n",
      "8s2m2giwe2ZV1NmmWEsAsSCHXu3i/7IcRgw21mMv5LGf1U4FMsGFuQZUzIqPG67iE/R9oLmp3z1N\n",
      "SFfugk9P4Plj4JQUICB3q/+iqWuOA7TWFQLFvLO6Mm8hNfXBYFktehd1xkS6550X2rXFZV+Y4Z3k\n",
      "+wkVWxwQhmoR+irZ9uuwRzf7y0RwqvftnFJ22WK9w09OBSyrH6mmxj779WII8hiL/lZBOSYtMBWt\n",
      "+9/AsGI9wGRhew67RsVM97XuXVB8TAlOcc7mAfUhwTRaed/iNnMAfECtddVTFQIJEhIZKiF5FchL\n",
      "MirADnkQgGQAOw3V4sIExC3hJLzYDgW1cD0uWEh7oODcxLg3RS2MDUMeA8O1WrU+mP/1RFNZ+lKt\n",
      "mvOLuu2LcdPI2wlZEbjNEGB17knaY/DBI8LJTmlB4xX8XMMKx9VEcdwCSU40U4kmnk1jUdygBaXo\n",
      "tfCpBItdKJ3p0JayLgqQdb16HTRqko4U0s6GNtKIzfaTHachgyCmck00djaUna0LcKhL2i3YGLQT\n",
      "YumFPJsgwrYwosy96HIZpGIjvQe20bnBkFYs3RbBVTvUpXI2pvkKOj6CI0/Sz01ntN0MU2kEneAC\n",
      "CdGYxgrxWAQ6HkFf3NySq+JBNF3yC4btvKYAHVmthWzIbFhgJNmI6UFEoiVjTuzCMvWjN2lKqgCx\n",
      "IgJPcBIQM4JyIzYxJRB5lh5wscL/Hx/55itZ97iTfaRbM3TlYqg2G9x9xBXR0iAwg8nPKuZTkXOy\n",
      "Yh/0eQVsCPR0XBQL0jCjSexospbss5lD7/dKqonpF+U4WGqwabwqNUlfJSmHLHkmw2ScKi/yUShQ\n",
      "7zZVVyBkpVdwALWOhTWaLhKmxkxYicCaDS8cRxXNScwOhafT8iQvQEOBIDr88zv4TKY++ZPMAELi\n",
      "HHogho6V2RU9BkslXEytjXP8hVfeaDLmdGSqUTPl/8bCj9RgpCJeESxCJwXYMymms7FrU20U4AAJ\n",
      "wSJCwMEQVGISCwu1SBayHU5tt6FbDFGLtqwN23Dk5FoFVEiSkyzhvJSxnuHJZmmQ9N0FSJjxmKT+\n",
      "Thm+UIZksIutFuajjfOaxneW9rstTca7T+qmKVelmR2eab16CQbSUKIMZiSjGF9hUINsK7by3akh\n",
      "/r0TNgLcIgIvwLgBTgCC/bsh41pOUYKh5FwmnATJVLiiptBvYP6CUwp7+MNV27CISdgWEJv4xLsc\n",
      "sYqTW2IUu/jDGl6xQZb54hoPI8YytgaNbczjTuA4x68IgpCHTOQKAHnDRU6ykntw5MCEoMlQjnIo\n",
      "fixlRjy5yljOci20DI4rc/nLYP5YmEXh5TGbucpUPrNxQKDmNkM5zW6+6ZLnTOc62/nOeM6znvfM\n",
      "5z77+c84iAAAOw==\n",
      "\n",
      "------=_NextPart_000_0001_01C1D0C2.ED7E6140\n",
      "Content-Type: image/gif;\n",
      "\tname=\"bw_arrowbox.gif\"\n",
      "Content-Transfer-Encoding: base64\n",
      "Content-Location: http://www.businessweek.com:/common_images/bw_arrowbox.gif\n",
      "\n",
      "R0lGODlhEgAPAJEAAJmZZt3du////wAAACwAAAAAEgAPAAACI4yPKZuNK5yE0lE1mYrtPv1xIbCJ\n",
      "x0KWXaombFuFMTwHXg0VADs=\n",
      "\n",
      "------=_NextPart_000_0001_01C1D0C2.ED7E6140\n",
      "Content-Type: image/gif;\n",
      "\tname=\"logo.gif\"\n",
      "Content-Transfer-Encoding: base64\n",
      "Content-Location: http://www.businessweek.com/bwdaily/images/logo.gif\n",
      "\n",
      "R0lGODlhwgA3AMQAAP+NpP+csP/X3/8TQqSk0f/J1P9bfP9sidTU6f98lv8lUf9Kbv+rvP84YGtr\n",
      "tkJCofzz9oiIxP/l6v+6yLy83VFRqLCw1+Tk8sjI48zMzJmZmWZmZgAAAP8AMzMzmf///yH5BAAA\n",
      "AAAALAAAAADCADcAAAX/4CeOZGmeaKqubOu+cCzPdG3feK7vfO//wKBwSCwaj8ikcslsOp/QqHRK\n",
      "rVqv2Kx2y+16v+BwrEMum8/otHrNbrvTH498Tq/b7/i5ePTu+/+AbHF5hIV5ex+BiouMcIaPkHJ7\n",
      "ZAoBlgEACQN+CQmNZJcBlZcLl2wHAQJqg5EVFggOHhEEkXphZgGJHQEQDX0FBZ9kE7oDHxNkDQKb\n",
      "bACqjrUeDx+xGBDRHmJmALodx30DzJ8HH74dAhJkBsFtzqvY2bEPFdjaZdxkxgwCAgcdAAUCdBhg\n",
      "6QCAA/zOFTiwLsCmAQwAMNjUgAEDA/4SAMCk4IMnBRA+KNjlMOLEgSY3/7lbIMBSGVbSCBCgEIsC\n",
      "glkIaEly4AADAg8EEFiIgIDCg5gWKNCzBWZbIgUMCmwSAIAMsA4JDGAN5u5cvwESPFHFqmrCpgkA\n",
      "GghsAKGDBGQHyPkrYGBsAlV2VXUVoOklnQu0KlyI9eFChGkRdgIdhOACBQ+OPWDA4MEBhKOSbt37\n",
      "AAAggKlVO1wFMMEXg3/PCqTrsG5BuQ6uFxQAoEABgAUQtApk0FYgBAajXscWnshd3DOsIrBCQPnD\n",
      "Tw85FRNgfBkoggofEmfTnk0zGXwDJQQbKzoY2w8CFqC2KpD1bM4b6ZI7NlLABwhVDXwo1WFC2Ijw\n",
      "BfBeZwKidgAEI5nByv90cxBwzQc6RRfPYnIg8FxQDnxAAQGvcGfPd93kck5oVxkwAAASiNTVbOoU\n",
      "kMAHzIRjAFQQSFDbAQV8cIAxAmj1Il36xfhijKhNAAE7fsnBoBwWPBihTtRQCN2FsEQpx1LdNbVZ\n",
      "GUaO2EFHwRSQYAELrBjaOg18oFUHBzSwmjELePJPVQK01UGaDDSQ5pptqkmGP+7oJycZyX2AWVHZ\n",
      "PCkdY1Q+AIF2DnhogwYamEAppT+YQUw4CUDgDwMSyCbBMgUIoMAAy+wTjgTt1bXLMguc9tsADZAZ\n",
      "6i66nUZGbqDAeloqA8T66lQQqEcoHRQ85sAFD0xjgTSRZZiYBYZCdoH/HBgwG8EFFTjwGFMyaMAB\n",
      "BxuQm8EHGZQ7LgeV9kBJKLcJSZtBDJ04byqYWAKAAaYYJKcBDWQywI37krHAmv+I428ZC5MUQCmW\n",
      "JAiTLDIdJRMBDlw8i0wbE7BxBB9XVjEdM2hQ7gbqkpvyuu3yIMzLMAsCz8zgvrCByetykMG4N3/A\n",
      "sg8xBy20NzTTPEPP6W4gArsj8IxIFEXPXDIHI5y7c9XjnutD1Fx3/cjEXhdCg7nkoqv00kz/EPba\n",
      "bGfTtiE0iDtupZh+cHIQb+ddNNh61wzDuiXc/fTgSshdtggna0344kTsrPPJct+cNuOU/+C03T/7\n",
      "THXlnO8QueFzN91y/+ekx52z0+pWenXprMvgOM+K44zy2a3X7kIGlCpOAu4a6G7778CfUDcWmA6/\n",
      "h/HoXhq777iXMDoM7c4uvc7Co9xu0s+bPHu4s+M++6U8j4t15jhM7kO5gZOrPeLPpxu47y30bHe6\n",
      "j5ucwuXq6l5u7+XCz0LomkvazjYwQBGI62YFXAEBWSA/H8jNeZsbYPN6N8FzFa9ddbNa9lRnPpQh\n",
      "TmkYbNndXveBSwnOfZfqnfJUeKkRoA9dZcMU2c4mPgN6j27em5/conczTBEQU0mz2wJxILn0jcBw\n",
      "ODug+k4mPpwlDWXU+6DOAPhBxJGLXTssIcvURcDTpW9dK2NXzkTgOP8ohq+LklPazkbHxNOdbn9h\n",
      "9OIbn1cyyenucJjrn7iSdsUfZu1xYrwi1p5IOxhqbW5pPJsSrSdGuomPflfEohjTqLJG8oyLBxSX\n",
      "EzHXsgJGMnwH1NwUoXiyNkLRfzKYXRSXRjssgvBmXYRhpZSGPk0+rpVUgyMJxCU6k/HyiL2bmy0d\n",
      "GcG5/bGRokSZ9xKoR3bBUWe4m1zotmhJpbHMmVOM3OYCeIO6eZCMTKOfOL93wGj6zInmsuYQ0aey\n",
      "0f1yZ5B05rnYNcAdtnN/nDynKI2ZOheGM2sr4yLa0FZJdlIKjHEs2ydVBkU6Qi9tADzg9jgZutf1\n",
      "DJFlu+gQy7jGquFWs3hdZJq67Iazghqwj1q0YCNN1tGTAvSS2NwkDNcVzVvCU4lZMxw+A2lPPAYB\n",
      "lScAKgvgWTqhYs2hwTNgIZPaNPMxtWpIDV7unkrVqlr1qljNqlZJFwIAOw==\n",
      "\n",
      "------=_NextPart_000_0001_01C1D0C2.ED7E6140--\n",
      "\n",
      "\n"
     ]
    }
   ],
   "source": [
    "def get_random_ham_content():\n",
    "    ham = random.choice(hams)\n",
    "    return dl[ham][0]\n",
    "\n",
    "print(get_random_ham_content())"
   ],
   "metadata": {
    "collapsed": false,
    "pycharm": {
     "name": "#%%\n"
    }
   }
  },
  {
   "cell_type": "code",
   "execution_count": 24,
   "outputs": [
    {
     "name": "stdout",
     "output_type": "stream",
     "text": [
      "Received: from 192.168.0.2 (ip-213-177-135-32.dsl-static.scarlet.be [213.177.135.32])\n",
      "\tby aleve.media.mit.edu (8.9.3/8.9.1/+ALEVE) with ESMTP id OAA25061\n",
      "\tfor <handyboard@media.mit.edu>; Fri, 14 Jan 2000 21:31:48 -0500 (EST)\n",
      "Received: from 160.200.173.92 by ; Fri, 14 Jan 2000 23:32:43 +0100\n",
      "Message-ID: <UTAKSFJNGFTSCIJWODUMQP@Cowan.ru>\n",
      "From: \"Blake Carlson\" <Blake Carlson@es.co.nz>\n",
      "Reply-To: \"Blake Carlson\" <ElenaRandolph@ukr.net>\n",
      "To: handyboard@media.mit.edu\n",
      "Subject: RE:.\n",
      "Date: Fri, 14 Jan 2000 15:30:43 -0700\n",
      "X-Mailer: Microsoft Outlook Express 6.00.2462.0000\n",
      "MIME-Version: 1.0\n",
      "Content-Type: multipart/alternative;\n",
      "\tboundary=\"--938633797716654203\"\n",
      "X-Priority: 5\n",
      "X-MSMail-Priority: Low\n",
      "\n",
      "----938633797716654203\n",
      "Content-Type: text/html;\n",
      "Content-Transfer-Encoding: 7Bit\n",
      "\n",
      "<!DOCTYPE HTML PUBLIC \"-//W3C//DTD HTML 4.0 Transitional//EN\">\n",
      "<html>\n",
      "<head>\n",
      "  <meta content=\"text/html; charset=windows-1251\"\n",
      " http-equiv=\"Content-Type\">\n",
      "  <meta name=\"GENERATOR\" content=\"MSHTML 6.00.2800.1081\">\n",
      "</head>\n",
      "<body bottommargin=\"5\" rightmargin=\"5\" topmargin=\"5\" leftmargin=\"5\"\n",
      " bgcolor=\"#ffffff\">\n",
      "<font face=\"Arial\" color=\"#000000\" size=\"2\">\n",
      "<div>\n",
      "<table bgcolor=\"#ffffff\" height=\"270\" cellspacing=\"1\"\n",
      " bordercolor=\"#000000\" cellpadding=\"0\" border=\"0\" width=\"100%\">\n",
      "  <tbody>\n",
      "    <tr bgcolor=\"#339900\">\n",
      "      <td height=\"46\" valign=\"middle\" colspan=\"2\"><font face=\"Arial\"\n",
      " color=\"#000000\" size=\"2\">\n",
      "      <div align=\"center\"><font size=\"3\"><b><font color=\"#ffffff\"\n",
      " size=\"+3\">Hey , nice talking to you the other day.&nbsp;</font></b></font><br>\n",
      "      </div>\n",
      "      </font></td>\n",
      "    </tr>\n",
      "    <tr>\n",
      "      <td bgcolor=\"#f2f2f2\" width=\"480\" valign=\"middle\" height=\"64\"><font\n",
      " face=\"Arial\" color=\"#000000\" size=\"2\">\n",
      "      <div align=\"center\"><b><font size=\"3\" color=\"#000040\">Over a\n",
      "million men have been helped with the potent ingredients in Peniis\n",
      "Growth Patch  men have experienced bigger size, more action,and\n",
      "super-satisfying results for themselves and their partners.Don't be\n",
      "left behind! Take advantage 0f price specials g0ing on now</font></b><font\n",
      " color=\"#000040\">.</font></div>\n",
      "      </font></td>\n",
      "      <td bgcolor=\"#f2f2f2\" valign=\"top\" height=\"64\" width=\"511\">\n",
      "      <p align=\"left\"><font color=\"#000000\" size=\"2\" face=\"Arial\"></font><b>&nbsp;</b></p>\n",
      "      <p align=\"left\"><b>Silver Package: 25 Patches reg $129.95, Now\n",
      "$99.95! Free shipping and free exercise manual included!</b></p>\n",
      "      <div align=\"left\"><font color=\"#000000\" size=\"2\" face=\"Arial\"></font>\n",
      "      </div>\n",
      "      <p align=\"left\"><font color=\"#c0c0c0\">academia shanty\n",
      "wharf deuterate</font></p>\n",
      "      </td>\n",
      "    </tr>\n",
      "    <tr>\n",
      "      <td height=\"27\" width=\"480\" bgcolor=\"#f2f2f2\"><font face=\"Arial\"\n",
      " color=\"#000000\" size=\"2\">\n",
      "      <div align=\"justify\"></div>\n",
      "      </font> <b><font size=\"2\">Gold Package: 4O Patches reg $189.95,\n",
      "N0w $149.95! Free shipping and free exercise manual included!</font><font\n",
      " color=\"#c0c0c0\">dubious clark </font></b></td>\n",
      "      <td bgcolor=\"#f2f2f2\" width=\"511\" valign=\"top\" height=\"27\"><font\n",
      " face=\"Arial\" color=\"#000000\" size=\"2\">\n",
      "      <div><font face=\"Arial\" color=\"#000000\" size=\"2\"><b><u>Platinum\n",
      "Package: 65 Patches reg $259.95, Now $199.95! Free shipping and free\n",
      "exercise manual included! (Best Value!)<br>\n",
      "I know like 10 guys who have already stocked up on these</u></b></font></div>\n",
      "      </font> </td>\n",
      "    </tr>\n",
      "    <tr bgcolor=\"#ff9900\">\n",
      "      <td valign=\"top\" height=\"69\" colspan=\"2\"><font face=\"Arial\"\n",
      " color=\"#000000\" size=\"2\">\n",
      "      <div align=\"center\"><font face=\"Arial\" color=\"#000000\" size=\"2\"><font\n",
      " face=\"Times New Roman\" color=\"#ffffff\"><b>&nbsp;</b></font><br>\n",
      "      <font size=\"+3\" color=\"#ffffff\"><http:><u><a\n",
      " target=\"http://www.tyiner.net/pt/?107&amp;www.ukr.net\"\n",
      " http://www.tyiner.net/pt/?107&www.ukr.net=\"\"\n",
      " href=\"http://www.tyiner.net/pt/?107&amp;www.ukr.net\"><font\n",
      " face=\"Arial, Helvetica, sans-serif\">Here's the link to check out br0!</font></a>\n",
      "      </u></http:></font></font></div>\n",
      "      <div align=\"right\"><font color=\"#000080\" size=\"3\"></font></div>\n",
      "      </font></td>\n",
      "    </tr>\n",
      "  </tbody>\n",
      "</table>\n",
      "</div>\n",
      "</font>\n",
      "</body>\n",
      "</html>\n",
      "\n",
      "\n",
      "----938633797716654203--\n",
      "\n",
      "\n"
     ]
    }
   ],
   "source": [
    "def get_random_spam_content():\n",
    "    spam = random.choice(spams)\n",
    "    return dl[spam][0]\n",
    "\n",
    "print(get_random_spam_content())"
   ],
   "metadata": {
    "collapsed": false,
    "pycharm": {
     "name": "#%%\n"
    }
   }
  },
  {
   "cell_type": "code",
   "execution_count": 5,
   "outputs": [],
   "source": [
    "meta_data = ['Subject', 'Content-Type', 'Received', 'From', 'To', 'Date']"
   ],
   "metadata": {
    "collapsed": false,
    "pycharm": {
     "name": "#%%\n"
    }
   }
  },
  {
   "cell_type": "code",
   "execution_count": 6,
   "outputs": [],
   "source": [
    "def contain_meta_data(content, meta):\n",
    "    cnt = 0\n",
    "    for i in content.splitlines():\n",
    "        if meta in i:\n",
    "            cnt += 1\n",
    "    return cnt"
   ],
   "metadata": {
    "collapsed": false,
    "pycharm": {
     "name": "#%%\n"
    }
   }
  },
  {
   "cell_type": "code",
   "execution_count": 7,
   "outputs": [
    {
     "data": {
      "text/plain": "1"
     },
     "execution_count": 7,
     "metadata": {},
     "output_type": "execute_result"
    }
   ],
   "source": [
    "contain_meta_data(get_random_ham_content(), meta_data[0])"
   ],
   "metadata": {
    "collapsed": false,
    "pycharm": {
     "name": "#%%\n"
    }
   }
  },
  {
   "cell_type": "code",
   "execution_count": 8,
   "outputs": [],
   "source": [
    "def statistic(idxs):\n",
    "    freqs = np.zeros(len(meta_data))\n",
    "    exists = np.zeros(len(meta_data))\n",
    "    for idx, meta in enumerate(meta_data):\n",
    "        for mail in idxs:\n",
    "            cnt = contain_meta_data(dl[mail][0], meta)\n",
    "            freqs[idx] += cnt\n",
    "            if cnt:\n",
    "                exists[idx] += 1\n",
    "    exists = exists / len(dl)\n",
    "    return freqs, exists\n"
   ],
   "metadata": {
    "collapsed": false,
    "pycharm": {
     "name": "#%%\n"
    }
   }
  },
  {
   "cell_type": "code",
   "execution_count": 9,
   "outputs": [],
   "source": [
    "%matplotlib notebook\n",
    "freqs, exists = statistic(dl.raw_idx)\n",
    "ham_statics = statistic(dl.get_ham())\n",
    "spam_statics = statistic(dl.get_spam())"
   ],
   "metadata": {
    "collapsed": false,
    "pycharm": {
     "name": "#%%\n"
    }
   }
  },
  {
   "cell_type": "code",
   "execution_count": 10,
   "outputs": [
    {
     "data": {
      "text/plain": "<IPython.core.display.Javascript object>",
      "application/javascript": "/* Put everything inside the global mpl namespace */\n/* global mpl */\nwindow.mpl = {};\n\nmpl.get_websocket_type = function () {\n    if (typeof WebSocket !== 'undefined') {\n        return WebSocket;\n    } else if (typeof MozWebSocket !== 'undefined') {\n        return MozWebSocket;\n    } else {\n        alert(\n            'Your browser does not have WebSocket support. ' +\n                'Please try Chrome, Safari or Firefox ≥ 6. ' +\n                'Firefox 4 and 5 are also supported but you ' +\n                'have to enable WebSockets in about:config.'\n        );\n    }\n};\n\nmpl.figure = function (figure_id, websocket, ondownload, parent_element) {\n    this.id = figure_id;\n\n    this.ws = websocket;\n\n    this.supports_binary = this.ws.binaryType !== undefined;\n\n    if (!this.supports_binary) {\n        var warnings = document.getElementById('mpl-warnings');\n        if (warnings) {\n            warnings.style.display = 'block';\n            warnings.textContent =\n                'This browser does not support binary websocket messages. ' +\n                'Performance may be slow.';\n        }\n    }\n\n    this.imageObj = new Image();\n\n    this.context = undefined;\n    this.message = undefined;\n    this.canvas = undefined;\n    this.rubberband_canvas = undefined;\n    this.rubberband_context = undefined;\n    this.format_dropdown = undefined;\n\n    this.image_mode = 'full';\n\n    this.root = document.createElement('div');\n    this.root.setAttribute('style', 'display: inline-block');\n    this._root_extra_style(this.root);\n\n    parent_element.appendChild(this.root);\n\n    this._init_header(this);\n    this._init_canvas(this);\n    this._init_toolbar(this);\n\n    var fig = this;\n\n    this.waiting = false;\n\n    this.ws.onopen = function () {\n        fig.send_message('supports_binary', { value: fig.supports_binary });\n        fig.send_message('send_image_mode', {});\n        if (fig.ratio !== 1) {\n            fig.send_message('set_device_pixel_ratio', {\n                device_pixel_ratio: fig.ratio,\n            });\n        }\n        fig.send_message('refresh', {});\n    };\n\n    this.imageObj.onload = function () {\n        if (fig.image_mode === 'full') {\n            // Full images could contain transparency (where diff images\n            // almost always do), so we need to clear the canvas so that\n            // there is no ghosting.\n            fig.context.clearRect(0, 0, fig.canvas.width, fig.canvas.height);\n        }\n        fig.context.drawImage(fig.imageObj, 0, 0);\n    };\n\n    this.imageObj.onunload = function () {\n        fig.ws.close();\n    };\n\n    this.ws.onmessage = this._make_on_message_function(this);\n\n    this.ondownload = ondownload;\n};\n\nmpl.figure.prototype._init_header = function () {\n    var titlebar = document.createElement('div');\n    titlebar.classList =\n        'ui-dialog-titlebar ui-widget-header ui-corner-all ui-helper-clearfix';\n    var titletext = document.createElement('div');\n    titletext.classList = 'ui-dialog-title';\n    titletext.setAttribute(\n        'style',\n        'width: 100%; text-align: center; padding: 3px;'\n    );\n    titlebar.appendChild(titletext);\n    this.root.appendChild(titlebar);\n    this.header = titletext;\n};\n\nmpl.figure.prototype._canvas_extra_style = function (_canvas_div) {};\n\nmpl.figure.prototype._root_extra_style = function (_canvas_div) {};\n\nmpl.figure.prototype._init_canvas = function () {\n    var fig = this;\n\n    var canvas_div = (this.canvas_div = document.createElement('div'));\n    canvas_div.setAttribute(\n        'style',\n        'border: 1px solid #ddd;' +\n            'box-sizing: content-box;' +\n            'clear: both;' +\n            'min-height: 1px;' +\n            'min-width: 1px;' +\n            'outline: 0;' +\n            'overflow: hidden;' +\n            'position: relative;' +\n            'resize: both;'\n    );\n\n    function on_keyboard_event_closure(name) {\n        return function (event) {\n            return fig.key_event(event, name);\n        };\n    }\n\n    canvas_div.addEventListener(\n        'keydown',\n        on_keyboard_event_closure('key_press')\n    );\n    canvas_div.addEventListener(\n        'keyup',\n        on_keyboard_event_closure('key_release')\n    );\n\n    this._canvas_extra_style(canvas_div);\n    this.root.appendChild(canvas_div);\n\n    var canvas = (this.canvas = document.createElement('canvas'));\n    canvas.classList.add('mpl-canvas');\n    canvas.setAttribute('style', 'box-sizing: content-box;');\n\n    this.context = canvas.getContext('2d');\n\n    var backingStore =\n        this.context.backingStorePixelRatio ||\n        this.context.webkitBackingStorePixelRatio ||\n        this.context.mozBackingStorePixelRatio ||\n        this.context.msBackingStorePixelRatio ||\n        this.context.oBackingStorePixelRatio ||\n        this.context.backingStorePixelRatio ||\n        1;\n\n    this.ratio = (window.devicePixelRatio || 1) / backingStore;\n\n    var rubberband_canvas = (this.rubberband_canvas = document.createElement(\n        'canvas'\n    ));\n    rubberband_canvas.setAttribute(\n        'style',\n        'box-sizing: content-box; position: absolute; left: 0; top: 0; z-index: 1;'\n    );\n\n    // Apply a ponyfill if ResizeObserver is not implemented by browser.\n    if (this.ResizeObserver === undefined) {\n        if (window.ResizeObserver !== undefined) {\n            this.ResizeObserver = window.ResizeObserver;\n        } else {\n            var obs = _JSXTOOLS_RESIZE_OBSERVER({});\n            this.ResizeObserver = obs.ResizeObserver;\n        }\n    }\n\n    this.resizeObserverInstance = new this.ResizeObserver(function (entries) {\n        var nentries = entries.length;\n        for (var i = 0; i < nentries; i++) {\n            var entry = entries[i];\n            var width, height;\n            if (entry.contentBoxSize) {\n                if (entry.contentBoxSize instanceof Array) {\n                    // Chrome 84 implements new version of spec.\n                    width = entry.contentBoxSize[0].inlineSize;\n                    height = entry.contentBoxSize[0].blockSize;\n                } else {\n                    // Firefox implements old version of spec.\n                    width = entry.contentBoxSize.inlineSize;\n                    height = entry.contentBoxSize.blockSize;\n                }\n            } else {\n                // Chrome <84 implements even older version of spec.\n                width = entry.contentRect.width;\n                height = entry.contentRect.height;\n            }\n\n            // Keep the size of the canvas and rubber band canvas in sync with\n            // the canvas container.\n            if (entry.devicePixelContentBoxSize) {\n                // Chrome 84 implements new version of spec.\n                canvas.setAttribute(\n                    'width',\n                    entry.devicePixelContentBoxSize[0].inlineSize\n                );\n                canvas.setAttribute(\n                    'height',\n                    entry.devicePixelContentBoxSize[0].blockSize\n                );\n            } else {\n                canvas.setAttribute('width', width * fig.ratio);\n                canvas.setAttribute('height', height * fig.ratio);\n            }\n            canvas.setAttribute(\n                'style',\n                'width: ' + width + 'px; height: ' + height + 'px;'\n            );\n\n            rubberband_canvas.setAttribute('width', width);\n            rubberband_canvas.setAttribute('height', height);\n\n            // And update the size in Python. We ignore the initial 0/0 size\n            // that occurs as the element is placed into the DOM, which should\n            // otherwise not happen due to the minimum size styling.\n            if (fig.ws.readyState == 1 && width != 0 && height != 0) {\n                fig.request_resize(width, height);\n            }\n        }\n    });\n    this.resizeObserverInstance.observe(canvas_div);\n\n    function on_mouse_event_closure(name) {\n        return function (event) {\n            return fig.mouse_event(event, name);\n        };\n    }\n\n    rubberband_canvas.addEventListener(\n        'mousedown',\n        on_mouse_event_closure('button_press')\n    );\n    rubberband_canvas.addEventListener(\n        'mouseup',\n        on_mouse_event_closure('button_release')\n    );\n    rubberband_canvas.addEventListener(\n        'dblclick',\n        on_mouse_event_closure('dblclick')\n    );\n    // Throttle sequential mouse events to 1 every 20ms.\n    rubberband_canvas.addEventListener(\n        'mousemove',\n        on_mouse_event_closure('motion_notify')\n    );\n\n    rubberband_canvas.addEventListener(\n        'mouseenter',\n        on_mouse_event_closure('figure_enter')\n    );\n    rubberband_canvas.addEventListener(\n        'mouseleave',\n        on_mouse_event_closure('figure_leave')\n    );\n\n    canvas_div.addEventListener('wheel', function (event) {\n        if (event.deltaY < 0) {\n            event.step = 1;\n        } else {\n            event.step = -1;\n        }\n        on_mouse_event_closure('scroll')(event);\n    });\n\n    canvas_div.appendChild(canvas);\n    canvas_div.appendChild(rubberband_canvas);\n\n    this.rubberband_context = rubberband_canvas.getContext('2d');\n    this.rubberband_context.strokeStyle = '#000000';\n\n    this._resize_canvas = function (width, height, forward) {\n        if (forward) {\n            canvas_div.style.width = width + 'px';\n            canvas_div.style.height = height + 'px';\n        }\n    };\n\n    // Disable right mouse context menu.\n    this.rubberband_canvas.addEventListener('contextmenu', function (_e) {\n        event.preventDefault();\n        return false;\n    });\n\n    function set_focus() {\n        canvas.focus();\n        canvas_div.focus();\n    }\n\n    window.setTimeout(set_focus, 100);\n};\n\nmpl.figure.prototype._init_toolbar = function () {\n    var fig = this;\n\n    var toolbar = document.createElement('div');\n    toolbar.classList = 'mpl-toolbar';\n    this.root.appendChild(toolbar);\n\n    function on_click_closure(name) {\n        return function (_event) {\n            return fig.toolbar_button_onclick(name);\n        };\n    }\n\n    function on_mouseover_closure(tooltip) {\n        return function (event) {\n            if (!event.currentTarget.disabled) {\n                return fig.toolbar_button_onmouseover(tooltip);\n            }\n        };\n    }\n\n    fig.buttons = {};\n    var buttonGroup = document.createElement('div');\n    buttonGroup.classList = 'mpl-button-group';\n    for (var toolbar_ind in mpl.toolbar_items) {\n        var name = mpl.toolbar_items[toolbar_ind][0];\n        var tooltip = mpl.toolbar_items[toolbar_ind][1];\n        var image = mpl.toolbar_items[toolbar_ind][2];\n        var method_name = mpl.toolbar_items[toolbar_ind][3];\n\n        if (!name) {\n            /* Instead of a spacer, we start a new button group. */\n            if (buttonGroup.hasChildNodes()) {\n                toolbar.appendChild(buttonGroup);\n            }\n            buttonGroup = document.createElement('div');\n            buttonGroup.classList = 'mpl-button-group';\n            continue;\n        }\n\n        var button = (fig.buttons[name] = document.createElement('button'));\n        button.classList = 'mpl-widget';\n        button.setAttribute('role', 'button');\n        button.setAttribute('aria-disabled', 'false');\n        button.addEventListener('click', on_click_closure(method_name));\n        button.addEventListener('mouseover', on_mouseover_closure(tooltip));\n\n        var icon_img = document.createElement('img');\n        icon_img.src = '_images/' + image + '.png';\n        icon_img.srcset = '_images/' + image + '_large.png 2x';\n        icon_img.alt = tooltip;\n        button.appendChild(icon_img);\n\n        buttonGroup.appendChild(button);\n    }\n\n    if (buttonGroup.hasChildNodes()) {\n        toolbar.appendChild(buttonGroup);\n    }\n\n    var fmt_picker = document.createElement('select');\n    fmt_picker.classList = 'mpl-widget';\n    toolbar.appendChild(fmt_picker);\n    this.format_dropdown = fmt_picker;\n\n    for (var ind in mpl.extensions) {\n        var fmt = mpl.extensions[ind];\n        var option = document.createElement('option');\n        option.selected = fmt === mpl.default_extension;\n        option.innerHTML = fmt;\n        fmt_picker.appendChild(option);\n    }\n\n    var status_bar = document.createElement('span');\n    status_bar.classList = 'mpl-message';\n    toolbar.appendChild(status_bar);\n    this.message = status_bar;\n};\n\nmpl.figure.prototype.request_resize = function (x_pixels, y_pixels) {\n    // Request matplotlib to resize the figure. Matplotlib will then trigger a resize in the client,\n    // which will in turn request a refresh of the image.\n    this.send_message('resize', { width: x_pixels, height: y_pixels });\n};\n\nmpl.figure.prototype.send_message = function (type, properties) {\n    properties['type'] = type;\n    properties['figure_id'] = this.id;\n    this.ws.send(JSON.stringify(properties));\n};\n\nmpl.figure.prototype.send_draw_message = function () {\n    if (!this.waiting) {\n        this.waiting = true;\n        this.ws.send(JSON.stringify({ type: 'draw', figure_id: this.id }));\n    }\n};\n\nmpl.figure.prototype.handle_save = function (fig, _msg) {\n    var format_dropdown = fig.format_dropdown;\n    var format = format_dropdown.options[format_dropdown.selectedIndex].value;\n    fig.ondownload(fig, format);\n};\n\nmpl.figure.prototype.handle_resize = function (fig, msg) {\n    var size = msg['size'];\n    if (size[0] !== fig.canvas.width || size[1] !== fig.canvas.height) {\n        fig._resize_canvas(size[0], size[1], msg['forward']);\n        fig.send_message('refresh', {});\n    }\n};\n\nmpl.figure.prototype.handle_rubberband = function (fig, msg) {\n    var x0 = msg['x0'] / fig.ratio;\n    var y0 = (fig.canvas.height - msg['y0']) / fig.ratio;\n    var x1 = msg['x1'] / fig.ratio;\n    var y1 = (fig.canvas.height - msg['y1']) / fig.ratio;\n    x0 = Math.floor(x0) + 0.5;\n    y0 = Math.floor(y0) + 0.5;\n    x1 = Math.floor(x1) + 0.5;\n    y1 = Math.floor(y1) + 0.5;\n    var min_x = Math.min(x0, x1);\n    var min_y = Math.min(y0, y1);\n    var width = Math.abs(x1 - x0);\n    var height = Math.abs(y1 - y0);\n\n    fig.rubberband_context.clearRect(\n        0,\n        0,\n        fig.canvas.width / fig.ratio,\n        fig.canvas.height / fig.ratio\n    );\n\n    fig.rubberband_context.strokeRect(min_x, min_y, width, height);\n};\n\nmpl.figure.prototype.handle_figure_label = function (fig, msg) {\n    // Updates the figure title.\n    fig.header.textContent = msg['label'];\n};\n\nmpl.figure.prototype.handle_cursor = function (fig, msg) {\n    fig.rubberband_canvas.style.cursor = msg['cursor'];\n};\n\nmpl.figure.prototype.handle_message = function (fig, msg) {\n    fig.message.textContent = msg['message'];\n};\n\nmpl.figure.prototype.handle_draw = function (fig, _msg) {\n    // Request the server to send over a new figure.\n    fig.send_draw_message();\n};\n\nmpl.figure.prototype.handle_image_mode = function (fig, msg) {\n    fig.image_mode = msg['mode'];\n};\n\nmpl.figure.prototype.handle_history_buttons = function (fig, msg) {\n    for (var key in msg) {\n        if (!(key in fig.buttons)) {\n            continue;\n        }\n        fig.buttons[key].disabled = !msg[key];\n        fig.buttons[key].setAttribute('aria-disabled', !msg[key]);\n    }\n};\n\nmpl.figure.prototype.handle_navigate_mode = function (fig, msg) {\n    if (msg['mode'] === 'PAN') {\n        fig.buttons['Pan'].classList.add('active');\n        fig.buttons['Zoom'].classList.remove('active');\n    } else if (msg['mode'] === 'ZOOM') {\n        fig.buttons['Pan'].classList.remove('active');\n        fig.buttons['Zoom'].classList.add('active');\n    } else {\n        fig.buttons['Pan'].classList.remove('active');\n        fig.buttons['Zoom'].classList.remove('active');\n    }\n};\n\nmpl.figure.prototype.updated_canvas_event = function () {\n    // Called whenever the canvas gets updated.\n    this.send_message('ack', {});\n};\n\n// A function to construct a web socket function for onmessage handling.\n// Called in the figure constructor.\nmpl.figure.prototype._make_on_message_function = function (fig) {\n    return function socket_on_message(evt) {\n        if (evt.data instanceof Blob) {\n            var img = evt.data;\n            if (img.type !== 'image/png') {\n                /* FIXME: We get \"Resource interpreted as Image but\n                 * transferred with MIME type text/plain:\" errors on\n                 * Chrome.  But how to set the MIME type?  It doesn't seem\n                 * to be part of the websocket stream */\n                img.type = 'image/png';\n            }\n\n            /* Free the memory for the previous frames */\n            if (fig.imageObj.src) {\n                (window.URL || window.webkitURL).revokeObjectURL(\n                    fig.imageObj.src\n                );\n            }\n\n            fig.imageObj.src = (window.URL || window.webkitURL).createObjectURL(\n                img\n            );\n            fig.updated_canvas_event();\n            fig.waiting = false;\n            return;\n        } else if (\n            typeof evt.data === 'string' &&\n            evt.data.slice(0, 21) === 'data:image/png;base64'\n        ) {\n            fig.imageObj.src = evt.data;\n            fig.updated_canvas_event();\n            fig.waiting = false;\n            return;\n        }\n\n        var msg = JSON.parse(evt.data);\n        var msg_type = msg['type'];\n\n        // Call the  \"handle_{type}\" callback, which takes\n        // the figure and JSON message as its only arguments.\n        try {\n            var callback = fig['handle_' + msg_type];\n        } catch (e) {\n            console.log(\n                \"No handler for the '\" + msg_type + \"' message type: \",\n                msg\n            );\n            return;\n        }\n\n        if (callback) {\n            try {\n                // console.log(\"Handling '\" + msg_type + \"' message: \", msg);\n                callback(fig, msg);\n            } catch (e) {\n                console.log(\n                    \"Exception inside the 'handler_\" + msg_type + \"' callback:\",\n                    e,\n                    e.stack,\n                    msg\n                );\n            }\n        }\n    };\n};\n\n// from https://stackoverflow.com/questions/1114465/getting-mouse-location-in-canvas\nmpl.findpos = function (e) {\n    //this section is from http://www.quirksmode.org/js/events_properties.html\n    var targ;\n    if (!e) {\n        e = window.event;\n    }\n    if (e.target) {\n        targ = e.target;\n    } else if (e.srcElement) {\n        targ = e.srcElement;\n    }\n    if (targ.nodeType === 3) {\n        // defeat Safari bug\n        targ = targ.parentNode;\n    }\n\n    // pageX,Y are the mouse positions relative to the document\n    var boundingRect = targ.getBoundingClientRect();\n    var x = e.pageX - (boundingRect.left + document.body.scrollLeft);\n    var y = e.pageY - (boundingRect.top + document.body.scrollTop);\n\n    return { x: x, y: y };\n};\n\n/*\n * return a copy of an object with only non-object keys\n * we need this to avoid circular references\n * https://stackoverflow.com/a/24161582/3208463\n */\nfunction simpleKeys(original) {\n    return Object.keys(original).reduce(function (obj, key) {\n        if (typeof original[key] !== 'object') {\n            obj[key] = original[key];\n        }\n        return obj;\n    }, {});\n}\n\nmpl.figure.prototype.mouse_event = function (event, name) {\n    var canvas_pos = mpl.findpos(event);\n\n    if (name === 'button_press') {\n        this.canvas.focus();\n        this.canvas_div.focus();\n    }\n\n    var x = canvas_pos.x * this.ratio;\n    var y = canvas_pos.y * this.ratio;\n\n    this.send_message(name, {\n        x: x,\n        y: y,\n        button: event.button,\n        step: event.step,\n        guiEvent: simpleKeys(event),\n    });\n\n    /* This prevents the web browser from automatically changing to\n     * the text insertion cursor when the button is pressed.  We want\n     * to control all of the cursor setting manually through the\n     * 'cursor' event from matplotlib */\n    event.preventDefault();\n    return false;\n};\n\nmpl.figure.prototype._key_event_extra = function (_event, _name) {\n    // Handle any extra behaviour associated with a key event\n};\n\nmpl.figure.prototype.key_event = function (event, name) {\n    // Prevent repeat events\n    if (name === 'key_press') {\n        if (event.key === this._key) {\n            return;\n        } else {\n            this._key = event.key;\n        }\n    }\n    if (name === 'key_release') {\n        this._key = null;\n    }\n\n    var value = '';\n    if (event.ctrlKey && event.key !== 'Control') {\n        value += 'ctrl+';\n    }\n    else if (event.altKey && event.key !== 'Alt') {\n        value += 'alt+';\n    }\n    else if (event.shiftKey && event.key !== 'Shift') {\n        value += 'shift+';\n    }\n\n    value += 'k' + event.key;\n\n    this._key_event_extra(event, name);\n\n    this.send_message(name, { key: value, guiEvent: simpleKeys(event) });\n    return false;\n};\n\nmpl.figure.prototype.toolbar_button_onclick = function (name) {\n    if (name === 'download') {\n        this.handle_save(this, null);\n    } else {\n        this.send_message('toolbar_button', { name: name });\n    }\n};\n\nmpl.figure.prototype.toolbar_button_onmouseover = function (tooltip) {\n    this.message.textContent = tooltip;\n};\n\n///////////////// REMAINING CONTENT GENERATED BY embed_js.py /////////////////\n// prettier-ignore\nvar _JSXTOOLS_RESIZE_OBSERVER=function(A){var t,i=new WeakMap,n=new WeakMap,a=new WeakMap,r=new WeakMap,o=new Set;function s(e){if(!(this instanceof s))throw new TypeError(\"Constructor requires 'new' operator\");i.set(this,e)}function h(){throw new TypeError(\"Function is not a constructor\")}function c(e,t,i,n){e=0 in arguments?Number(arguments[0]):0,t=1 in arguments?Number(arguments[1]):0,i=2 in arguments?Number(arguments[2]):0,n=3 in arguments?Number(arguments[3]):0,this.right=(this.x=this.left=e)+(this.width=i),this.bottom=(this.y=this.top=t)+(this.height=n),Object.freeze(this)}function d(){t=requestAnimationFrame(d);var s=new WeakMap,p=new Set;o.forEach((function(t){r.get(t).forEach((function(i){var r=t instanceof window.SVGElement,o=a.get(t),d=r?0:parseFloat(o.paddingTop),f=r?0:parseFloat(o.paddingRight),l=r?0:parseFloat(o.paddingBottom),u=r?0:parseFloat(o.paddingLeft),g=r?0:parseFloat(o.borderTopWidth),m=r?0:parseFloat(o.borderRightWidth),w=r?0:parseFloat(o.borderBottomWidth),b=u+f,F=d+l,v=(r?0:parseFloat(o.borderLeftWidth))+m,W=g+w,y=r?0:t.offsetHeight-W-t.clientHeight,E=r?0:t.offsetWidth-v-t.clientWidth,R=b+v,z=F+W,M=r?t.width:parseFloat(o.width)-R-E,O=r?t.height:parseFloat(o.height)-z-y;if(n.has(t)){var k=n.get(t);if(k[0]===M&&k[1]===O)return}n.set(t,[M,O]);var S=Object.create(h.prototype);S.target=t,S.contentRect=new c(u,d,M,O),s.has(i)||(s.set(i,[]),p.add(i)),s.get(i).push(S)}))})),p.forEach((function(e){i.get(e).call(e,s.get(e),e)}))}return s.prototype.observe=function(i){if(i instanceof window.Element){r.has(i)||(r.set(i,new Set),o.add(i),a.set(i,window.getComputedStyle(i)));var n=r.get(i);n.has(this)||n.add(this),cancelAnimationFrame(t),t=requestAnimationFrame(d)}},s.prototype.unobserve=function(i){if(i instanceof window.Element&&r.has(i)){var n=r.get(i);n.has(this)&&(n.delete(this),n.size||(r.delete(i),o.delete(i))),n.size||r.delete(i),o.size||cancelAnimationFrame(t)}},A.DOMRectReadOnly=c,A.ResizeObserver=s,A.ResizeObserverEntry=h,A}; // eslint-disable-line\nmpl.toolbar_items = [[\"Home\", \"Reset original view\", \"fa fa-home icon-home\", \"home\"], [\"Back\", \"Back to previous view\", \"fa fa-arrow-left icon-arrow-left\", \"back\"], [\"Forward\", \"Forward to next view\", \"fa fa-arrow-right icon-arrow-right\", \"forward\"], [\"\", \"\", \"\", \"\"], [\"Pan\", \"Left button pans, Right button zooms\\nx/y fixes axis, CTRL fixes aspect\", \"fa fa-arrows icon-move\", \"pan\"], [\"Zoom\", \"Zoom to rectangle\\nx/y fixes axis\", \"fa fa-square-o icon-check-empty\", \"zoom\"], [\"\", \"\", \"\", \"\"], [\"Download\", \"Download plot\", \"fa fa-floppy-o icon-save\", \"download\"]];\n\nmpl.extensions = [\"eps\", \"jpeg\", \"pgf\", \"pdf\", \"png\", \"ps\", \"raw\", \"svg\", \"tif\"];\n\nmpl.default_extension = \"png\";/* global mpl */\n\nvar comm_websocket_adapter = function (comm) {\n    // Create a \"websocket\"-like object which calls the given IPython comm\n    // object with the appropriate methods. Currently this is a non binary\n    // socket, so there is still some room for performance tuning.\n    var ws = {};\n\n    ws.binaryType = comm.kernel.ws.binaryType;\n    ws.readyState = comm.kernel.ws.readyState;\n    function updateReadyState(_event) {\n        if (comm.kernel.ws) {\n            ws.readyState = comm.kernel.ws.readyState;\n        } else {\n            ws.readyState = 3; // Closed state.\n        }\n    }\n    comm.kernel.ws.addEventListener('open', updateReadyState);\n    comm.kernel.ws.addEventListener('close', updateReadyState);\n    comm.kernel.ws.addEventListener('error', updateReadyState);\n\n    ws.close = function () {\n        comm.close();\n    };\n    ws.send = function (m) {\n        //console.log('sending', m);\n        comm.send(m);\n    };\n    // Register the callback with on_msg.\n    comm.on_msg(function (msg) {\n        //console.log('receiving', msg['content']['data'], msg);\n        var data = msg['content']['data'];\n        if (data['blob'] !== undefined) {\n            data = {\n                data: new Blob(msg['buffers'], { type: data['blob'] }),\n            };\n        }\n        // Pass the mpl event to the overridden (by mpl) onmessage function.\n        ws.onmessage(data);\n    });\n    return ws;\n};\n\nmpl.mpl_figure_comm = function (comm, msg) {\n    // This is the function which gets called when the mpl process\n    // starts-up an IPython Comm through the \"matplotlib\" channel.\n\n    var id = msg.content.data.id;\n    // Get hold of the div created by the display call when the Comm\n    // socket was opened in Python.\n    var element = document.getElementById(id);\n    var ws_proxy = comm_websocket_adapter(comm);\n\n    function ondownload(figure, _format) {\n        window.open(figure.canvas.toDataURL());\n    }\n\n    var fig = new mpl.figure(id, ws_proxy, ondownload, element);\n\n    // Call onopen now - mpl needs it, as it is assuming we've passed it a real\n    // web socket which is closed, not our websocket->open comm proxy.\n    ws_proxy.onopen();\n\n    fig.parent_element = element;\n    fig.cell_info = mpl.find_output_cell(\"<div id='\" + id + \"'></div>\");\n    if (!fig.cell_info) {\n        console.error('Failed to find cell for figure', id, fig);\n        return;\n    }\n    fig.cell_info[0].output_area.element.on(\n        'cleared',\n        { fig: fig },\n        fig._remove_fig_handler\n    );\n};\n\nmpl.figure.prototype.handle_close = function (fig, msg) {\n    var width = fig.canvas.width / fig.ratio;\n    fig.cell_info[0].output_area.element.off(\n        'cleared',\n        fig._remove_fig_handler\n    );\n    fig.resizeObserverInstance.unobserve(fig.canvas_div);\n\n    // Update the output cell to use the data from the current canvas.\n    fig.push_to_output();\n    var dataURL = fig.canvas.toDataURL();\n    // Re-enable the keyboard manager in IPython - without this line, in FF,\n    // the notebook keyboard shortcuts fail.\n    IPython.keyboard_manager.enable();\n    fig.parent_element.innerHTML =\n        '<img src=\"' + dataURL + '\" width=\"' + width + '\">';\n    fig.close_ws(fig, msg);\n};\n\nmpl.figure.prototype.close_ws = function (fig, msg) {\n    fig.send_message('closing', msg);\n    // fig.ws.close()\n};\n\nmpl.figure.prototype.push_to_output = function (_remove_interactive) {\n    // Turn the data on the canvas into data in the output cell.\n    var width = this.canvas.width / this.ratio;\n    var dataURL = this.canvas.toDataURL();\n    this.cell_info[1]['text/html'] =\n        '<img src=\"' + dataURL + '\" width=\"' + width + '\">';\n};\n\nmpl.figure.prototype.updated_canvas_event = function () {\n    // Tell IPython that the notebook contents must change.\n    IPython.notebook.set_dirty(true);\n    this.send_message('ack', {});\n    var fig = this;\n    // Wait a second, then push the new image to the DOM so\n    // that it is saved nicely (might be nice to debounce this).\n    setTimeout(function () {\n        fig.push_to_output();\n    }, 1000);\n};\n\nmpl.figure.prototype._init_toolbar = function () {\n    var fig = this;\n\n    var toolbar = document.createElement('div');\n    toolbar.classList = 'btn-toolbar';\n    this.root.appendChild(toolbar);\n\n    function on_click_closure(name) {\n        return function (_event) {\n            return fig.toolbar_button_onclick(name);\n        };\n    }\n\n    function on_mouseover_closure(tooltip) {\n        return function (event) {\n            if (!event.currentTarget.disabled) {\n                return fig.toolbar_button_onmouseover(tooltip);\n            }\n        };\n    }\n\n    fig.buttons = {};\n    var buttonGroup = document.createElement('div');\n    buttonGroup.classList = 'btn-group';\n    var button;\n    for (var toolbar_ind in mpl.toolbar_items) {\n        var name = mpl.toolbar_items[toolbar_ind][0];\n        var tooltip = mpl.toolbar_items[toolbar_ind][1];\n        var image = mpl.toolbar_items[toolbar_ind][2];\n        var method_name = mpl.toolbar_items[toolbar_ind][3];\n\n        if (!name) {\n            /* Instead of a spacer, we start a new button group. */\n            if (buttonGroup.hasChildNodes()) {\n                toolbar.appendChild(buttonGroup);\n            }\n            buttonGroup = document.createElement('div');\n            buttonGroup.classList = 'btn-group';\n            continue;\n        }\n\n        button = fig.buttons[name] = document.createElement('button');\n        button.classList = 'btn btn-default';\n        button.href = '#';\n        button.title = name;\n        button.innerHTML = '<i class=\"fa ' + image + ' fa-lg\"></i>';\n        button.addEventListener('click', on_click_closure(method_name));\n        button.addEventListener('mouseover', on_mouseover_closure(tooltip));\n        buttonGroup.appendChild(button);\n    }\n\n    if (buttonGroup.hasChildNodes()) {\n        toolbar.appendChild(buttonGroup);\n    }\n\n    // Add the status bar.\n    var status_bar = document.createElement('span');\n    status_bar.classList = 'mpl-message pull-right';\n    toolbar.appendChild(status_bar);\n    this.message = status_bar;\n\n    // Add the close button to the window.\n    var buttongrp = document.createElement('div');\n    buttongrp.classList = 'btn-group inline pull-right';\n    button = document.createElement('button');\n    button.classList = 'btn btn-mini btn-primary';\n    button.href = '#';\n    button.title = 'Stop Interaction';\n    button.innerHTML = '<i class=\"fa fa-power-off icon-remove icon-large\"></i>';\n    button.addEventListener('click', function (_evt) {\n        fig.handle_close(fig, {});\n    });\n    button.addEventListener(\n        'mouseover',\n        on_mouseover_closure('Stop Interaction')\n    );\n    buttongrp.appendChild(button);\n    var titlebar = this.root.querySelector('.ui-dialog-titlebar');\n    titlebar.insertBefore(buttongrp, titlebar.firstChild);\n};\n\nmpl.figure.prototype._remove_fig_handler = function (event) {\n    var fig = event.data.fig;\n    if (event.target !== this) {\n        // Ignore bubbled events from children.\n        return;\n    }\n    fig.close_ws(fig, {});\n};\n\nmpl.figure.prototype._root_extra_style = function (el) {\n    el.style.boxSizing = 'content-box'; // override notebook setting of border-box.\n};\n\nmpl.figure.prototype._canvas_extra_style = function (el) {\n    // this is important to make the div 'focusable\n    el.setAttribute('tabindex', 0);\n    // reach out to IPython and tell the keyboard manager to turn it's self\n    // off when our div gets focus\n\n    // location in version 3\n    if (IPython.notebook.keyboard_manager) {\n        IPython.notebook.keyboard_manager.register_events(el);\n    } else {\n        // location in version 2\n        IPython.keyboard_manager.register_events(el);\n    }\n};\n\nmpl.figure.prototype._key_event_extra = function (event, _name) {\n    // Check for shift+enter\n    if (event.shiftKey && event.which === 13) {\n        this.canvas_div.blur();\n        // select the cell after this one\n        var index = IPython.notebook.find_cell_index(this.cell_info[0]);\n        IPython.notebook.select(index + 1);\n    }\n};\n\nmpl.figure.prototype.handle_save = function (fig, _msg) {\n    fig.ondownload(fig, null);\n};\n\nmpl.find_output_cell = function (html_output) {\n    // Return the cell and output element which can be found *uniquely* in the notebook.\n    // Note - this is a bit hacky, but it is done because the \"notebook_saving.Notebook\"\n    // IPython event is triggered only after the cells have been serialised, which for\n    // our purposes (turning an active figure into a static one), is too late.\n    var cells = IPython.notebook.get_cells();\n    var ncells = cells.length;\n    for (var i = 0; i < ncells; i++) {\n        var cell = cells[i];\n        if (cell.cell_type === 'code') {\n            for (var j = 0; j < cell.output_area.outputs.length; j++) {\n                var data = cell.output_area.outputs[j];\n                if (data.data) {\n                    // IPython >= 3 moved mimebundle to data attribute of output\n                    data = data.data;\n                }\n                if (data['text/html'] === html_output) {\n                    return [cell, data, j];\n                }\n            }\n        }\n    }\n};\n\n// Register the function which deals with the matplotlib target/channel.\n// The kernel may be null if the page has been refreshed.\nif (IPython.notebook.kernel !== null) {\n    IPython.notebook.kernel.comm_manager.register_target(\n        'matplotlib',\n        mpl.mpl_figure_comm\n    );\n}\n"
     },
     "metadata": {},
     "output_type": "display_data"
    },
    {
     "data": {
      "text/plain": "<IPython.core.display.HTML object>",
      "text/html": "<div id='030f3ad2-9f64-4d76-8353-fc1ffc4c29ee'></div>"
     },
     "metadata": {},
     "output_type": "display_data"
    },
    {
     "data": {
      "text/plain": "<IPython.core.display.Javascript object>",
      "application/javascript": "/* Put everything inside the global mpl namespace */\n/* global mpl */\nwindow.mpl = {};\n\nmpl.get_websocket_type = function () {\n    if (typeof WebSocket !== 'undefined') {\n        return WebSocket;\n    } else if (typeof MozWebSocket !== 'undefined') {\n        return MozWebSocket;\n    } else {\n        alert(\n            'Your browser does not have WebSocket support. ' +\n                'Please try Chrome, Safari or Firefox ≥ 6. ' +\n                'Firefox 4 and 5 are also supported but you ' +\n                'have to enable WebSockets in about:config.'\n        );\n    }\n};\n\nmpl.figure = function (figure_id, websocket, ondownload, parent_element) {\n    this.id = figure_id;\n\n    this.ws = websocket;\n\n    this.supports_binary = this.ws.binaryType !== undefined;\n\n    if (!this.supports_binary) {\n        var warnings = document.getElementById('mpl-warnings');\n        if (warnings) {\n            warnings.style.display = 'block';\n            warnings.textContent =\n                'This browser does not support binary websocket messages. ' +\n                'Performance may be slow.';\n        }\n    }\n\n    this.imageObj = new Image();\n\n    this.context = undefined;\n    this.message = undefined;\n    this.canvas = undefined;\n    this.rubberband_canvas = undefined;\n    this.rubberband_context = undefined;\n    this.format_dropdown = undefined;\n\n    this.image_mode = 'full';\n\n    this.root = document.createElement('div');\n    this.root.setAttribute('style', 'display: inline-block');\n    this._root_extra_style(this.root);\n\n    parent_element.appendChild(this.root);\n\n    this._init_header(this);\n    this._init_canvas(this);\n    this._init_toolbar(this);\n\n    var fig = this;\n\n    this.waiting = false;\n\n    this.ws.onopen = function () {\n        fig.send_message('supports_binary', { value: fig.supports_binary });\n        fig.send_message('send_image_mode', {});\n        if (fig.ratio !== 1) {\n            fig.send_message('set_device_pixel_ratio', {\n                device_pixel_ratio: fig.ratio,\n            });\n        }\n        fig.send_message('refresh', {});\n    };\n\n    this.imageObj.onload = function () {\n        if (fig.image_mode === 'full') {\n            // Full images could contain transparency (where diff images\n            // almost always do), so we need to clear the canvas so that\n            // there is no ghosting.\n            fig.context.clearRect(0, 0, fig.canvas.width, fig.canvas.height);\n        }\n        fig.context.drawImage(fig.imageObj, 0, 0);\n    };\n\n    this.imageObj.onunload = function () {\n        fig.ws.close();\n    };\n\n    this.ws.onmessage = this._make_on_message_function(this);\n\n    this.ondownload = ondownload;\n};\n\nmpl.figure.prototype._init_header = function () {\n    var titlebar = document.createElement('div');\n    titlebar.classList =\n        'ui-dialog-titlebar ui-widget-header ui-corner-all ui-helper-clearfix';\n    var titletext = document.createElement('div');\n    titletext.classList = 'ui-dialog-title';\n    titletext.setAttribute(\n        'style',\n        'width: 100%; text-align: center; padding: 3px;'\n    );\n    titlebar.appendChild(titletext);\n    this.root.appendChild(titlebar);\n    this.header = titletext;\n};\n\nmpl.figure.prototype._canvas_extra_style = function (_canvas_div) {};\n\nmpl.figure.prototype._root_extra_style = function (_canvas_div) {};\n\nmpl.figure.prototype._init_canvas = function () {\n    var fig = this;\n\n    var canvas_div = (this.canvas_div = document.createElement('div'));\n    canvas_div.setAttribute(\n        'style',\n        'border: 1px solid #ddd;' +\n            'box-sizing: content-box;' +\n            'clear: both;' +\n            'min-height: 1px;' +\n            'min-width: 1px;' +\n            'outline: 0;' +\n            'overflow: hidden;' +\n            'position: relative;' +\n            'resize: both;'\n    );\n\n    function on_keyboard_event_closure(name) {\n        return function (event) {\n            return fig.key_event(event, name);\n        };\n    }\n\n    canvas_div.addEventListener(\n        'keydown',\n        on_keyboard_event_closure('key_press')\n    );\n    canvas_div.addEventListener(\n        'keyup',\n        on_keyboard_event_closure('key_release')\n    );\n\n    this._canvas_extra_style(canvas_div);\n    this.root.appendChild(canvas_div);\n\n    var canvas = (this.canvas = document.createElement('canvas'));\n    canvas.classList.add('mpl-canvas');\n    canvas.setAttribute('style', 'box-sizing: content-box;');\n\n    this.context = canvas.getContext('2d');\n\n    var backingStore =\n        this.context.backingStorePixelRatio ||\n        this.context.webkitBackingStorePixelRatio ||\n        this.context.mozBackingStorePixelRatio ||\n        this.context.msBackingStorePixelRatio ||\n        this.context.oBackingStorePixelRatio ||\n        this.context.backingStorePixelRatio ||\n        1;\n\n    this.ratio = (window.devicePixelRatio || 1) / backingStore;\n\n    var rubberband_canvas = (this.rubberband_canvas = document.createElement(\n        'canvas'\n    ));\n    rubberband_canvas.setAttribute(\n        'style',\n        'box-sizing: content-box; position: absolute; left: 0; top: 0; z-index: 1;'\n    );\n\n    // Apply a ponyfill if ResizeObserver is not implemented by browser.\n    if (this.ResizeObserver === undefined) {\n        if (window.ResizeObserver !== undefined) {\n            this.ResizeObserver = window.ResizeObserver;\n        } else {\n            var obs = _JSXTOOLS_RESIZE_OBSERVER({});\n            this.ResizeObserver = obs.ResizeObserver;\n        }\n    }\n\n    this.resizeObserverInstance = new this.ResizeObserver(function (entries) {\n        var nentries = entries.length;\n        for (var i = 0; i < nentries; i++) {\n            var entry = entries[i];\n            var width, height;\n            if (entry.contentBoxSize) {\n                if (entry.contentBoxSize instanceof Array) {\n                    // Chrome 84 implements new version of spec.\n                    width = entry.contentBoxSize[0].inlineSize;\n                    height = entry.contentBoxSize[0].blockSize;\n                } else {\n                    // Firefox implements old version of spec.\n                    width = entry.contentBoxSize.inlineSize;\n                    height = entry.contentBoxSize.blockSize;\n                }\n            } else {\n                // Chrome <84 implements even older version of spec.\n                width = entry.contentRect.width;\n                height = entry.contentRect.height;\n            }\n\n            // Keep the size of the canvas and rubber band canvas in sync with\n            // the canvas container.\n            if (entry.devicePixelContentBoxSize) {\n                // Chrome 84 implements new version of spec.\n                canvas.setAttribute(\n                    'width',\n                    entry.devicePixelContentBoxSize[0].inlineSize\n                );\n                canvas.setAttribute(\n                    'height',\n                    entry.devicePixelContentBoxSize[0].blockSize\n                );\n            } else {\n                canvas.setAttribute('width', width * fig.ratio);\n                canvas.setAttribute('height', height * fig.ratio);\n            }\n            canvas.setAttribute(\n                'style',\n                'width: ' + width + 'px; height: ' + height + 'px;'\n            );\n\n            rubberband_canvas.setAttribute('width', width);\n            rubberband_canvas.setAttribute('height', height);\n\n            // And update the size in Python. We ignore the initial 0/0 size\n            // that occurs as the element is placed into the DOM, which should\n            // otherwise not happen due to the minimum size styling.\n            if (fig.ws.readyState == 1 && width != 0 && height != 0) {\n                fig.request_resize(width, height);\n            }\n        }\n    });\n    this.resizeObserverInstance.observe(canvas_div);\n\n    function on_mouse_event_closure(name) {\n        return function (event) {\n            return fig.mouse_event(event, name);\n        };\n    }\n\n    rubberband_canvas.addEventListener(\n        'mousedown',\n        on_mouse_event_closure('button_press')\n    );\n    rubberband_canvas.addEventListener(\n        'mouseup',\n        on_mouse_event_closure('button_release')\n    );\n    rubberband_canvas.addEventListener(\n        'dblclick',\n        on_mouse_event_closure('dblclick')\n    );\n    // Throttle sequential mouse events to 1 every 20ms.\n    rubberband_canvas.addEventListener(\n        'mousemove',\n        on_mouse_event_closure('motion_notify')\n    );\n\n    rubberband_canvas.addEventListener(\n        'mouseenter',\n        on_mouse_event_closure('figure_enter')\n    );\n    rubberband_canvas.addEventListener(\n        'mouseleave',\n        on_mouse_event_closure('figure_leave')\n    );\n\n    canvas_div.addEventListener('wheel', function (event) {\n        if (event.deltaY < 0) {\n            event.step = 1;\n        } else {\n            event.step = -1;\n        }\n        on_mouse_event_closure('scroll')(event);\n    });\n\n    canvas_div.appendChild(canvas);\n    canvas_div.appendChild(rubberband_canvas);\n\n    this.rubberband_context = rubberband_canvas.getContext('2d');\n    this.rubberband_context.strokeStyle = '#000000';\n\n    this._resize_canvas = function (width, height, forward) {\n        if (forward) {\n            canvas_div.style.width = width + 'px';\n            canvas_div.style.height = height + 'px';\n        }\n    };\n\n    // Disable right mouse context menu.\n    this.rubberband_canvas.addEventListener('contextmenu', function (_e) {\n        event.preventDefault();\n        return false;\n    });\n\n    function set_focus() {\n        canvas.focus();\n        canvas_div.focus();\n    }\n\n    window.setTimeout(set_focus, 100);\n};\n\nmpl.figure.prototype._init_toolbar = function () {\n    var fig = this;\n\n    var toolbar = document.createElement('div');\n    toolbar.classList = 'mpl-toolbar';\n    this.root.appendChild(toolbar);\n\n    function on_click_closure(name) {\n        return function (_event) {\n            return fig.toolbar_button_onclick(name);\n        };\n    }\n\n    function on_mouseover_closure(tooltip) {\n        return function (event) {\n            if (!event.currentTarget.disabled) {\n                return fig.toolbar_button_onmouseover(tooltip);\n            }\n        };\n    }\n\n    fig.buttons = {};\n    var buttonGroup = document.createElement('div');\n    buttonGroup.classList = 'mpl-button-group';\n    for (var toolbar_ind in mpl.toolbar_items) {\n        var name = mpl.toolbar_items[toolbar_ind][0];\n        var tooltip = mpl.toolbar_items[toolbar_ind][1];\n        var image = mpl.toolbar_items[toolbar_ind][2];\n        var method_name = mpl.toolbar_items[toolbar_ind][3];\n\n        if (!name) {\n            /* Instead of a spacer, we start a new button group. */\n            if (buttonGroup.hasChildNodes()) {\n                toolbar.appendChild(buttonGroup);\n            }\n            buttonGroup = document.createElement('div');\n            buttonGroup.classList = 'mpl-button-group';\n            continue;\n        }\n\n        var button = (fig.buttons[name] = document.createElement('button'));\n        button.classList = 'mpl-widget';\n        button.setAttribute('role', 'button');\n        button.setAttribute('aria-disabled', 'false');\n        button.addEventListener('click', on_click_closure(method_name));\n        button.addEventListener('mouseover', on_mouseover_closure(tooltip));\n\n        var icon_img = document.createElement('img');\n        icon_img.src = '_images/' + image + '.png';\n        icon_img.srcset = '_images/' + image + '_large.png 2x';\n        icon_img.alt = tooltip;\n        button.appendChild(icon_img);\n\n        buttonGroup.appendChild(button);\n    }\n\n    if (buttonGroup.hasChildNodes()) {\n        toolbar.appendChild(buttonGroup);\n    }\n\n    var fmt_picker = document.createElement('select');\n    fmt_picker.classList = 'mpl-widget';\n    toolbar.appendChild(fmt_picker);\n    this.format_dropdown = fmt_picker;\n\n    for (var ind in mpl.extensions) {\n        var fmt = mpl.extensions[ind];\n        var option = document.createElement('option');\n        option.selected = fmt === mpl.default_extension;\n        option.innerHTML = fmt;\n        fmt_picker.appendChild(option);\n    }\n\n    var status_bar = document.createElement('span');\n    status_bar.classList = 'mpl-message';\n    toolbar.appendChild(status_bar);\n    this.message = status_bar;\n};\n\nmpl.figure.prototype.request_resize = function (x_pixels, y_pixels) {\n    // Request matplotlib to resize the figure. Matplotlib will then trigger a resize in the client,\n    // which will in turn request a refresh of the image.\n    this.send_message('resize', { width: x_pixels, height: y_pixels });\n};\n\nmpl.figure.prototype.send_message = function (type, properties) {\n    properties['type'] = type;\n    properties['figure_id'] = this.id;\n    this.ws.send(JSON.stringify(properties));\n};\n\nmpl.figure.prototype.send_draw_message = function () {\n    if (!this.waiting) {\n        this.waiting = true;\n        this.ws.send(JSON.stringify({ type: 'draw', figure_id: this.id }));\n    }\n};\n\nmpl.figure.prototype.handle_save = function (fig, _msg) {\n    var format_dropdown = fig.format_dropdown;\n    var format = format_dropdown.options[format_dropdown.selectedIndex].value;\n    fig.ondownload(fig, format);\n};\n\nmpl.figure.prototype.handle_resize = function (fig, msg) {\n    var size = msg['size'];\n    if (size[0] !== fig.canvas.width || size[1] !== fig.canvas.height) {\n        fig._resize_canvas(size[0], size[1], msg['forward']);\n        fig.send_message('refresh', {});\n    }\n};\n\nmpl.figure.prototype.handle_rubberband = function (fig, msg) {\n    var x0 = msg['x0'] / fig.ratio;\n    var y0 = (fig.canvas.height - msg['y0']) / fig.ratio;\n    var x1 = msg['x1'] / fig.ratio;\n    var y1 = (fig.canvas.height - msg['y1']) / fig.ratio;\n    x0 = Math.floor(x0) + 0.5;\n    y0 = Math.floor(y0) + 0.5;\n    x1 = Math.floor(x1) + 0.5;\n    y1 = Math.floor(y1) + 0.5;\n    var min_x = Math.min(x0, x1);\n    var min_y = Math.min(y0, y1);\n    var width = Math.abs(x1 - x0);\n    var height = Math.abs(y1 - y0);\n\n    fig.rubberband_context.clearRect(\n        0,\n        0,\n        fig.canvas.width / fig.ratio,\n        fig.canvas.height / fig.ratio\n    );\n\n    fig.rubberband_context.strokeRect(min_x, min_y, width, height);\n};\n\nmpl.figure.prototype.handle_figure_label = function (fig, msg) {\n    // Updates the figure title.\n    fig.header.textContent = msg['label'];\n};\n\nmpl.figure.prototype.handle_cursor = function (fig, msg) {\n    fig.rubberband_canvas.style.cursor = msg['cursor'];\n};\n\nmpl.figure.prototype.handle_message = function (fig, msg) {\n    fig.message.textContent = msg['message'];\n};\n\nmpl.figure.prototype.handle_draw = function (fig, _msg) {\n    // Request the server to send over a new figure.\n    fig.send_draw_message();\n};\n\nmpl.figure.prototype.handle_image_mode = function (fig, msg) {\n    fig.image_mode = msg['mode'];\n};\n\nmpl.figure.prototype.handle_history_buttons = function (fig, msg) {\n    for (var key in msg) {\n        if (!(key in fig.buttons)) {\n            continue;\n        }\n        fig.buttons[key].disabled = !msg[key];\n        fig.buttons[key].setAttribute('aria-disabled', !msg[key]);\n    }\n};\n\nmpl.figure.prototype.handle_navigate_mode = function (fig, msg) {\n    if (msg['mode'] === 'PAN') {\n        fig.buttons['Pan'].classList.add('active');\n        fig.buttons['Zoom'].classList.remove('active');\n    } else if (msg['mode'] === 'ZOOM') {\n        fig.buttons['Pan'].classList.remove('active');\n        fig.buttons['Zoom'].classList.add('active');\n    } else {\n        fig.buttons['Pan'].classList.remove('active');\n        fig.buttons['Zoom'].classList.remove('active');\n    }\n};\n\nmpl.figure.prototype.updated_canvas_event = function () {\n    // Called whenever the canvas gets updated.\n    this.send_message('ack', {});\n};\n\n// A function to construct a web socket function for onmessage handling.\n// Called in the figure constructor.\nmpl.figure.prototype._make_on_message_function = function (fig) {\n    return function socket_on_message(evt) {\n        if (evt.data instanceof Blob) {\n            var img = evt.data;\n            if (img.type !== 'image/png') {\n                /* FIXME: We get \"Resource interpreted as Image but\n                 * transferred with MIME type text/plain:\" errors on\n                 * Chrome.  But how to set the MIME type?  It doesn't seem\n                 * to be part of the websocket stream */\n                img.type = 'image/png';\n            }\n\n            /* Free the memory for the previous frames */\n            if (fig.imageObj.src) {\n                (window.URL || window.webkitURL).revokeObjectURL(\n                    fig.imageObj.src\n                );\n            }\n\n            fig.imageObj.src = (window.URL || window.webkitURL).createObjectURL(\n                img\n            );\n            fig.updated_canvas_event();\n            fig.waiting = false;\n            return;\n        } else if (\n            typeof evt.data === 'string' &&\n            evt.data.slice(0, 21) === 'data:image/png;base64'\n        ) {\n            fig.imageObj.src = evt.data;\n            fig.updated_canvas_event();\n            fig.waiting = false;\n            return;\n        }\n\n        var msg = JSON.parse(evt.data);\n        var msg_type = msg['type'];\n\n        // Call the  \"handle_{type}\" callback, which takes\n        // the figure and JSON message as its only arguments.\n        try {\n            var callback = fig['handle_' + msg_type];\n        } catch (e) {\n            console.log(\n                \"No handler for the '\" + msg_type + \"' message type: \",\n                msg\n            );\n            return;\n        }\n\n        if (callback) {\n            try {\n                // console.log(\"Handling '\" + msg_type + \"' message: \", msg);\n                callback(fig, msg);\n            } catch (e) {\n                console.log(\n                    \"Exception inside the 'handler_\" + msg_type + \"' callback:\",\n                    e,\n                    e.stack,\n                    msg\n                );\n            }\n        }\n    };\n};\n\n// from https://stackoverflow.com/questions/1114465/getting-mouse-location-in-canvas\nmpl.findpos = function (e) {\n    //this section is from http://www.quirksmode.org/js/events_properties.html\n    var targ;\n    if (!e) {\n        e = window.event;\n    }\n    if (e.target) {\n        targ = e.target;\n    } else if (e.srcElement) {\n        targ = e.srcElement;\n    }\n    if (targ.nodeType === 3) {\n        // defeat Safari bug\n        targ = targ.parentNode;\n    }\n\n    // pageX,Y are the mouse positions relative to the document\n    var boundingRect = targ.getBoundingClientRect();\n    var x = e.pageX - (boundingRect.left + document.body.scrollLeft);\n    var y = e.pageY - (boundingRect.top + document.body.scrollTop);\n\n    return { x: x, y: y };\n};\n\n/*\n * return a copy of an object with only non-object keys\n * we need this to avoid circular references\n * https://stackoverflow.com/a/24161582/3208463\n */\nfunction simpleKeys(original) {\n    return Object.keys(original).reduce(function (obj, key) {\n        if (typeof original[key] !== 'object') {\n            obj[key] = original[key];\n        }\n        return obj;\n    }, {});\n}\n\nmpl.figure.prototype.mouse_event = function (event, name) {\n    var canvas_pos = mpl.findpos(event);\n\n    if (name === 'button_press') {\n        this.canvas.focus();\n        this.canvas_div.focus();\n    }\n\n    var x = canvas_pos.x * this.ratio;\n    var y = canvas_pos.y * this.ratio;\n\n    this.send_message(name, {\n        x: x,\n        y: y,\n        button: event.button,\n        step: event.step,\n        guiEvent: simpleKeys(event),\n    });\n\n    /* This prevents the web browser from automatically changing to\n     * the text insertion cursor when the button is pressed.  We want\n     * to control all of the cursor setting manually through the\n     * 'cursor' event from matplotlib */\n    event.preventDefault();\n    return false;\n};\n\nmpl.figure.prototype._key_event_extra = function (_event, _name) {\n    // Handle any extra behaviour associated with a key event\n};\n\nmpl.figure.prototype.key_event = function (event, name) {\n    // Prevent repeat events\n    if (name === 'key_press') {\n        if (event.key === this._key) {\n            return;\n        } else {\n            this._key = event.key;\n        }\n    }\n    if (name === 'key_release') {\n        this._key = null;\n    }\n\n    var value = '';\n    if (event.ctrlKey && event.key !== 'Control') {\n        value += 'ctrl+';\n    }\n    else if (event.altKey && event.key !== 'Alt') {\n        value += 'alt+';\n    }\n    else if (event.shiftKey && event.key !== 'Shift') {\n        value += 'shift+';\n    }\n\n    value += 'k' + event.key;\n\n    this._key_event_extra(event, name);\n\n    this.send_message(name, { key: value, guiEvent: simpleKeys(event) });\n    return false;\n};\n\nmpl.figure.prototype.toolbar_button_onclick = function (name) {\n    if (name === 'download') {\n        this.handle_save(this, null);\n    } else {\n        this.send_message('toolbar_button', { name: name });\n    }\n};\n\nmpl.figure.prototype.toolbar_button_onmouseover = function (tooltip) {\n    this.message.textContent = tooltip;\n};\n\n///////////////// REMAINING CONTENT GENERATED BY embed_js.py /////////////////\n// prettier-ignore\nvar _JSXTOOLS_RESIZE_OBSERVER=function(A){var t,i=new WeakMap,n=new WeakMap,a=new WeakMap,r=new WeakMap,o=new Set;function s(e){if(!(this instanceof s))throw new TypeError(\"Constructor requires 'new' operator\");i.set(this,e)}function h(){throw new TypeError(\"Function is not a constructor\")}function c(e,t,i,n){e=0 in arguments?Number(arguments[0]):0,t=1 in arguments?Number(arguments[1]):0,i=2 in arguments?Number(arguments[2]):0,n=3 in arguments?Number(arguments[3]):0,this.right=(this.x=this.left=e)+(this.width=i),this.bottom=(this.y=this.top=t)+(this.height=n),Object.freeze(this)}function d(){t=requestAnimationFrame(d);var s=new WeakMap,p=new Set;o.forEach((function(t){r.get(t).forEach((function(i){var r=t instanceof window.SVGElement,o=a.get(t),d=r?0:parseFloat(o.paddingTop),f=r?0:parseFloat(o.paddingRight),l=r?0:parseFloat(o.paddingBottom),u=r?0:parseFloat(o.paddingLeft),g=r?0:parseFloat(o.borderTopWidth),m=r?0:parseFloat(o.borderRightWidth),w=r?0:parseFloat(o.borderBottomWidth),b=u+f,F=d+l,v=(r?0:parseFloat(o.borderLeftWidth))+m,W=g+w,y=r?0:t.offsetHeight-W-t.clientHeight,E=r?0:t.offsetWidth-v-t.clientWidth,R=b+v,z=F+W,M=r?t.width:parseFloat(o.width)-R-E,O=r?t.height:parseFloat(o.height)-z-y;if(n.has(t)){var k=n.get(t);if(k[0]===M&&k[1]===O)return}n.set(t,[M,O]);var S=Object.create(h.prototype);S.target=t,S.contentRect=new c(u,d,M,O),s.has(i)||(s.set(i,[]),p.add(i)),s.get(i).push(S)}))})),p.forEach((function(e){i.get(e).call(e,s.get(e),e)}))}return s.prototype.observe=function(i){if(i instanceof window.Element){r.has(i)||(r.set(i,new Set),o.add(i),a.set(i,window.getComputedStyle(i)));var n=r.get(i);n.has(this)||n.add(this),cancelAnimationFrame(t),t=requestAnimationFrame(d)}},s.prototype.unobserve=function(i){if(i instanceof window.Element&&r.has(i)){var n=r.get(i);n.has(this)&&(n.delete(this),n.size||(r.delete(i),o.delete(i))),n.size||r.delete(i),o.size||cancelAnimationFrame(t)}},A.DOMRectReadOnly=c,A.ResizeObserver=s,A.ResizeObserverEntry=h,A}; // eslint-disable-line\nmpl.toolbar_items = [[\"Home\", \"Reset original view\", \"fa fa-home icon-home\", \"home\"], [\"Back\", \"Back to previous view\", \"fa fa-arrow-left icon-arrow-left\", \"back\"], [\"Forward\", \"Forward to next view\", \"fa fa-arrow-right icon-arrow-right\", \"forward\"], [\"\", \"\", \"\", \"\"], [\"Pan\", \"Left button pans, Right button zooms\\nx/y fixes axis, CTRL fixes aspect\", \"fa fa-arrows icon-move\", \"pan\"], [\"Zoom\", \"Zoom to rectangle\\nx/y fixes axis\", \"fa fa-square-o icon-check-empty\", \"zoom\"], [\"\", \"\", \"\", \"\"], [\"Download\", \"Download plot\", \"fa fa-floppy-o icon-save\", \"download\"]];\n\nmpl.extensions = [\"eps\", \"jpeg\", \"pgf\", \"pdf\", \"png\", \"ps\", \"raw\", \"svg\", \"tif\"];\n\nmpl.default_extension = \"png\";/* global mpl */\n\nvar comm_websocket_adapter = function (comm) {\n    // Create a \"websocket\"-like object which calls the given IPython comm\n    // object with the appropriate methods. Currently this is a non binary\n    // socket, so there is still some room for performance tuning.\n    var ws = {};\n\n    ws.binaryType = comm.kernel.ws.binaryType;\n    ws.readyState = comm.kernel.ws.readyState;\n    function updateReadyState(_event) {\n        if (comm.kernel.ws) {\n            ws.readyState = comm.kernel.ws.readyState;\n        } else {\n            ws.readyState = 3; // Closed state.\n        }\n    }\n    comm.kernel.ws.addEventListener('open', updateReadyState);\n    comm.kernel.ws.addEventListener('close', updateReadyState);\n    comm.kernel.ws.addEventListener('error', updateReadyState);\n\n    ws.close = function () {\n        comm.close();\n    };\n    ws.send = function (m) {\n        //console.log('sending', m);\n        comm.send(m);\n    };\n    // Register the callback with on_msg.\n    comm.on_msg(function (msg) {\n        //console.log('receiving', msg['content']['data'], msg);\n        var data = msg['content']['data'];\n        if (data['blob'] !== undefined) {\n            data = {\n                data: new Blob(msg['buffers'], { type: data['blob'] }),\n            };\n        }\n        // Pass the mpl event to the overridden (by mpl) onmessage function.\n        ws.onmessage(data);\n    });\n    return ws;\n};\n\nmpl.mpl_figure_comm = function (comm, msg) {\n    // This is the function which gets called when the mpl process\n    // starts-up an IPython Comm through the \"matplotlib\" channel.\n\n    var id = msg.content.data.id;\n    // Get hold of the div created by the display call when the Comm\n    // socket was opened in Python.\n    var element = document.getElementById(id);\n    var ws_proxy = comm_websocket_adapter(comm);\n\n    function ondownload(figure, _format) {\n        window.open(figure.canvas.toDataURL());\n    }\n\n    var fig = new mpl.figure(id, ws_proxy, ondownload, element);\n\n    // Call onopen now - mpl needs it, as it is assuming we've passed it a real\n    // web socket which is closed, not our websocket->open comm proxy.\n    ws_proxy.onopen();\n\n    fig.parent_element = element;\n    fig.cell_info = mpl.find_output_cell(\"<div id='\" + id + \"'></div>\");\n    if (!fig.cell_info) {\n        console.error('Failed to find cell for figure', id, fig);\n        return;\n    }\n    fig.cell_info[0].output_area.element.on(\n        'cleared',\n        { fig: fig },\n        fig._remove_fig_handler\n    );\n};\n\nmpl.figure.prototype.handle_close = function (fig, msg) {\n    var width = fig.canvas.width / fig.ratio;\n    fig.cell_info[0].output_area.element.off(\n        'cleared',\n        fig._remove_fig_handler\n    );\n    fig.resizeObserverInstance.unobserve(fig.canvas_div);\n\n    // Update the output cell to use the data from the current canvas.\n    fig.push_to_output();\n    var dataURL = fig.canvas.toDataURL();\n    // Re-enable the keyboard manager in IPython - without this line, in FF,\n    // the notebook keyboard shortcuts fail.\n    IPython.keyboard_manager.enable();\n    fig.parent_element.innerHTML =\n        '<img src=\"' + dataURL + '\" width=\"' + width + '\">';\n    fig.close_ws(fig, msg);\n};\n\nmpl.figure.prototype.close_ws = function (fig, msg) {\n    fig.send_message('closing', msg);\n    // fig.ws.close()\n};\n\nmpl.figure.prototype.push_to_output = function (_remove_interactive) {\n    // Turn the data on the canvas into data in the output cell.\n    var width = this.canvas.width / this.ratio;\n    var dataURL = this.canvas.toDataURL();\n    this.cell_info[1]['text/html'] =\n        '<img src=\"' + dataURL + '\" width=\"' + width + '\">';\n};\n\nmpl.figure.prototype.updated_canvas_event = function () {\n    // Tell IPython that the notebook contents must change.\n    IPython.notebook.set_dirty(true);\n    this.send_message('ack', {});\n    var fig = this;\n    // Wait a second, then push the new image to the DOM so\n    // that it is saved nicely (might be nice to debounce this).\n    setTimeout(function () {\n        fig.push_to_output();\n    }, 1000);\n};\n\nmpl.figure.prototype._init_toolbar = function () {\n    var fig = this;\n\n    var toolbar = document.createElement('div');\n    toolbar.classList = 'btn-toolbar';\n    this.root.appendChild(toolbar);\n\n    function on_click_closure(name) {\n        return function (_event) {\n            return fig.toolbar_button_onclick(name);\n        };\n    }\n\n    function on_mouseover_closure(tooltip) {\n        return function (event) {\n            if (!event.currentTarget.disabled) {\n                return fig.toolbar_button_onmouseover(tooltip);\n            }\n        };\n    }\n\n    fig.buttons = {};\n    var buttonGroup = document.createElement('div');\n    buttonGroup.classList = 'btn-group';\n    var button;\n    for (var toolbar_ind in mpl.toolbar_items) {\n        var name = mpl.toolbar_items[toolbar_ind][0];\n        var tooltip = mpl.toolbar_items[toolbar_ind][1];\n        var image = mpl.toolbar_items[toolbar_ind][2];\n        var method_name = mpl.toolbar_items[toolbar_ind][3];\n\n        if (!name) {\n            /* Instead of a spacer, we start a new button group. */\n            if (buttonGroup.hasChildNodes()) {\n                toolbar.appendChild(buttonGroup);\n            }\n            buttonGroup = document.createElement('div');\n            buttonGroup.classList = 'btn-group';\n            continue;\n        }\n\n        button = fig.buttons[name] = document.createElement('button');\n        button.classList = 'btn btn-default';\n        button.href = '#';\n        button.title = name;\n        button.innerHTML = '<i class=\"fa ' + image + ' fa-lg\"></i>';\n        button.addEventListener('click', on_click_closure(method_name));\n        button.addEventListener('mouseover', on_mouseover_closure(tooltip));\n        buttonGroup.appendChild(button);\n    }\n\n    if (buttonGroup.hasChildNodes()) {\n        toolbar.appendChild(buttonGroup);\n    }\n\n    // Add the status bar.\n    var status_bar = document.createElement('span');\n    status_bar.classList = 'mpl-message pull-right';\n    toolbar.appendChild(status_bar);\n    this.message = status_bar;\n\n    // Add the close button to the window.\n    var buttongrp = document.createElement('div');\n    buttongrp.classList = 'btn-group inline pull-right';\n    button = document.createElement('button');\n    button.classList = 'btn btn-mini btn-primary';\n    button.href = '#';\n    button.title = 'Stop Interaction';\n    button.innerHTML = '<i class=\"fa fa-power-off icon-remove icon-large\"></i>';\n    button.addEventListener('click', function (_evt) {\n        fig.handle_close(fig, {});\n    });\n    button.addEventListener(\n        'mouseover',\n        on_mouseover_closure('Stop Interaction')\n    );\n    buttongrp.appendChild(button);\n    var titlebar = this.root.querySelector('.ui-dialog-titlebar');\n    titlebar.insertBefore(buttongrp, titlebar.firstChild);\n};\n\nmpl.figure.prototype._remove_fig_handler = function (event) {\n    var fig = event.data.fig;\n    if (event.target !== this) {\n        // Ignore bubbled events from children.\n        return;\n    }\n    fig.close_ws(fig, {});\n};\n\nmpl.figure.prototype._root_extra_style = function (el) {\n    el.style.boxSizing = 'content-box'; // override notebook setting of border-box.\n};\n\nmpl.figure.prototype._canvas_extra_style = function (el) {\n    // this is important to make the div 'focusable\n    el.setAttribute('tabindex', 0);\n    // reach out to IPython and tell the keyboard manager to turn it's self\n    // off when our div gets focus\n\n    // location in version 3\n    if (IPython.notebook.keyboard_manager) {\n        IPython.notebook.keyboard_manager.register_events(el);\n    } else {\n        // location in version 2\n        IPython.keyboard_manager.register_events(el);\n    }\n};\n\nmpl.figure.prototype._key_event_extra = function (event, _name) {\n    // Check for shift+enter\n    if (event.shiftKey && event.which === 13) {\n        this.canvas_div.blur();\n        // select the cell after this one\n        var index = IPython.notebook.find_cell_index(this.cell_info[0]);\n        IPython.notebook.select(index + 1);\n    }\n};\n\nmpl.figure.prototype.handle_save = function (fig, _msg) {\n    fig.ondownload(fig, null);\n};\n\nmpl.find_output_cell = function (html_output) {\n    // Return the cell and output element which can be found *uniquely* in the notebook.\n    // Note - this is a bit hacky, but it is done because the \"notebook_saving.Notebook\"\n    // IPython event is triggered only after the cells have been serialised, which for\n    // our purposes (turning an active figure into a static one), is too late.\n    var cells = IPython.notebook.get_cells();\n    var ncells = cells.length;\n    for (var i = 0; i < ncells; i++) {\n        var cell = cells[i];\n        if (cell.cell_type === 'code') {\n            for (var j = 0; j < cell.output_area.outputs.length; j++) {\n                var data = cell.output_area.outputs[j];\n                if (data.data) {\n                    // IPython >= 3 moved mimebundle to data attribute of output\n                    data = data.data;\n                }\n                if (data['text/html'] === html_output) {\n                    return [cell, data, j];\n                }\n            }\n        }\n    }\n};\n\n// Register the function which deals with the matplotlib target/channel.\n// The kernel may be null if the page has been refreshed.\nif (IPython.notebook.kernel !== null) {\n    IPython.notebook.kernel.comm_manager.register_target(\n        'matplotlib',\n        mpl.mpl_figure_comm\n    );\n}\n"
     },
     "metadata": {},
     "output_type": "display_data"
    },
    {
     "data": {
      "text/plain": "<IPython.core.display.HTML object>",
      "text/html": "<div id='e11d7248-4579-4d3c-b251-af98a1e0b154'></div>"
     },
     "metadata": {},
     "output_type": "display_data"
    }
   ],
   "source": [
    "fig, axs = plt.subplots(1, 2)\n",
    "axs[0].scatter(meta_data, ham_statics[0])\n",
    "axs[1].scatter(meta_data, spam_statics[0])\n",
    "plt.show()\n",
    "fig, axs = plt.subplots(1, 2)\n",
    "axs[0].scatter(meta_data, ham_statics[1])\n",
    "axs[1].scatter(meta_data, spam_statics[1])\n",
    "plt.show()"
   ],
   "metadata": {
    "collapsed": false,
    "pycharm": {
     "name": "#%%\n"
    }
   }
  },
  {
   "cell_type": "code",
   "execution_count": 11,
   "outputs": [
    {
     "name": "stderr",
     "output_type": "stream",
     "text": [
      "[nltk_data] Downloading package punkt to\n",
      "[nltk_data]     /home/junetheriver/nltk_data...\n",
      "[nltk_data]   Package punkt is already up-to-date!\n"
     ]
    },
    {
     "data": {
      "text/plain": "True"
     },
     "execution_count": 11,
     "metadata": {},
     "output_type": "execute_result"
    }
   ],
   "source": [
    "# Testing tokenization\n",
    "import nltk\n",
    "nltk.download('punkt')"
   ],
   "metadata": {
    "collapsed": false,
    "pycharm": {
     "name": "#%%\n"
    }
   }
  },
  {
   "cell_type": "code",
   "execution_count": 12,
   "outputs": [
    {
     "data": {
      "text/plain": "['Received',\n ':',\n 'from',\n 'gatekeeper.maritz.com',\n '(',\n 'firewall-user',\n '@',\n 'gatekeeper.maritz.com',\n '[',\n '207.239.118.4',\n ']',\n ')',\n 'by',\n 'aleve.media.mit.edu',\n '(',\n '8.8.7/ML970927',\n ')',\n 'with',\n 'ESMTP',\n 'id',\n 'PAA03360',\n 'for',\n '<',\n 'handyboard',\n '@',\n 'media.mit.edu',\n '>',\n ';',\n 'Tue',\n ',',\n '17',\n 'Nov',\n '1998',\n '15:07:41',\n '-0500',\n '(',\n 'EST',\n ')',\n 'Received',\n ':',\n 'by',\n 'gatekeeper.maritz.com',\n ';',\n 'id',\n 'OAA19408',\n ';',\n 'Tue',\n ',',\n '17',\n 'Nov',\n '1998',\n '14:05:08',\n '-0600',\n '(',\n 'CST',\n ')',\n 'Received',\n ':',\n 'from',\n 'mifenmta01.maritz.com',\n '(',\n '156.45.55.38',\n ')',\n 'by',\n 'gatekeeper.maritz.com',\n 'via',\n 'smap',\n '(',\n '4.1',\n ')',\n 'id',\n 'xma019232',\n ';',\n 'Tue',\n ',',\n '17',\n 'Nov',\n '98',\n '14:04:59',\n '-0600',\n 'Received',\n ':',\n 'by',\n 'mifenmta01.maritz.com',\n 'with',\n 'Internet',\n 'Mail',\n 'Service',\n '(',\n '5.5.2232.9',\n ')',\n 'id',\n '<',\n 'XAX270HN',\n '>',\n ';',\n 'Tue',\n ',',\n '17',\n 'Nov',\n '1998',\n '14:06:46',\n '-0600',\n 'Message-Id',\n ':',\n '<',\n '6F777E7A02A7D0118B5B00A02461E465058ED0A4',\n '@',\n 'mifen-comm03.maritz.com',\n '>',\n 'From',\n ':',\n '``',\n 'Graham',\n ',',\n 'J.',\n 'Todd',\n \"''\",\n '<',\n 'grahamjt',\n '@',\n 'Maritz.com',\n '>',\n 'To',\n ':',\n 'handyboard',\n '@',\n 'media.mit.edu',\n 'Subject',\n ':',\n 'Availability',\n 'of',\n 'Expansion',\n 'board',\n '?',\n 'Date',\n ':',\n 'Tue',\n ',',\n '17',\n 'Nov',\n '1998',\n '14:06:15',\n '-0600',\n 'X-Mailer',\n ':',\n 'Internet',\n 'Mail',\n 'Service',\n '(',\n '5.5.2232.9',\n ')',\n 'What',\n 'is',\n 'the',\n 'status',\n 'of',\n 'the',\n 'Handyboard',\n 'expansion',\n 'board',\n '?',\n 'The',\n 'latest',\n 'page',\n 'update',\n 'from',\n 'Fred',\n 'appears',\n 'to',\n 'be',\n 'Jul',\n '20th',\n ',',\n 'and',\n 'indicated',\n 'that',\n 'the',\n 'board',\n 'might',\n 'be',\n 'available',\n 'at',\n 'the',\n 'end',\n 'of',\n 'the',\n 'summer',\n '.',\n 'Todd']"
     },
     "execution_count": 12,
     "metadata": {},
     "output_type": "execute_result"
    }
   ],
   "source": [
    "nltk.word_tokenize(get_random_ham_content())"
   ],
   "metadata": {
    "collapsed": false,
    "pycharm": {
     "name": "#%%\n"
    }
   }
  },
  {
   "cell_type": "code",
   "execution_count": 13,
   "outputs": [],
   "source": [
    "from sklearn.feature_extraction.text import CountVectorizer"
   ],
   "metadata": {
    "collapsed": false,
    "pycharm": {
     "name": "#%%\n"
    }
   }
  },
  {
   "cell_type": "code",
   "execution_count": 14,
   "outputs": [],
   "source": [
    "vectorizer = CountVectorizer(token_pattern=r'\\b\\w+\\b')"
   ],
   "metadata": {
    "collapsed": false,
    "pycharm": {
     "name": "#%%\n"
    }
   }
  },
  {
   "cell_type": "code",
   "execution_count": 15,
   "outputs": [],
   "source": [
    "corpus = dl.raw_data.values()"
   ],
   "metadata": {
    "collapsed": false,
    "pycharm": {
     "name": "#%%\n"
    }
   }
  },
  {
   "cell_type": "code",
   "execution_count": 16,
   "outputs": [
    {
     "data": {
      "text/plain": "<37822x1504556 sparse matrix of type '<class 'numpy.int64'>'\n\twith 9550887 stored elements in Compressed Sparse Row format>"
     },
     "execution_count": 16,
     "metadata": {},
     "output_type": "execute_result"
    }
   ],
   "source": [
    "X = vectorizer.fit_transform(corpus)\n",
    "X"
   ],
   "metadata": {
    "collapsed": false,
    "pycharm": {
     "name": "#%%\n"
    }
   }
  },
  {
   "cell_type": "code",
   "execution_count": 17,
   "outputs": [
    {
     "data": {
      "text/plain": "(1504556,)"
     },
     "execution_count": 17,
     "metadata": {},
     "output_type": "execute_result"
    }
   ],
   "source": [
    "vectorizer.get_feature_names_out().shape"
   ],
   "metadata": {
    "collapsed": false,
    "pycharm": {
     "name": "#%%\n"
    }
   }
  },
  {
   "cell_type": "code",
   "execution_count": 18,
   "outputs": [
    {
     "name": "stdout",
     "output_type": "stream",
     "text": [
      "1112552\n"
     ]
    }
   ],
   "source": [
    "print(vectorizer.vocabulary_.get('received'))"
   ],
   "metadata": {
    "collapsed": false,
    "pycharm": {
     "name": "#%%\n"
    }
   }
  },
  {
   "cell_type": "code",
   "execution_count": 19,
   "outputs": [
    {
     "name": "stdout",
     "output_type": "stream",
     "text": [
      "Received: from mail.kurusyu-nai.com (61-30-232-142.static.tfn.net.tw [61.30.232.142])\n",
      "\tby aleve.media.mit.edu (8.8.7/ML970927) with ESMTP id BAA22138\n",
      "\tfor <handyboard@media.mit.edu>; Tue, 1 Sep 1998 06:39:07 -0400 (EDT)\n",
      "Received: (qmail 7156 invoked by uid 509); Tue, 1 Sep 1998 13:18:48 +0900\n",
      "Date: Tue, 1 Sep 1998 13:18:48 +0900\n",
      "Message-ID: <20060430041636.7155.qmail@mail.kurusyu-nai.com>\n",
      "MIME-Version: 1.0\n",
      "Content-Type: text/plain; charset=iso-2022-jp\n",
      "Content-Transfer-Encoding: 7bit\n",
      "From: info@kurusyu-nai.com\n",
      "To: handyboard@media.mit.edu\n",
      "Subject:\u001B$B%(%C%A2DG=$J!j$?$A$N%i%s%-%s%0$G$9!*\u001B(B\n",
      "MIME-Version: 1.0\n",
      "Content-type: text/plain; charset=iso-2022-jp\n",
      "Content-Transfer-Encoding: 7bit\n",
      "X-Mailer: WelcomeMail\n",
      "\n",
      "\u001B$B\"!!g!v!g!v!g!v!g!v!g!v!g!v!g!v!g!v!g!v!g!v!g!v!g!v!g!v!g!v!g\"!\u001B(B\n",
      "\u001B$B\"(!!!!!!!!=U`%L!!z%+%N%8%gC5$7$O$d$C$Q$j%3%3$+$i!!!!!!!!!!!!\"(\u001B(B\n",
      "\u001B$B\"(!!!!%l%G%#!<%9;o!&#G#A#L;oB??t7G:\\!*=w@-$KBg?M5$%5%$%H!*!!\"(\u001B(B\n",
      "\u001B$B\"!!g!v!g!v!g!v!g!v!g!v!g!v!g!v!g!v!g!v!g!v!g!v!g!v!g!v!g!v!g\"!\u001B(B\n",
      "\n",
      "\u001B$B!zWD!z=P2q$$$X$N:GNI%J%S!*$H$3$H$sM7$Y$F!\"$9$C$+$jK~B-\"v!zWD!z\u001B(B\n",
      "\u001B$B!!!zWD2fK}$7$J$$$GB(=P2q$$!*EA@bE*$J=P2q$$$r?tB?$/C[$$$?!zWD\u001B(B\n",
      "\u001B$B!!!!!zWDEv%5%$%H$3$=!\"%\"%/%;%9$9$k2ACM$,$\"$j$^$9!zWD!zWD\u001B(B\n",
      "\u001B$B!!!!!!!!!!!!\u001B(Bhttp://kjhdf.com/120/index_bo\n",
      "\n",
      "\n",
      "\u001B$B$$$^$\"$J$?$r$*BT$A$7$F$$$k$N$O!D\u001B(B\n",
      "\u001B$B!D!D!D!D!y!D!D!D!D!y!D!D!D!D!y!D!D!D!D!y!D!D!D!D!y!D!D!D!D!y!D!D\u001B(B \n",
      "\n",
      "\u001B$BL>A0!!!y;3K\\$j$(!!!!!!@1:B!!!y?eIS:B\u001B(B       \u001B$B<qL#!!!yNAM}\u001B(B\n",
      "\n",
      "\u001B$BG/Np!!!y#2#2:P!!!!!!!!7l1U7?!!!y#A7?!!!!\u001B(B \u001B$B#HEY!!!y!y!y!y\u001B(B\n",
      "\n",
      "\u001B$B?&6H!!!y#O#L!y!!!!!!!!;w$F$$$kM-L>?M!!!yM%9a\u001B(B\n",
      "\n",
      "\u001B$B!z(,(,(,(,(,(,(,(,(,(,(,(,(,(,(,(,(,(,(,(,(,(,(,(,(,(,(,(,(,(,(,!y\u001B(B \n",
      "\u001B$B0JA07G<(HD$G8+$+$1$F$:$C$H5$$K$J$C$F$^$7$?!#$\"$J$?$N$*$+$2$G;d!\"\u001B(B\n",
      "\u001B$B$d$C$H9%$_$NAj<j$r8+$D$1$i$l$?$s$G$9!#D>@\\%a!<%k$9$k$N$,I]$+$C$?$N$G!\"\u001B(B\n",
      "\u001B$B:G=i$N%a!<%k$@$1!\"%5%$%H$N%5%]!<%H$rDL$7$F$*4j$$$7$F$_$^$7$?!#\u001B(B\n",
      "\u001B$BEZF|$+J?F|$NLk#9;~0J9_$G2q$C$F$/$l$^$;$s$+!)\u001B(B\n",
      "\u001B$B!z(,(,(,(,(,(,(,(,(,(,(,(,(,(,(,(,(,(,(,(,(,(,(,(,(,(,(,(,(,(,(,!y\u001B(B \n",
      "\n",
      "\u001B$B$[$+!\"#1#8L>MM$,$\"$J$?$r$*BT$A$7$F$$$^$9!#\"*\u001B(B http://kjhdf.com/120/index_bo\n",
      "\u001B$BK\\F|\u001B(B24\u001B$B;~$^$G%H%C%W%i%s%/$N%\"%/%;%9EPO?$G!\"D>%a$b$7$/$OEEOC8r49$,2DG=$G$9!#\u001B(B\n",
      "\n",
      "\n",
      "\u001B$B$7$+$b!\"K\\Ev$K<+?.$r$b$C$F%a!<%k$r$4>R2p$9$k$3$H$,$G$-$k$N$O\u001B(B\n",
      "\u001B$B!Z=P2q$$\u001B(BRANKING \u001B$B=P2q$$EY!!\u001B(B120% \u001B$B![$N$_!*\u001B(B\n",
      "\n",
      "\u001B$B!!!!!!!!!!!!!|!{!|<B$O!\"Ev%5%$%H$K$O!|!{!|\u001B(B\n",
      "\n",
      "\u001B$B=P2q$$$r5a$a$k5.=E$J=w@-$?$A$N5v2D$rF@$F!\"\u001B(B\n",
      "\u001B$B!yHkL)!y$N%j%9%H$r:#2s!\"$\"$J$?$@$1$K8x3+$7$F$*$j$^$9!#\u001B(B\n",
      "\n",
      "\u001B$B!,!&\u001B(B*:.\u001B$B!#\u001B(B.:*\u001B$B!&!,!&\u001B(B*:.\u001B$B!#\u001B(B.:*\u001B$B!&!,!&\u001B(B*:\u001B$B!&\u001B(B*:.\u001B$B!#\u001B(B.:*\u001B$B!&\u001B(B*:.\u001B$B!#\u001B(B.:*\u001B$B!&!,\u001B(B\n",
      "\u001B$B!&\u001B(B*:.\u001B$B!#\u001B(B.:\u001B$BA4$F$N!i$N@?<B$J=P2q$$$r%5%]!<%H!*!&\u001B(B*:.\u001B$B!#\u001B(B.:*\u001B$B!&\u001B(B*:.\u001B$B!#\u001B(B.\n",
      "\n",
      "\u001B$B!&\u001B(B*:.\u001B$B!#\u001B(B.:*\u001B$B!&\u001B(B*\u001B$B$3$l$O$^$5$K%(%C%A2DG=$J!j$?$A$N!&\u001B(B*:.\u001B$B!#\u001B(B.:*\u001B$B!&\u001B(B*:\n",
      "\n",
      "\u001B$B!&\u001B(B*:\u001B$B!&\u001B(B*:.\u001B$B!#\u001B(B.:*\u001B$B%i%s%-%s%0%j%9%H$@!*!&\u001B(B*:.\u001B$B!#\u001B(B.:*\u001B$B!&\u001B(B*:.\n",
      "\u001B$B!&\u001B(B*:.\u001B$B!#\u001B(B.:*\u001B$B!&\u001B(B*:.\u001B$B!#\u001B(B.:*\u001B$B!&!,!&\u001B(B*:.\u001B$B!#\u001B(B.:*\u001B$B!&\u001B(B*:.\u001B$B!#\u001B(B.:*\u001B$B!&!,!&\u001B(B*:.\u001B$B!#\u001B(B.:*\u001B$B!&\u001B(B\n",
      "\u001B$B!!\u001B(Bhttp://kjhdf.com/120/index_bo\n",
      "\n",
      "\u001B$B\",5.=E$J%j%9%H$O$3$3$+$i%2%C%H!*\u001B(B\n",
      "\n",
      "\u001B$B!&:#2sFCJL$K>R2p$5$;$F$$$?$@$$$?!\"M%9a$5$s$N$[$+$K$b!\"\u001B(B\n",
      "\u001B$B!&B??t$N=w@-$,$\"$J$?$r$*BT$A$7$F$$$^$9!#?M:J$+$i!\"AG?M$J$N$K\u001B(B\n",
      "\u001B$B!&0|Mp$J@-JJ$N$\"$kJ}$J$I!*L%NO$N=P2q$$$G$b$&!\"M_5aITK~$J$s$F$$$o$;$^$;$s!*\u001B(B\n",
      "\n",
      "\u001B$B!!!!!!!!!!!z!y!z9%$_$N%5%$%H$+$i0lH/EPO?$G!z!y!z\u001B(B\n",
      "\n",
      "\u001B$BA4$F$N%(%C%A!*!!\u001B(Bhttp://kjhdf.com/120/index_bo\n",
      "\u001B$B\"\"\"\"\"\"\"\"\"\"\"\"\"\"\"\"\"\"\"\"\"\"\"\"\"\"\"\"\"\"\"\"\"\"\"\"\"\"\"\"\"\"\"\"\"\"\"\"\"\"\"\"\"\"\"\"\"\"\"\"\"\"\"\"\"\"\"\"\"\"\u001B(B\n",
      "\u001B$B\"\"\"\"\"\"\"\"\"\"\"\"\"\"\"\"\"\"\"\"\"\"\"\"\"\"\"\"\"\"\"\"\"\"\"\"\"\"\"\"\"\"\"\"\"\"\"\"\"\"\"\"\"\"\"\"\"\"\"\"\"\"\"\"\"\"\"\"\"\"\u001B(B\n",
      "\u001B$B\"\"\"\"\"(\"#\"#\"#\"#\"(\"#\"#\"#\"#\"(\"(\"(\"#\"#\"#\"#\"(\"(\"(\"(\"#\"(\"(\"(\"(\"#\"(\"(\"#\"(\"\"\"\"\u001B(B\n",
      "\u001B$B\"\"\"\"\"(\"#\"(\"(\"#\"(\"#\"(\"(\"#\"(\"(\"#\"#\"(\"(\"#\"#\"(\"(\"(\"#\"(\"(\"(\"#\"(\"(\"(\"#\"(\"\"\"\"\u001B(B\n",
      "\u001B$B\"\"\"\"\"(\"#\"#\"#\"#\"(\"#\"(\"(\"#\"(\"#\"#\"(\"(\"(\"(\"#\"#\"(\"(\"#\"(\"(\u001B(B \u001B$B\"#\u001B(B \u001B$B\"(\"(\"(\"#\"(\"\"\"\"\u001B(B\n",
      "\u001B$B\"\"\"\"\"(\"#\"(\"(\"#\"(\"#\"(\"(\"#\"(\"#\"(\"(\"(\"(\"(\"(\"#\"(\"(\"#\"(\"(\"#\"(\"(\"(\"(\"#\"(\"\"\"\"\u001B(B\n",
      "\u001B$B\"\"\"\"\"(\"#\"#\"#\"#\"(\"#\"(\"(\"#\"(\"#\"(\"(\"(\"(\"(\"(\"#\"(\"(\"#\"#\"#\"(\"(\"(\"(\"(\"#\"(\"\"\"\"\u001B(B\n",
      "\u001B$B\"\"\"\"\"(\"#\"(\"(\"(\"(\"#\"(\"#\"#\"(\"#\"(\"(\"(\"(\"(\"(\"#\"(\"(\"#\"#\"(\"(\"(\"(\"(\"(\"#\"(\"\"\"\"\u001B(B\n",
      "\u001B$B\"\"\"\"\"(\"#\"(\"#\"(\"(\"#\"(\"(\"(\"(\"#\"(\"(\"(\"(\"(\"(\"#\"(\"(\"#\"(\"#\"(\"(\"(\"(\"(\"#\"(\"\"\"\"\u001B(B\n",
      "\u001B$B\"\"\"\"\"(\"#\"(\"#\"(\"(\"#\"(\"(\"(\"(\"#\"#\"(\"(\"(\"(\"#\"#\"(\"(\"#\"(\"(\"#\"(\"(\"(\"(\"(\"\"\"\"\u001B(B\n",
      "\u001B$B\"\"\"\"\"(\"#\u001B(B \u001B$B\"#\u001B(B \u001B$B\"#\"(\"#\"(\"(\"(\"(\"(\"#\"#\"(\"(\"#\"#\"(\"(\"(\"#\"(\"(\u001B(B \u001B$B\"(\"#\"(\"(\"(\"#\"(\"\"\"\"\u001B(B\n",
      "\u001B$B\"\"\"\"\"(\"#\"#\"(\"(\"(\"#\"(\"(\"(\"(\"(\"(\"#\"#\"#\"#\"(\"(\"(\"(\"#\"(\"(\"(\"(\u001B(B \u001B$B\"#\"(\"(\"#\"(\"\"\"\"\u001B(B\n",
      "\u001B$B\"\"\"\"\"\"\"\"\"\"\"\"\"\"\"\"\"\"\"\"\"\"\"\"\"\"\"\"\"\"\"\"\"\"\"\"\"\"\"\"\"\"\"\"\"\"\"\"\"\"\"\"\"\"\"\"\"\"\"\"\"\"\"\"\"\"\"\"\"\"\u001B(B\n",
      "\u001B$B\"\"\"\"!\"\"\"\"\"\"\"\"\"\"\"\"\"\"\"\"\"\"\"\"\"\"\"\"\"\"\"\"\"\"\"\"\"\"\"\"\"\"\"\"\"\"\"\"\"\"\"\"\"\"\"\"\"\"\"\"\"\"\"\"\"\"\"\"\"\"\"\u001B(B\n",
      "\u001B$BFMF~$@\"*!!\u001B(Bhttp://kjhdf.com/120/index_bo\n",
      "\n",
      "\n",
      "\u001B$B!!!!!!!!!!!!!!!!!!!!!!!!$b$A$m$s!*\u001B(B\n",
      "\u001B$B!!!!!!!!!!!!!!!!!!!!!!!!\u001B(B~~~~~~~~~~\n",
      " \u001B$B\"v0B?4$G$-$k#2#4;~4V%5%]!<%H!uK|A4$N%;%-%e%j%F%#!<%7%9%F%`\"v\u001B(B\n",
      "\u001B$B!!\u001B(B~~~~~~~~~~~~~~~~~~~~~~~~~~~~~~~~~~~~~~~~~~~~~~~~~~~~~~~~~\n",
      "\u001B$B!!!!\u001B(B          http://kjhdf.com/120/index_bo\n",
      "\n",
      "\u001B$B$G$O!\"!Z=P2q$$\u001B(BRANKING \u001B$B=P2q$$EY!!\u001B(B120%\u001B$B![$G$*BT$A$7$F$$$^$9!#\u001B(B\n",
      "\n",
      "\n",
      "\u001B$B!!!!!!!!!!!!!!!!!!!c!c!c!c!c!c9-9p!d!d!d!d!d!d\u001B(B\n",
      "\u001B$B!&!&!&!E!E!D!D(,(,(,(,(,(,(,(,(,(,(,(,(,(,(,(,(,(,(,(,(,(,!D!D!E!E!&!&!&\u001B(B \n",
      "\u001B$B!!!!!!@$3&$GM#0l$N%P!<%A%c%k#S#E#X%2!<%`%a!<%+!<!Z\u001B(B \u001B$B%$%j%e!<%8%g%s\u001B(B \u001B$B![\u001B(B \n",
      "\u001B$B!&!&!&!E!E!D!D(,(,(,(,(,(,(,(,(,(,(,(,(,(,(,(,(,(,(,(,(,(,!D!D!E!E!&!&!&\u001B(B \n",
      "\n",
      "\u001B$B@$$NCf$K!\"$3$s$J$KH~$7$/%(%m$$%2!<%`$,$\"$C$?$J$s$F!D!D\u001B(B \n",
      "\n",
      "\u001B$B!|%$%j%e!<%8%g%s$O!\"@$3&$GM#0l!\"%P!<%A%c%k#S#E#X$r%2!<%`$H$7$FHNGd$7$F$$$^$9!#\u001B(B \n",
      "\n",
      "\u001B$B$3$N%2!<%`$G$O!\"<B:_$7$F$$$k$h$&$J=w$N;RC#$H?($l9g$$!\"K\\J*0J>e$N2w46$rF@$i$l$^$9!#!*\u001B(B \n",
      "\n",
      "\u001B$B8@MU$@$1$8$cEA$o$i$J$$$3$N2w46$r!Z\u001B(B \u001B$BL5NA\u001B(B \u001B$B![BN83HG$G$*;n$72<$5$$!*\u001B(B \n",
      "\u001B$B$^$?!\"$3$N%Z!<%8$K$O2a7c$JI=8=$,B?$/4^$^$l$F$$$^$9$N$G$4Cm0U2<$5$$!*\u001B(B \n",
      "http://www.illusion.jp/enter.html \n",
      "\n",
      "\n",
      "\u001B$BG[?.Dd;_$O$3$A$i\"*\u001B(B deai120_gogo@yahoo.co.jp\n",
      "\n",
      "\n",
      "received: from mail.kurusyu-nai.com (61-30-232-142.static.tfn.net.tw [61.30.232.142])\n",
      "\tby aleve.media.mit.edu (8.8.7/ml970927) with esmtp id baa22138\n",
      "\tfor <handyboard@media.mit.edu>; tue, 1 sep 1998 06:39:07 -0400 (edt)\n",
      "received: (qmail 7156 invoked by uid 509); tue, 1 sep 1998 13:18:48 +0900\n",
      "date: tue, 1 sep 1998 13:18:48 +0900\n",
      "message-id: <20060430041636.7155.qmail@mail.kurusyu-nai.com>\n",
      "mime-version: 1.0\n",
      "content-type: text/plain; charset=iso-2022-jp\n",
      "content-transfer-encoding: 7bit\n",
      "from: info@kurusyu-nai.com\n",
      "to: handyboard@media.mit.edu\n",
      "subject:\u001B$b%(%c%a2dg=$j!j$?$a$n%i%s%-%s%0$g$9!*\u001B(b\n",
      "mime-version: 1.0\n",
      "content-type: text/plain; charset=iso-2022-jp\n",
      "content-transfer-encoding: 7bit\n",
      "x-mailer: welcomemail\n",
      "\n",
      "\u001B$b\"!!g!v!g!v!g!v!g!v!g!v!g!v!g!v!g!v!g!v!g!v!g!v!g!v!g!v!g!v!g\"!\u001B(b\n",
      "\u001B$b\"(!!!!!!!!=u`%l!!z%+%n%8%gc5$7$o$d$c$q$j%3%3$+$i!!!!!!!!!!!!\"(\u001B(b\n",
      "\u001B$b\"(!!!!%l%g%#!<%9;o!&#g#a#l;ob??t7g:\\!*=w@-$kbg?m5$%5%$%h!*!!\"(\u001B(b\n",
      "\u001B$b\"!!g!v!g!v!g!v!g!v!g!v!g!v!g!v!g!v!g!v!g!v!g!v!g!v!g!v!g!v!g\"!\u001B(b\n",
      "\n",
      "\u001B$b!zwd!z=p2q$$$x$n:gni%j%s!*$h$3$h$sm7$y$f!\"$9$c$+$jk~b-\"v!zwd!z\u001B(b\n",
      "\u001B$b!!!zwd2fk}$7$j$$$gb(=p2q$$!*ea@be*$j=p2q$$$r?tb?$/c[$$$?!zwd\u001B(b\n",
      "\u001B$b!!!!!zwdev%5%$%h$3$=!\"%\"%/%;%9$9$k2acm$,$\"$j$^$9!zwd!zwd\u001B(b\n",
      "\u001B$b!!!!!!!!!!!!\u001B(bhttp://kjhdf.com/120/index_bo\n",
      "\n",
      "\n",
      "\u001B$b$$$^$\"$j$?$r$*bt$a$7$f$$$k$n$o!d\u001B(b\n",
      "\u001B$b!d!d!d!d!y!d!d!d!d!y!d!d!d!d!y!d!d!d!d!y!d!d!d!d!y!d!d!d!d!y!d!d\u001B(b \n",
      "\n",
      "\u001B$bl>a0!!!y;3k\\$j$(!!!!!!@1:b!!!y?eis:b\u001B(b       \u001B$b<ql#!!!ynam}\u001B(b\n",
      "\n",
      "\u001B$bg/np!!!y#2#2:p!!!!!!!!7l1u7?!!!y#a7?!!!!\u001B(b \u001B$b#hey!!!y!y!y!y\u001B(b\n",
      "\n",
      "\u001B$b?&6h!!!y#o#l!y!!!!!!!!;w$f$$$km-l>?m!!!ym%9a\u001B(b\n",
      "\n",
      "\u001B$b!z(,(,(,(,(,(,(,(,(,(,(,(,(,(,(,(,(,(,(,(,(,(,(,(,(,(,(,(,(,(,(,!y\u001B(b \n",
      "\u001B$b0ja07g<(hd$g8+$+$1$f$:$c$h5$$k$j$c$f$^$7$?!#$\"$j$?$n$*$+$2$g;d!\"\u001B(b\n",
      "\u001B$b$d$c$h9%$_$naj<j$r8+$d$1$i$l$?$s$g$9!#d>@\\%a!<%k$9$k$n$,i]$+$c$?$n$g!\"\u001B(b\n",
      "\u001B$b:g=i$n%a!<%k$@$1!\"%5%$%h$n%5%]!<%h$rdl$7$f$*4j$$$7$f$_$^$7$?!#\u001B(b\n",
      "\u001B$bezf|$+j?f|$nlk#9;~0j9_$g2q$c$f$/$l$^$;$s$+!)\u001B(b\n",
      "\u001B$b!z(,(,(,(,(,(,(,(,(,(,(,(,(,(,(,(,(,(,(,(,(,(,(,(,(,(,(,(,(,(,(,!y\u001B(b \n",
      "\n",
      "\u001B$b$[$+!\"#1#8l>mm$,$\"$j$?$r$*bt$a$7$f$$$^$9!#\"*\u001B(b http://kjhdf.com/120/index_bo\n",
      "\u001B$bk\\f|\u001B(b24\u001B$b;~$^$g%h%c%w%i%s%/$n%\"%/%;%9epo?$g!\"d>%a$b$7$/$oeeoc8r49$,2dg=$g$9!#\u001B(b\n",
      "\n",
      "\n",
      "\u001B$b$7$+$b!\"k\\ev$k<+?.$r$b$c$f%a!<%k$r$4>r2p$9$k$3$h$,$g$-$k$n$o\u001B(b\n",
      "\u001B$b!z=p2q$$\u001B(branking \u001B$b=p2q$$ey!!\u001B(b120% \u001B$b![$n$_!*\u001B(b\n",
      "\n",
      "\u001B$b!!!!!!!!!!!!!|!{!|<b$o!\"ev%5%$%h$k$o!|!{!|\u001B(b\n",
      "\n",
      "\u001B$b=p2q$$$r5a$a$k5.=e$j=w@-$?$a$n5v2d$rf@$f!\"\u001B(b\n",
      "\u001B$b!yhkl)!y$n%j%9%h$r:#2s!\"$\"$j$?$@$1$k8x3+$7$f$*$j$^$9!#\u001B(b\n",
      "\n",
      "\u001B$b!,!&\u001B(b*:.\u001B$b!#\u001B(b.:*\u001B$b!&!,!&\u001B(b*:.\u001B$b!#\u001B(b.:*\u001B$b!&!,!&\u001B(b*:\u001B$b!&\u001B(b*:.\u001B$b!#\u001B(b.:*\u001B$b!&\u001B(b*:.\u001B$b!#\u001B(b.:*\u001B$b!&!,\u001B(b\n",
      "\u001B$b!&\u001B(b*:.\u001B$b!#\u001B(b.:\u001B$ba4$f$n!i$n@?<b$j=p2q$$$r%5%]!<%h!*!&\u001B(b*:.\u001B$b!#\u001B(b.:*\u001B$b!&\u001B(b*:.\u001B$b!#\u001B(b.\n",
      "\n",
      "\u001B$b!&\u001B(b*:.\u001B$b!#\u001B(b.:*\u001B$b!&\u001B(b*\u001B$b$3$l$o$^$5$k%(%c%a2dg=$j!j$?$a$n!&\u001B(b*:.\u001B$b!#\u001B(b.:*\u001B$b!&\u001B(b*:\n",
      "\n",
      "\u001B$b!&\u001B(b*:\u001B$b!&\u001B(b*:.\u001B$b!#\u001B(b.:*\u001B$b%i%s%-%s%0%j%9%h$@!*!&\u001B(b*:.\u001B$b!#\u001B(b.:*\u001B$b!&\u001B(b*:.\n",
      "\u001B$b!&\u001B(b*:.\u001B$b!#\u001B(b.:*\u001B$b!&\u001B(b*:.\u001B$b!#\u001B(b.:*\u001B$b!&!,!&\u001B(b*:.\u001B$b!#\u001B(b.:*\u001B$b!&\u001B(b*:.\u001B$b!#\u001B(b.:*\u001B$b!&!,!&\u001B(b*:.\u001B$b!#\u001B(b.:*\u001B$b!&\u001B(b\n",
      "\u001B$b!!\u001B(bhttp://kjhdf.com/120/index_bo\n",
      "\n",
      "\u001B$b\",5.=e$j%j%9%h$o$3$3$+$i%2%c%h!*\u001B(b\n",
      "\n",
      "\u001B$b!&:#2sfcjl$k>r2p$5$;$f$$$?$@$$$?!\"m%9a$5$s$n$[$+$k$b!\"\u001B(b\n",
      "\u001B$b!&b??t$n=w@-$,$\"$j$?$r$*bt$a$7$f$$$^$9!#?m:j$+$i!\"ag?m$j$n$k\u001B(b\n",
      "\u001B$b!&0|mp$j@-jj$n$\"$kj}$j$i!*l%no$n=p2q$$$g$b$&!\"m_5aitk~$j$s$f$$$o$;$^$;$s!*\u001B(b\n",
      "\n",
      "\u001B$b!!!!!!!!!!!z!y!z9%$_$n%5%$%h$+$i0lh/epo?$g!z!y!z\u001B(b\n",
      "\n",
      "\u001B$ba4$f$n%(%c%a!*!!\u001B(bhttp://kjhdf.com/120/index_bo\n",
      "\u001B$b\"\"\"\"\"\"\"\"\"\"\"\"\"\"\"\"\"\"\"\"\"\"\"\"\"\"\"\"\"\"\"\"\"\"\"\"\"\"\"\"\"\"\"\"\"\"\"\"\"\"\"\"\"\"\"\"\"\"\"\"\"\"\"\"\"\"\"\"\"\"\u001B(b\n",
      "\u001B$b\"\"\"\"\"\"\"\"\"\"\"\"\"\"\"\"\"\"\"\"\"\"\"\"\"\"\"\"\"\"\"\"\"\"\"\"\"\"\"\"\"\"\"\"\"\"\"\"\"\"\"\"\"\"\"\"\"\"\"\"\"\"\"\"\"\"\"\"\"\"\u001B(b\n",
      "\u001B$b\"\"\"\"\"(\"#\"#\"#\"#\"(\"#\"#\"#\"#\"(\"(\"(\"#\"#\"#\"#\"(\"(\"(\"(\"#\"(\"(\"(\"(\"#\"(\"(\"#\"(\"\"\"\"\u001B(b\n",
      "\u001B$b\"\"\"\"\"(\"#\"(\"(\"#\"(\"#\"(\"(\"#\"(\"(\"#\"#\"(\"(\"#\"#\"(\"(\"(\"#\"(\"(\"(\"#\"(\"(\"(\"#\"(\"\"\"\"\u001B(b\n",
      "\u001B$b\"\"\"\"\"(\"#\"#\"#\"#\"(\"#\"(\"(\"#\"(\"#\"#\"(\"(\"(\"(\"#\"#\"(\"(\"#\"(\"(\u001B(b \u001B$b\"#\u001B(b \u001B$b\"(\"(\"(\"#\"(\"\"\"\"\u001B(b\n",
      "\u001B$b\"\"\"\"\"(\"#\"(\"(\"#\"(\"#\"(\"(\"#\"(\"#\"(\"(\"(\"(\"(\"(\"#\"(\"(\"#\"(\"(\"#\"(\"(\"(\"(\"#\"(\"\"\"\"\u001B(b\n",
      "\u001B$b\"\"\"\"\"(\"#\"#\"#\"#\"(\"#\"(\"(\"#\"(\"#\"(\"(\"(\"(\"(\"(\"#\"(\"(\"#\"#\"#\"(\"(\"(\"(\"(\"#\"(\"\"\"\"\u001B(b\n",
      "\u001B$b\"\"\"\"\"(\"#\"(\"(\"(\"(\"#\"(\"#\"#\"(\"#\"(\"(\"(\"(\"(\"(\"#\"(\"(\"#\"#\"(\"(\"(\"(\"(\"(\"#\"(\"\"\"\"\u001B(b\n",
      "\u001B$b\"\"\"\"\"(\"#\"(\"#\"(\"(\"#\"(\"(\"(\"(\"#\"(\"(\"(\"(\"(\"(\"#\"(\"(\"#\"(\"#\"(\"(\"(\"(\"(\"#\"(\"\"\"\"\u001B(b\n",
      "\u001B$b\"\"\"\"\"(\"#\"(\"#\"(\"(\"#\"(\"(\"(\"(\"#\"#\"(\"(\"(\"(\"#\"#\"(\"(\"#\"(\"(\"#\"(\"(\"(\"(\"(\"\"\"\"\u001B(b\n",
      "\u001B$b\"\"\"\"\"(\"#\u001B(b \u001B$b\"#\u001B(b \u001B$b\"#\"(\"#\"(\"(\"(\"(\"(\"#\"#\"(\"(\"#\"#\"(\"(\"(\"#\"(\"(\u001B(b \u001B$b\"(\"#\"(\"(\"(\"#\"(\"\"\"\"\u001B(b\n",
      "\u001B$b\"\"\"\"\"(\"#\"#\"(\"(\"(\"#\"(\"(\"(\"(\"(\"(\"#\"#\"#\"#\"(\"(\"(\"(\"#\"(\"(\"(\"(\u001B(b \u001B$b\"#\"(\"(\"#\"(\"\"\"\"\u001B(b\n",
      "\u001B$b\"\"\"\"\"\"\"\"\"\"\"\"\"\"\"\"\"\"\"\"\"\"\"\"\"\"\"\"\"\"\"\"\"\"\"\"\"\"\"\"\"\"\"\"\"\"\"\"\"\"\"\"\"\"\"\"\"\"\"\"\"\"\"\"\"\"\"\"\"\"\u001B(b\n",
      "\u001B$b\"\"\"\"!\"\"\"\"\"\"\"\"\"\"\"\"\"\"\"\"\"\"\"\"\"\"\"\"\"\"\"\"\"\"\"\"\"\"\"\"\"\"\"\"\"\"\"\"\"\"\"\"\"\"\"\"\"\"\"\"\"\"\"\"\"\"\"\"\"\"\"\u001B(b\n",
      "\u001B$bfmf~$@\"*!!\u001B(bhttp://kjhdf.com/120/index_bo\n",
      "\n",
      "\n",
      "\u001B$b!!!!!!!!!!!!!!!!!!!!!!!!$b$a$m$s!*\u001B(b\n",
      "\u001B$b!!!!!!!!!!!!!!!!!!!!!!!!\u001B(b~~~~~~~~~~\n",
      " \u001B$b\"v0b?4$g$-$k#2#4;~4v%5%]!<%h!uk|a4$n%;%-%e%j%f%#!<%7%9%f%`\"v\u001B(b\n",
      "\u001B$b!!\u001B(b~~~~~~~~~~~~~~~~~~~~~~~~~~~~~~~~~~~~~~~~~~~~~~~~~~~~~~~~~\n",
      "\u001B$b!!!!\u001B(b          http://kjhdf.com/120/index_bo\n",
      "\n",
      "\u001B$b$g$o!\"!z=p2q$$\u001B(branking \u001B$b=p2q$$ey!!\u001B(b120%\u001B$b![$g$*bt$a$7$f$$$^$9!#\u001B(b\n",
      "\n",
      "\n",
      "\u001B$b!!!!!!!!!!!!!!!!!!!c!c!c!c!c!c9-9p!d!d!d!d!d!d\u001B(b\n",
      "\u001B$b!&!&!&!e!e!d!d(,(,(,(,(,(,(,(,(,(,(,(,(,(,(,(,(,(,(,(,(,(,!d!d!e!e!&!&!&\u001B(b \n",
      "\u001B$b!!!!!!@$3&$gm#0l$n%p!<%a%c%k#s#e#x%2!<%`%a!<%+!<!z\u001B(b \u001B$b%$%j%e!<%8%g%s\u001B(b \u001B$b![\u001B(b \n",
      "\u001B$b!&!&!&!e!e!d!d(,(,(,(,(,(,(,(,(,(,(,(,(,(,(,(,(,(,(,(,(,(,!d!d!e!e!&!&!&\u001B(b \n",
      "\n",
      "\u001B$b@$$ncf$k!\"$3$s$j$kh~$7$/%(%m$$%2!<%`$,$\"$c$?$j$s$f!d!d\u001B(b \n",
      "\n",
      "\u001B$b!|%$%j%e!<%8%g%s$o!\"@$3&$gm#0l!\"%p!<%a%c%k#s#e#x$r%2!<%`$h$7$fhngd$7$f$$$^$9!#\u001B(b \n",
      "\n",
      "\u001B$b$3$n%2!<%`$g$o!\"<b:_$7$f$$$k$h$&$j=w$n;rc#$h?($l9g$$!\"k\\j*0j>e$n2w46$rf@$i$l$^$9!#!*\u001B(b \n",
      "\n",
      "\u001B$b8@mu$@$1$8$cea$o$i$j$$$3$n2w46$r!z\u001B(b \u001B$bl5na\u001B(b \u001B$b![bn83hg$g$*;n$72<$5$$!*\u001B(b \n",
      "\u001B$b$^$?!\"$3$n%z!<%8$k$o2a7c$ji=8=$,b?$/4^$^$l$f$$$^$9$n$g$4cm0u2<$5$$!*\u001B(b \n",
      "http://www.illusion.jp/enter.html \n",
      "\n",
      "\n",
      "\u001B$bg[?.dd;_$o$3$a$i\"*\u001B(b deai120_gogo@yahoo.co.jp\n",
      "\n",
      "\n",
      "['Received', 'from', 'mail', 'kurusyu', 'nai', 'com', '61', '30', '232', '142', 'static', 'tfn', 'net', 'tw', '61', '30', '232', '142', 'by', 'aleve', 'media', 'mit', 'edu', '8', '8', '7', 'ML970927', 'with', 'ESMTP', 'id', 'BAA22138', 'for', 'handyboard', 'media', 'mit', 'edu', 'Tue', '1', 'Sep', '1998', '06', '39', '07', '0400', 'EDT', 'Received', 'qmail', '7156', 'invoked', 'by', 'uid', '509', 'Tue', '1', 'Sep', '1998', '13', '18', '48', '0900', 'Date', 'Tue', '1', 'Sep', '1998', '13', '18', '48', '0900', 'Message', 'ID', '20060430041636', '7155', 'qmail', 'mail', 'kurusyu', 'nai', 'com', 'MIME', 'Version', '1', '0', 'Content', 'Type', 'text', 'plain', 'charset', 'iso', '2022', 'jp', 'Content', 'Transfer', 'Encoding', '7bit', 'From', 'info', 'kurusyu', 'nai', 'com', 'To', 'handyboard', 'media', 'mit', 'edu', 'Subject', 'B', 'C', 'A2DG', 'J', 'j', 'A', 'N', 'i', 's', 's', '0', 'G', '9', 'B', 'MIME', 'Version', '1', '0', 'Content', 'type', 'text', 'plain', 'charset', 'iso', '2022', 'jp', 'Content', 'Transfer', 'Encoding', '7bit', 'X', 'Mailer', 'WelcomeMail', 'B', 'g', 'v', 'g', 'v', 'g', 'v', 'g', 'v', 'g', 'v', 'g', 'v', 'g', 'v', 'g', 'v', 'g', 'v', 'g', 'v', 'g', 'v', 'g', 'v', 'g', 'v', 'g', 'v', 'g', 'B', 'B', 'U', 'L', 'z', 'N', '8', 'gC5', '7', 'O', 'd', 'C', 'Q', 'j', '3', '3', 'i', 'B', 'B', 'l', 'G', '9', 'o', 'G', 'A', 'L', 'oB', 't7G', 'w', 'KBg', 'M5', '5', 'H', 'B', 'B', 'g', 'v', 'g', 'v', 'g', 'v', 'g', 'v', 'g', 'v', 'g', 'v', 'g', 'v', 'g', 'v', 'g', 'v', 'g', 'v', 'g', 'v', 'g', 'v', 'g', 'v', 'g', 'v', 'g', 'B', 'B', 'zWD', 'z', 'P2q', 'X', 'N', 'GNI', 'J', 'S', 'H', '3', 'H', 'sM7', 'Y', 'F', '9', 'C', 'jK', 'B', 'v', 'zWD', 'z', 'B', 'B', 'zWD2fK', '7', 'J', 'GB', 'P2q', 'EA', 'bE', 'J', 'P2q', 'r', 'tB', 'C', 'zWD', 'B', 'B', 'zWDEv', '5', 'H', '3', '9', '9', 'k2ACM', 'j', '9', 'zWD', 'zWD', 'B', 'B', 'Bhttp', 'kjhdf', 'com', '120', 'index_bo', 'B', 'J', 'r', 'BT', 'A', '7', 'F', 'k', 'N', 'O', 'D', 'B', 'B', 'D', 'D', 'D', 'D', 'y', 'D', 'D', 'D', 'D', 'y', 'D', 'D', 'D', 'D', 'y', 'D', 'D', 'D', 'D', 'y', 'D', 'D', 'D', 'D', 'y', 'D', 'D', 'D', 'D', 'y', 'D', 'D', 'B', 'BL', 'A0', 'y', '3K', 'j', '1', 'B', 'y', 'eIS', 'B', 'B', 'B', 'qL', 'yNAM', 'B', 'BG', 'Np', 'y', '2', '2', 'P', '7l1U7', 'y', 'A7', 'B', 'B', 'HEY', 'y', 'y', 'y', 'y', 'B', 'B', '6H', 'y', 'O', 'L', 'y', 'w', 'F', 'kM', 'L', 'M', 'yM', '9a', 'B', 'B', 'z', 'y', 'B', 'B0JA07G', 'HD', 'G8', '1', 'F', 'C', 'H5', 'K', 'J', 'C', 'F', '7', 'J', 'N', '2', 'G', 'd', 'B', 'B', 'd', 'C', 'H9', '_', 'NAj', 'j', 'r8', 'D', '1', 'i', 'l', 's', 'G', '9', 'D', 'a', 'k', '9', 'k', 'N', 'I', 'C', 'N', 'G', 'B', 'B', 'G', 'i', 'N', 'a', 'k', '1', '5', 'H', 'N', '5', 'H', 'rDL', '7', 'F', '4j', '7', 'F', '_', '7', 'B', 'BEZF', 'J', 'F', 'NLk', '9', '0J9_', 'G2q', 'C', 'F', 'l', 's', 'B', 'B', 'z', 'y', 'B', 'B', '1', '8L', 'MM', 'J', 'r', 'BT', 'A', '7', 'F', '9', 'B', 'http', 'kjhdf', 'com', '120', 'index_bo', 'BK', 'F', 'B24', 'B', 'G', 'H', 'C', 'W', 'i', 's', 'N', '9EPO', 'G', 'D', 'a', 'b', '7', 'OEEOC8r49', '2DG', 'G', '9', 'B', 'B', '7', 'b', 'K', 'Ev', 'K', 'r', 'b', 'C', 'F', 'a', 'k', 'r', '4', 'R2p', '9', 'k', '3', 'H', 'G', 'k', 'N', 'O', 'B', 'B', 'Z', 'P2q', 'BRANKING', 'B', 'P2q', 'EY', 'B120', 'B', 'N', '_', 'B', 'B', 'B', 'O', 'Ev', '5', 'H', 'K', 'O', 'B', 'B', 'P2q', 'r5a', 'a', 'k5', 'E', 'J', 'w', 'A', 'N5v2D', 'rF', 'F', 'B', 'B', 'yHkL', 'y', 'N', 'j', '9', 'H', 'r', '2s', 'J', '1', 'K8x3', '7', 'F', 'j', '9', 'B', 'B', 'B', 'B', 'B', 'B', 'B', 'B', 'B', 'B', 'B', 'B', 'B', 'B', 'B', 'B', 'B', 'B', 'B', 'B', 'B', 'B', 'B', 'B', 'B', 'BA4', 'F', 'N', 'i', 'N', 'B', 'J', 'P2q', 'r', '5', 'H', 'B', 'B', 'B', 'B', 'B', 'B', 'B', 'B', 'B', 'B', 'B', 'B', 'B', 'B', '3', 'l', 'O', '5', 'K', 'C', 'A2DG', 'J', 'j', 'A', 'N', 'B', 'B', 'B', 'B', 'B', 'B', 'B', 'B', 'B', 'B', 'B', 'B', 'i', 's', 's', '0', 'j', '9', 'H', 'B', 'B', 'B', 'B', 'B', 'B', 'B', 'B', 'B', 'B', 'B', 'B', 'B', 'B', 'B', 'B', 'B', 'B', 'B', 'B', 'B', 'B', 'B', 'B', 'B', 'B', 'B', 'B', 'Bhttp', 'kjhdf', 'com', '120', 'index_bo', 'B', '5', 'E', 'J', 'j', '9', 'H', 'O', '3', '3', 'i', '2', 'C', 'H', 'B', 'B', '2sFCJL', 'K', 'R2p', '5', 'F', 'M', '9a', '5', 's', 'N', 'K', 'b', 'B', 'B', 'B', 't', 'N', 'w', 'J', 'r', 'BT', 'A', '7', 'F', '9', 'M', 'J', 'i', 'AG', 'M', 'J', 'N', 'K', 'B', 'B', '0', 'Mp', 'J', 'JJ', 'N', 'kJ', 'J', 'I', 'L', 'NO', 'N', 'P2q', 'G', 'b', 'M_5aITK', 'J', 's', 'F', 'o', 's', 'B', 'B', 'z', 'y', 'z9', '_', 'N', '5', 'H', 'i0lH', 'EPO', 'G', 'z', 'y', 'z', 'B', 'BA4', 'F', 'N', 'C', 'A', 'Bhttp', 'kjhdf', 'com', '120', 'index_bo', 'B', 'B', 'B', 'B', 'B', 'B', 'B', 'B', 'B', 'B', 'B', 'B', 'B', 'B', 'B', 'B', 'B', 'B', 'B', 'B', 'B', 'B', 'B', 'B', 'B', 'B', 'B', 'B', 'B', 'B', 'B', 'B', 'B', 'B', 'B', 'B', 'B', 'B', 'B', 'B', 'BFMF', 'Bhttp', 'kjhdf', 'com', '120', 'index_bo', 'B', 'b', 'A', 'm', 's', 'B', 'B', 'B', 'B', 'v0B', '4', 'G', 'k', '2', '4', '4V', '5', 'H', 'uK', 'A4', 'N', 'e', 'j', 'F', '7', '9', 'F', 'v', 'B', 'B', 'B', 'B', 'B', 'http', 'kjhdf', 'com', '120', 'index_bo', 'B', 'G', 'O', 'Z', 'P2q', 'BRANKING', 'B', 'P2q', 'EY', 'B120', 'B', 'G', 'BT', 'A', '7', 'F', '9', 'B', 'B', 'c', 'c', 'c', 'c', 'c', 'c9', '9p', 'd', 'd', 'd', 'd', 'd', 'd', 'B', 'B', 'E', 'E', 'D', 'D', 'D', 'D', 'E', 'E', 'B', 'B', '3', 'GM', '0l', 'N', 'P', 'A', 'c', 'k', 'S', 'E', 'X', '2', 'a', 'Z', 'B', 'B', 'j', 'e', '8', 'g', 's', 'B', 'B', 'B', 'B', 'E', 'E', 'D', 'D', 'D', 'D', 'E', 'E', 'B', 'B', 'NCf', 'K', '3', 's', 'J', 'KH', '7', 'm', '2', 'C', 'J', 's', 'F', 'D', 'D', 'B', 'B', 'j', 'e', '8', 'g', 's', 'O', '3', 'GM', '0l', 'P', 'A', 'c', 'k', 'S', 'E', 'X', 'r', '2', 'H', '7', 'FHNGd', '7', 'F', '9', 'B', 'B', '3', 'N', '2', 'G', 'O', 'B', '_', '7', 'F', 'k', 'h', 'J', 'w', 'N', 'RC', 'H', 'l9g', 'K', 'J', '0J', 'e', 'N2w46', 'rF', 'i', 'l', '9', 'B', 'B8', 'MU', '1', '8', 'cEA', 'o', 'i', 'J', '3', 'N2w46', 'r', 'Z', 'B', 'BL5NA', 'B', 'B', 'BN83HG', 'G', 'n', '72', '5', 'B', 'B', '3', 'N', 'Z', '8', 'K', 'O2a7c', 'JI', '8', 'B', '4', 'l', 'F', '9', 'N', 'G', '4Cm0U2', '5', 'B', 'http', 'www', 'illusion', 'jp', 'enter', 'html', 'BG', 'Dd', '_', 'O', '3', 'A', 'i', 'B', 'deai120_gogo', 'yahoo', 'co', 'jp']\n"
     ]
    }
   ],
   "source": [
    "doc = get_random_spam_content()\n",
    "print(doc)\n",
    "print(vectorizer.build_preprocessor()(doc))\n",
    "print(vectorizer.build_tokenizer()(doc))"
   ],
   "metadata": {
    "collapsed": false,
    "pycharm": {
     "name": "#%%\n"
    }
   }
  },
  {
   "cell_type": "code",
   "execution_count": 27,
   "outputs": [
    {
     "data": {
      "text/plain": "<module 'model' from '/home/junetheriver/code/ml/bayes/model.py'>"
     },
     "execution_count": 27,
     "metadata": {},
     "output_type": "execute_result"
    }
   ],
   "source": [
    "import model\n",
    "importlib.reload(model)"
   ],
   "metadata": {
    "collapsed": false,
    "pycharm": {
     "name": "#%%\n"
    }
   }
  },
  {
   "cell_type": "code",
   "execution_count": 28,
   "outputs": [],
   "source": [
    "nbc = model.NBC(dl, args)\n",
    "nbc.train()"
   ],
   "metadata": {
    "collapsed": false,
    "pycharm": {
     "name": "#%%\n"
    }
   }
  },
  {
   "cell_type": "code",
   "execution_count": 31,
   "outputs": [],
   "source": [
    "feature = nbc.feature_extraction([get_random_ham_content()])"
   ],
   "metadata": {
    "collapsed": false,
    "pycharm": {
     "name": "#%%\n"
    }
   }
  },
  {
   "cell_type": "code",
   "execution_count": 32,
   "outputs": [
    {
     "data": {
      "text/plain": "(1, 1504468)"
     },
     "execution_count": 32,
     "metadata": {},
     "output_type": "execute_result"
    }
   ],
   "source": [
    "feature.shape"
   ],
   "metadata": {
    "collapsed": false,
    "pycharm": {
     "name": "#%%\n"
    }
   }
  },
  {
   "cell_type": "code",
   "execution_count": null,
   "outputs": [],
   "source": [
    "from scipy import sparse\n",
    "resparse = sparse.csr_matrix(feature)"
   ],
   "metadata": {
    "collapsed": false,
    "pycharm": {
     "name": "#%%\n"
    }
   }
  },
  {
   "cell_type": "code",
   "execution_count": null,
   "outputs": [],
   "source": [
    "resparse"
   ],
   "metadata": {
    "collapsed": false,
    "pycharm": {
     "name": "#%%\n"
    }
   }
  },
  {
   "cell_type": "code",
   "execution_count": 34,
   "outputs": [
    {
     "data": {
      "text/plain": "11.0"
     },
     "execution_count": 34,
     "metadata": {},
     "output_type": "execute_result"
    }
   ],
   "source": [
    "np.max(feature)"
   ],
   "metadata": {
    "collapsed": false,
    "pycharm": {
     "name": "#%%\n"
    }
   }
  },
  {
   "cell_type": "code",
   "execution_count": 5,
   "outputs": [
    {
     "name": "stdout",
     "output_type": "stream",
     "text": [
      "Loaded 37822 data\n",
      "Random seed: 1\n",
      "Generated a vectorizer of bow with 1000 vocabulary\n",
      "Save model weight to:  /home/junetheriver/code/ml/bayes/weight.pkl\n"
     ]
    }
   ],
   "source": [
    "import dataloader\n",
    "import params\n",
    "import random\n",
    "import numpy as np\n",
    "import matplotlib.pyplot as plt\n",
    "import importlib\n",
    "import model\n",
    "\n",
    "args = params.get_default_args()\n",
    "dl = dataloader.Dataloader(args)\n",
    "args.save_weight = '/home/junetheriver/code/ml/bayes/weight.pkl'\n",
    "\n",
    "nbc = model.NBC(args)\n",
    "train_dataset = dl[dl.get_train_fold(0)]\n",
    "test_dataset = dl[dl.get_test_fold(0)]\n",
    "nbc.train(train_dataset)"
   ],
   "metadata": {
    "collapsed": false,
    "pycharm": {
     "name": "#%%\n"
    }
   }
  },
  {
   "cell_type": "code",
   "execution_count": 4,
   "outputs": [
    {
     "data": {
      "text/plain": "<module 'model' from '/home/junetheriver/code/ml/bayes/model.py'>"
     },
     "execution_count": 4,
     "metadata": {},
     "output_type": "execute_result"
    }
   ],
   "source": [
    "importlib.reload(params)\n",
    "importlib.reload(model)"
   ],
   "metadata": {
    "collapsed": false,
    "pycharm": {
     "name": "#%%\n"
    }
   }
  },
  {
   "cell_type": "code",
   "execution_count": 28,
   "outputs": [
    {
     "name": "stdout",
     "output_type": "stream",
     "text": [
      "0.7589899524061343\n"
     ]
    }
   ],
   "source": [
    "cnt = 0\n",
    "for i in test_dataset:\n",
    "    result = nbc.demo(i[0])\n",
    "    if result == i[1] :\n",
    "        cnt += 1\n",
    "print(cnt / len(test_dataset))"
   ],
   "metadata": {
    "collapsed": false,
    "pycharm": {
     "name": "#%%\n"
    }
   }
  },
  {
   "cell_type": "code",
   "execution_count": 13,
   "outputs": [],
   "source": [
    "hams = dl.get_ham()\n",
    "spams = dl.get_spam()"
   ],
   "metadata": {
    "collapsed": false,
    "pycharm": {
     "name": "#%%\n"
    }
   }
  },
  {
   "cell_type": "code",
   "execution_count": 1,
   "outputs": [],
   "source": [
    "import numpy as np"
   ],
   "metadata": {
    "collapsed": false,
    "pycharm": {
     "name": "#%%\n"
    }
   }
  },
  {
   "cell_type": "code",
   "execution_count": 4,
   "outputs": [
    {
     "name": "stdout",
     "output_type": "stream",
     "text": [
      "[ 2.  4.  6.  8. 10.]\n"
     ]
    }
   ],
   "source": [
    "a = np.array([1,2,3,4,5])\n",
    "b = a * 3\n",
    "c = np.average([a, b], axis = 0)\n",
    "print(c)"
   ],
   "metadata": {
    "collapsed": false,
    "pycharm": {
     "name": "#%%\n"
    }
   }
  },
  {
   "cell_type": "code",
   "execution_count": 18,
   "outputs": [
    {
     "data": {
      "text/plain": "<module 'match' from '/home/junetheriver/code/ml/bayes/match.py'>"
     },
     "execution_count": 18,
     "metadata": {},
     "output_type": "execute_result"
    }
   ],
   "source": [
    "import match\n",
    "importlib.reload(match)"
   ],
   "metadata": {
    "collapsed": false,
    "pycharm": {
     "name": "#%%\n"
    }
   }
  },
  {
   "cell_type": "code",
   "execution_count": 23,
   "outputs": [
    {
     "name": "stdout",
     "output_type": "stream",
     "text": [
      "url: 12, email: 3, phone: 686\n",
      "url: 4, email: 1, phone: 2234\n",
      "url: 9, email: 5, phone: 1230\n",
      "url: 9, email: 5, phone: 952\n",
      "url: 8, email: 5, phone: 3771\n",
      "url: 12, email: 5, phone: 1500\n",
      "url: 16, email: 10, phone: 2676\n",
      "url: 33, email: 3, phone: 8862\n",
      "url: 8, email: 3, phone: 516\n",
      "url: 17, email: 11, phone: 2355\n"
     ]
    }
   ],
   "source": [
    "for i in range(10):\n",
    "    match.process(get_random_spam_content())"
   ],
   "metadata": {
    "collapsed": false,
    "pycharm": {
     "name": "#%%\n"
    }
   }
  },
  {
   "cell_type": "code",
   "execution_count": 22,
   "outputs": [
    {
     "name": "stdout",
     "output_type": "stream",
     "text": [
      "url: 12, email: 6, phone: 1282\n",
      "url: 15, email: 5, phone: 1308\n",
      "url: 10, email: 6, phone: 772\n",
      "url: 15, email: 10, phone: 1842\n",
      "url: 17, email: 4, phone: 1654\n",
      "url: 11, email: 6, phone: 1094\n",
      "url: 20, email: 8, phone: 4217\n",
      "url: 10, email: 5, phone: 2662\n",
      "url: 98, email: 0, phone: 8054\n",
      "url: 10, email: 5, phone: 848\n"
     ]
    }
   ],
   "source": [
    "for i in range(10):\n",
    "    match.process(get_random_ham_content())"
   ],
   "metadata": {
    "collapsed": false,
    "pycharm": {
     "name": "#%%\n"
    }
   }
  },
  {
   "cell_type": "code",
   "execution_count": null,
   "outputs": [],
   "source": [],
   "metadata": {
    "collapsed": false,
    "pycharm": {
     "name": "#%%\n"
    }
   }
  }
 ],
 "metadata": {
  "kernelspec": {
   "display_name": "Python 3",
   "language": "python",
   "name": "python3"
  },
  "language_info": {
   "codemirror_mode": {
    "name": "ipython",
    "version": 2
   },
   "file_extension": ".py",
   "mimetype": "text/x-python",
   "name": "python",
   "nbconvert_exporter": "python",
   "pygments_lexer": "ipython2",
   "version": "2.7.6"
  }
 },
 "nbformat": 4,
 "nbformat_minor": 0
}