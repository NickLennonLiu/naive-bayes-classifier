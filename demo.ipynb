{
 "cells": [
  {
   "cell_type": "markdown",
   "metadata": {
    "collapsed": true,
    "pycharm": {
     "name": "#%% md\n"
    }
   },
   "source": [
    "我们想看看垃圾邮件和非垃圾邮件的特性是怎样的。"
   ]
  },
  {
   "cell_type": "code",
   "execution_count": 1,
   "outputs": [],
   "source": [
    "import dataloader\n",
    "import params\n",
    "import random\n",
    "import numpy as np\n",
    "import matplotlib.pyplot as plt\n",
    "import importlib"
   ],
   "metadata": {
    "collapsed": false,
    "pycharm": {
     "name": "#%%\n"
    }
   }
  },
  {
   "cell_type": "code",
   "execution_count": 2,
   "outputs": [
    {
     "name": "stdout",
     "output_type": "stream",
     "text": [
      "Loaded 37822 data\n"
     ]
    }
   ],
   "source": [
    "args = params.get_default_args()\n",
    "dl = dataloader.Dataloader(args)\n",
    "hams = dl.get_ham()\n",
    "spams = dl.get_spam()"
   ],
   "metadata": {
    "collapsed": false,
    "pycharm": {
     "name": "#%%\n"
    }
   }
  },
  {
   "cell_type": "code",
   "execution_count": 10,
   "outputs": [
    {
     "name": "stdout",
     "output_type": "stream",
     "text": [
      "Received: from gso.bu.edu (GSO.BU.EDU [128.197.60.71])\n",
      "\tby cs.bu.edu ((8.8.8.buoit.b4)/8.8.8/(BU-S-06/23/98-b7)) with ESMTP id SAA02155;\n",
      "\tFri, 25 Sep 1998 18:38:14 -0400 (EDT)\n",
      "Received: (from majordom@localhost)\n",
      "\tby gso.bu.edu (8.8.5/8.8.5/(BU-S-02/10/97-v1.0)) id SAA08358\n",
      "\tfor info-list; Fri, 25 Sep 1998 18:38:08 -0400 (EDT)\n",
      "Received: from cs.bu.edu (CS.BU.EDU [128.197.10.2])\n",
      "\tby gso.bu.edu (8.8.5/8.8.5/(BU-S-02/10/97-v1.0)) with ESMTP id SAA08354\n",
      "\tfor <info@gso.bu.edu>; Fri, 25 Sep 1998 18:38:05 -0400 (EDT)\n",
      "Received: from csb.bu.edu (rip@csb [128.197.10.4])\n",
      "\tby cs.bu.edu ((8.8.8.buoit.b4)/8.8.8/(BU-S-06/23/98-b7)) with ESMTP id SAA02139\n",
      "\tfor <info@gso.bu.edu>; Fri, 25 Sep 1998 18:38:05 -0400 (EDT)\n",
      "From: Robert Pitts <rip@cs.bu.edu>\n",
      "Received: by csb.bu.edu (8.8.5/Spike-2.1)\n",
      "\tid SAA07961; Fri, 25 Sep 1998 18:38:02 -0400 (EDT)\n",
      "Date: Fri, 25 Sep 1998 18:38:02 -0400 (EDT)\n",
      "Message-Id: <199809252238.SAA07961@csb.bu.edu>\n",
      "To: info@gso.bu.edu\n",
      "Subject: GSO - summary of Thu, Sep 24, 98 meeting\n",
      "Sender: owner-info@gso.bu.edu\n",
      "Precedence: bulk\n",
      "Content-Type: text\n",
      "Content-Length: 6830\n",
      "Status: RO\n",
      "\n",
      "Here is a summary of what we did at yesterday's Graduate Student\n",
      "Organization meeting.  Our next meeting will be in 2 weeks (exact\n",
      "day/time to be announced).\n",
      "\n",
      "--Rob\n",
      "\n",
      "Summary\n",
      "=======\n",
      "\n",
      "1. Committee Reviews\n",
      "\n",
      "   We reviewed the purpose of each committee (descriptions sent out\n",
      "   earlier--available upon request).  Committees will begin meeting\n",
      "   between now and our next general meeting to write up what their goals\n",
      "   are and to begin their work.  Each will report on their progress at\n",
      "   general meetings, but may also send/request information via the\n",
      "   general mailing list.\n",
      "\n",
      "   Below, we list each committee.  Following the names are the number\n",
      "   of \"confirmed\" members, then the number of potential members from\n",
      "   which we are still waiting for confirmation:\n",
      "\n",
      "     Funding (3/1)\n",
      "     Healthcare (4)\n",
      "     Liaison (2)\n",
      "     Social (2/2)\n",
      "     Steering (4)\n",
      "\n",
      "   There is also one person who has volunteered to improve our \"housing\"\n",
      "   information.\n",
      "\n",
      "2. Committee Reports\n",
      "\n",
      "   The 3 committees that continue from last year gave brief reports.\n",
      "\n",
      "\n",
      "   Social Committee\n",
      "   ================\n",
      "\n",
      "   Jen Wenner <wenner@bu.edu> and Sarah Lyons <slyons@bu.edu> reported\n",
      "   that we will be able to have movie nights.  At these, movies will be\n",
      "   shown on campus, free to grad students.  They are still deciding\n",
      "   on a day/time and frequency; and thus, will give us more information\n",
      "   about those and the movie night location in the future.\n",
      "\n",
      "   They also plan to start looking into \"brown bag\" talks for the semester.\n",
      "   It is likely that one talk will involve inviting a representative from\n",
      "   the Chickering (student) insurance company.\n",
      "\n",
      "   One meeting participant suggested the possibility of putting out a\n",
      "   \"topic of discussion\" for a brown bag talk and then having each\n",
      "   department prepare something to say about the topic.\n",
      "\n",
      "   Other participants said that Pub Nights could be improved by\n",
      "   having: more tables set aside, more signs around where the grads\n",
      "   are sitting, and some people with name tags willing to go around and\n",
      "   greet people.  Also, that perhaps some simple activities could be\n",
      "   set up to help \"break the ice.\"\n",
      "\n",
      "   Liaison Committee\n",
      "   =================\n",
      "\n",
      "   Cassandra Celatka <celatka@chem.bu.edu> reported that Andrea White\n",
      "   (our contact in GRS, who works under Assoc. Dean Whitaker) had not\n",
      "   yet replied on what is happening with:\n",
      "\n",
      "   - Our acquisition of a lounge for grad students.\n",
      "\n",
      "   - Changes in library privileges, which we hope will give all grads the\n",
      "     same (better) borrowing privileges as TFs.\n",
      "\n",
      "   After being asked by a meeting participant about our rapport with\n",
      "   the administration, Cassandra said she felt that while Andrea was\n",
      "   originally very enthusiastic about doing stuff with the GSO, she has\n",
      "   backed off some.  The Liaison Committee also feels that sometimes\n",
      "   the administration has taken our ideas and tried to make them their\n",
      "   own.\n",
      "\n",
      "   Healthcare Committee\n",
      "   ====================\n",
      "\n",
      "   Rob Pitts <rip@cs.bu.edu> reported that he has written up some\n",
      "   \"guidelines\" for summarizing healthcare plans.  These are based\n",
      "   on what he's learned from writing up plans and are meant to keep\n",
      "   plan summaries consistent and complete should new members of the\n",
      "   committee write up plans.\n",
      "\n",
      "   A definite goal is to get a good writeup of the Chickering plan\n",
      "   (especially so that new students who don't have documentation on\n",
      "   the BU plan can compare it to others we have summarized).\n",
      "\n",
      "   A meeting attendee suggested having information about plans more\n",
      "   accessible to students before they come here (by finding more ways\n",
      "   to publicize our Healthcare Pages, etc.)\n",
      "\n",
      "3. NAGPS Conference\n",
      "\n",
      "   We discussed whether we will participate in the National Conference\n",
      "   of the National Assoc. of Graduate-Professional Students (NAGPS) to\n",
      "   be held in the Boston area (Boston/Braintree), Nov. 18-22.\n",
      "\n",
      "   Gary Garber <ggarber@buphy.bu.edu>, who attended the NAGPS Northeast\n",
      "   Regional Conference back in March 1998, stated that he felt that the\n",
      "   most useful parts of the conference were pamphlets/info and networking\n",
      "   with reps from other grad groups during conference meals.  He felt that\n",
      "   the workshops (at least at the Northeast conference) were less useful.\n",
      "\n",
      "   Normally, registration for the conference is $250/person.  Since\n",
      "   this is not feasible for us, we have a couple other options:\n",
      "\n",
      "   - Send reps at a day rate (approx. $50/day, but possibly lower if\n",
      "     the NAGPS decides on a way to exclude meals).\n",
      "\n",
      "   - Send volunteers.  Those that help run parts of the conference will\n",
      "     be allowed to attend certain functions (usually on the same day\n",
      "     they volunteer).\n",
      "\n",
      "   Gary proposed that we try to ask GRS for some money to attend the\n",
      "   conference.  We can also get more information about what types of\n",
      "   volunteer work can be done.\n",
      "\n",
      "   The consensus was that we should send some reps to the conference\n",
      "   and that a good approach may be to send people from committees that\n",
      "   would benefit from gathering information by networking with other\n",
      "   grad orgs, e.g., Steering (\"How are other groups run?\"), Funding\n",
      "   (\"What is the funding situation at other schools?\"), Healthcare\n",
      "   (\"How have grad orgs made strides in student healthcare?\").\n",
      "\n",
      "4. Registering the GSO/Becoming Official\n",
      "\n",
      "   Rob Pitts <rip@cs.bu.edu> reported on what he learned from a meeting\n",
      "   with a representative from the Student Activities Office (SAO) about\n",
      "   what groups must do for official recognition at BU.\n",
      "\n",
      "   Besides having at least 5 members, we'd need:\n",
      "\n",
      "   - a constitution\n",
      "   - a president and treasurer\n",
      "   - an advisor\n",
      "\n",
      "   in order to register.  The deadline for registering this semester\n",
      "   was Wed, Sept 23.  Nonetheless, IF we do choose to register, it\n",
      "   could be done in the spring (Feb) or next fall.\n",
      "\n",
      "   Rob received materials that detail the requirements and benefits\n",
      "   of being registered.  Below are listed some (not a complete list)\n",
      "   of the advantages and disadvantages of registering:\n",
      "\n",
      "   Advantages\n",
      "   ----------\n",
      "\n",
      "   - More visibility: registered groups can be part of some BU\n",
      "     publications, calendars, event lists, possibly linked to via\n",
      "     an SAO website, voice mail.\n",
      "\n",
      "   - Tax-exempt status for purchases.\n",
      "\n",
      "   - Use of university facilities (which we've used already to some\n",
      "     degree).\n",
      "\n",
      "   Disadvantages\n",
      "   -------------\n",
      "\n",
      "   - Cannot advertise (in any way) an event until it has been approved\n",
      "     by the SAO.\n",
      "\n",
      "   - Must notify the SAO before allowing a non-BU person to attend\n",
      "     functions.\n",
      "\n",
      "   - Lots of procedures/paperwork for spending money.\n",
      "\n",
      "   ------\n",
      "\n",
      "   We'll turn the documents that detail registering a group (and rules\n",
      "   for registered groups) over to the Steering Committee.  They can study\n",
      "   it in detail and give a more complete report on the pros/cons at some\n",
      "   later date.  For now, we'll leave the issue of registering up in the air.\n",
      "\n",
      "\n"
     ]
    }
   ],
   "source": [
    "def get_random_ham_content():\n",
    "    ham = random.choice(hams)\n",
    "    return dl[ham][0]\n",
    "\n",
    "print(get_random_ham_content())"
   ],
   "metadata": {
    "collapsed": false,
    "pycharm": {
     "name": "#%%\n"
    }
   }
  },
  {
   "cell_type": "code",
   "execution_count": 9,
   "outputs": [
    {
     "name": "stdout",
     "output_type": "stream",
     "text": [
      "Received: from 218.147.185.230 (unknown [218.147.185.230])\n",
      "\tby aleve.media.mit.edu (8.9.1a/8.9.1/+ALEVE) with SMTP id OAA05094\n",
      "\tfor <handyboard@media.mit.edu>; Mon, 1 Mar 1999 05:03:57 -0500 (EST)\n",
      "Message-ID: <332110F0.0054504@YourBizHelp.biz>\n",
      "Date: Mon, 1 Mar 1999 14:04:59 +0900\n",
      "From: Dennis <Dennis@YourBizHelp.biz>\n",
      "User-Agent: Mozilla Thunderbird 1.0.6 (X11/20050716)\n",
      "X-Accept-Language: en-us, en\n",
      "MIME-Version: 1.0\n",
      "To:  handyboard@media.mit.edu\n",
      "Subject: Pre-approved bill Consolidation Application\n",
      "Content-Type: multipart/alternative;\n",
      " boundary=\"------------030008090603090008020706\"\n",
      "\n",
      "This is a multi-part message in MIME format.\n",
      "--------------030008090603090008020706\n",
      "Content-Type: text/plain; charset=windows-1251; format=flowed\n",
      "Content-Transfer-Encoding: 8bit\n",
      "\n",
      "\n",
      "\n",
      "--------------030008090603090008020706\n",
      "Content-Type: text/html; charset=windows-1251\n",
      "Content-Transfer-Encoding: 8bit\n",
      "\n",
      "<!DOCTYPE html PUBLIC \"-//W3C//DTD HTML 4.01 Transitional//EN\">\n",
      "<html>\n",
      "<head>\n",
      "  <meta content=\"text/html;charset=windows-1251\"\n",
      " http-equiv=\"Content-Type\">\n",
      "  <title>Pre-approved bill Consolidation Application</title>\n",
      "</head>\n",
      "<body bgcolor=\"#ffffff\" text=\"#000000\">\n",
      "<html>\n",
      "<head>\n",
      "<title>your credit will not disqualify you</title>\n",
      "</head>\n",
      "<body bgcolor=\"ffffff\">\n",
      "<table bgcolor=\"#FCF7ED\" cellspacing=\"0\" cellpadding=\"5\" border=\"1\" align=\"center\" bordercolor=\"#ff0000\">\n",
      "<tr>\n",
      "<td>\n",
      "<font face=\"Tahoma\" size=\"2\" color=\"#143E7C\" dir=\"ltr\">\n",
      "<b>Dear Homeowner,</b><br>\n",
      "<br>\n",
      "How much are you paying for your Mortgage? <font color=\"#ff0000\">To much?? <b>STOP!</b></font><br>\n",
      "You have been pre-approved to fill out for a Refinance loan, <br>\n",
      "Also, GETTING A 2ND MORTGAGE OR PURCHASING A NEW HOUSE!<br>\n",
      "Cash-out, 2nd mortgage, ect!<br>\n",
      "<br>\n",
      "We skip the middle man to save hundreds with LOW RATES? <br>\n",
      "<br>\n",
      "This offer is free and WE DONT CARE ABOUT BAD CREDIT! <br>\n",
      "<br>\n",
      "Apply online now for your instant quote, no obligation, <br>\n",
      "let lenders compete over your business. <br>\n",
      "<b>Stop over paying!<br></b>\n",
      "<br>\n",
      "<b><a href=\"http://laonyoumonies.info/index4.php?refid=34\">Just fill out the 1 minute form here and be happy!</a><br></b>\n",
      "Thank you for your time!<br>\n",
      "<br>\n",
      "<a href=\"http://laonyoumonies.info/opt-out\">No More<br></a>\n",
      "<br>\n",
      "</td>\n",
      "</tr>\n",
      "</table>\n",
      "</font>\n",
      "</body>\n",
      "</html>\n",
      "</body>\n",
      "</html>\n",
      "\n",
      "--------------030008090603090008020706--\n",
      "\n",
      "\n"
     ]
    }
   ],
   "source": [
    "def get_random_spam_content():\n",
    "    spam = random.choice(spams)\n",
    "    return dl[spam][0]\n",
    "\n",
    "print(get_random_spam_content())"
   ],
   "metadata": {
    "collapsed": false,
    "pycharm": {
     "name": "#%%\n"
    }
   }
  },
  {
   "cell_type": "code",
   "execution_count": 5,
   "outputs": [],
   "source": [
    "meta_data = ['Subject', 'Content-Type', 'Received', 'From', 'To', 'Date']"
   ],
   "metadata": {
    "collapsed": false,
    "pycharm": {
     "name": "#%%\n"
    }
   }
  },
  {
   "cell_type": "code",
   "execution_count": 6,
   "outputs": [],
   "source": [
    "def contain_meta_data(content, meta):\n",
    "    cnt = 0\n",
    "    for i in content.splitlines():\n",
    "        if meta in i:\n",
    "            cnt += 1\n",
    "    return cnt"
   ],
   "metadata": {
    "collapsed": false,
    "pycharm": {
     "name": "#%%\n"
    }
   }
  },
  {
   "cell_type": "code",
   "execution_count": 7,
   "outputs": [
    {
     "data": {
      "text/plain": "1"
     },
     "execution_count": 7,
     "metadata": {},
     "output_type": "execute_result"
    }
   ],
   "source": [
    "contain_meta_data(get_random_ham_content(), meta_data[0])"
   ],
   "metadata": {
    "collapsed": false,
    "pycharm": {
     "name": "#%%\n"
    }
   }
  },
  {
   "cell_type": "code",
   "execution_count": 8,
   "outputs": [],
   "source": [
    "def statistic(idxs):\n",
    "    freqs = np.zeros(len(meta_data))\n",
    "    exists = np.zeros(len(meta_data))\n",
    "    for idx, meta in enumerate(meta_data):\n",
    "        for mail in idxs:\n",
    "            cnt = contain_meta_data(dl[mail][0], meta)\n",
    "            freqs[idx] += cnt\n",
    "            if cnt:\n",
    "                exists[idx] += 1\n",
    "    exists = exists / len(dl)\n",
    "    return freqs, exists\n"
   ],
   "metadata": {
    "collapsed": false,
    "pycharm": {
     "name": "#%%\n"
    }
   }
  },
  {
   "cell_type": "code",
   "execution_count": 9,
   "outputs": [],
   "source": [
    "%matplotlib notebook\n",
    "freqs, exists = statistic(dl.raw_idx)\n",
    "ham_statics = statistic(dl.get_ham())\n",
    "spam_statics = statistic(dl.get_spam())"
   ],
   "metadata": {
    "collapsed": false,
    "pycharm": {
     "name": "#%%\n"
    }
   }
  },
  {
   "cell_type": "code",
   "execution_count": 10,
   "outputs": [
    {
     "data": {
      "text/plain": "<IPython.core.display.Javascript object>",
      "application/javascript": "/* Put everything inside the global mpl namespace */\n/* global mpl */\nwindow.mpl = {};\n\nmpl.get_websocket_type = function () {\n    if (typeof WebSocket !== 'undefined') {\n        return WebSocket;\n    } else if (typeof MozWebSocket !== 'undefined') {\n        return MozWebSocket;\n    } else {\n        alert(\n            'Your browser does not have WebSocket support. ' +\n                'Please try Chrome, Safari or Firefox ≥ 6. ' +\n                'Firefox 4 and 5 are also supported but you ' +\n                'have to enable WebSockets in about:config.'\n        );\n    }\n};\n\nmpl.figure = function (figure_id, websocket, ondownload, parent_element) {\n    this.id = figure_id;\n\n    this.ws = websocket;\n\n    this.supports_binary = this.ws.binaryType !== undefined;\n\n    if (!this.supports_binary) {\n        var warnings = document.getElementById('mpl-warnings');\n        if (warnings) {\n            warnings.style.display = 'block';\n            warnings.textContent =\n                'This browser does not support binary websocket messages. ' +\n                'Performance may be slow.';\n        }\n    }\n\n    this.imageObj = new Image();\n\n    this.context = undefined;\n    this.message = undefined;\n    this.canvas = undefined;\n    this.rubberband_canvas = undefined;\n    this.rubberband_context = undefined;\n    this.format_dropdown = undefined;\n\n    this.image_mode = 'full';\n\n    this.root = document.createElement('div');\n    this.root.setAttribute('style', 'display: inline-block');\n    this._root_extra_style(this.root);\n\n    parent_element.appendChild(this.root);\n\n    this._init_header(this);\n    this._init_canvas(this);\n    this._init_toolbar(this);\n\n    var fig = this;\n\n    this.waiting = false;\n\n    this.ws.onopen = function () {\n        fig.send_message('supports_binary', { value: fig.supports_binary });\n        fig.send_message('send_image_mode', {});\n        if (fig.ratio !== 1) {\n            fig.send_message('set_device_pixel_ratio', {\n                device_pixel_ratio: fig.ratio,\n            });\n        }\n        fig.send_message('refresh', {});\n    };\n\n    this.imageObj.onload = function () {\n        if (fig.image_mode === 'full') {\n            // Full images could contain transparency (where diff images\n            // almost always do), so we need to clear the canvas so that\n            // there is no ghosting.\n            fig.context.clearRect(0, 0, fig.canvas.width, fig.canvas.height);\n        }\n        fig.context.drawImage(fig.imageObj, 0, 0);\n    };\n\n    this.imageObj.onunload = function () {\n        fig.ws.close();\n    };\n\n    this.ws.onmessage = this._make_on_message_function(this);\n\n    this.ondownload = ondownload;\n};\n\nmpl.figure.prototype._init_header = function () {\n    var titlebar = document.createElement('div');\n    titlebar.classList =\n        'ui-dialog-titlebar ui-widget-header ui-corner-all ui-helper-clearfix';\n    var titletext = document.createElement('div');\n    titletext.classList = 'ui-dialog-title';\n    titletext.setAttribute(\n        'style',\n        'width: 100%; text-align: center; padding: 3px;'\n    );\n    titlebar.appendChild(titletext);\n    this.root.appendChild(titlebar);\n    this.header = titletext;\n};\n\nmpl.figure.prototype._canvas_extra_style = function (_canvas_div) {};\n\nmpl.figure.prototype._root_extra_style = function (_canvas_div) {};\n\nmpl.figure.prototype._init_canvas = function () {\n    var fig = this;\n\n    var canvas_div = (this.canvas_div = document.createElement('div'));\n    canvas_div.setAttribute(\n        'style',\n        'border: 1px solid #ddd;' +\n            'box-sizing: content-box;' +\n            'clear: both;' +\n            'min-height: 1px;' +\n            'min-width: 1px;' +\n            'outline: 0;' +\n            'overflow: hidden;' +\n            'position: relative;' +\n            'resize: both;'\n    );\n\n    function on_keyboard_event_closure(name) {\n        return function (event) {\n            return fig.key_event(event, name);\n        };\n    }\n\n    canvas_div.addEventListener(\n        'keydown',\n        on_keyboard_event_closure('key_press')\n    );\n    canvas_div.addEventListener(\n        'keyup',\n        on_keyboard_event_closure('key_release')\n    );\n\n    this._canvas_extra_style(canvas_div);\n    this.root.appendChild(canvas_div);\n\n    var canvas = (this.canvas = document.createElement('canvas'));\n    canvas.classList.add('mpl-canvas');\n    canvas.setAttribute('style', 'box-sizing: content-box;');\n\n    this.context = canvas.getContext('2d');\n\n    var backingStore =\n        this.context.backingStorePixelRatio ||\n        this.context.webkitBackingStorePixelRatio ||\n        this.context.mozBackingStorePixelRatio ||\n        this.context.msBackingStorePixelRatio ||\n        this.context.oBackingStorePixelRatio ||\n        this.context.backingStorePixelRatio ||\n        1;\n\n    this.ratio = (window.devicePixelRatio || 1) / backingStore;\n\n    var rubberband_canvas = (this.rubberband_canvas = document.createElement(\n        'canvas'\n    ));\n    rubberband_canvas.setAttribute(\n        'style',\n        'box-sizing: content-box; position: absolute; left: 0; top: 0; z-index: 1;'\n    );\n\n    // Apply a ponyfill if ResizeObserver is not implemented by browser.\n    if (this.ResizeObserver === undefined) {\n        if (window.ResizeObserver !== undefined) {\n            this.ResizeObserver = window.ResizeObserver;\n        } else {\n            var obs = _JSXTOOLS_RESIZE_OBSERVER({});\n            this.ResizeObserver = obs.ResizeObserver;\n        }\n    }\n\n    this.resizeObserverInstance = new this.ResizeObserver(function (entries) {\n        var nentries = entries.length;\n        for (var i = 0; i < nentries; i++) {\n            var entry = entries[i];\n            var width, height;\n            if (entry.contentBoxSize) {\n                if (entry.contentBoxSize instanceof Array) {\n                    // Chrome 84 implements new version of spec.\n                    width = entry.contentBoxSize[0].inlineSize;\n                    height = entry.contentBoxSize[0].blockSize;\n                } else {\n                    // Firefox implements old version of spec.\n                    width = entry.contentBoxSize.inlineSize;\n                    height = entry.contentBoxSize.blockSize;\n                }\n            } else {\n                // Chrome <84 implements even older version of spec.\n                width = entry.contentRect.width;\n                height = entry.contentRect.height;\n            }\n\n            // Keep the size of the canvas and rubber band canvas in sync with\n            // the canvas container.\n            if (entry.devicePixelContentBoxSize) {\n                // Chrome 84 implements new version of spec.\n                canvas.setAttribute(\n                    'width',\n                    entry.devicePixelContentBoxSize[0].inlineSize\n                );\n                canvas.setAttribute(\n                    'height',\n                    entry.devicePixelContentBoxSize[0].blockSize\n                );\n            } else {\n                canvas.setAttribute('width', width * fig.ratio);\n                canvas.setAttribute('height', height * fig.ratio);\n            }\n            canvas.setAttribute(\n                'style',\n                'width: ' + width + 'px; height: ' + height + 'px;'\n            );\n\n            rubberband_canvas.setAttribute('width', width);\n            rubberband_canvas.setAttribute('height', height);\n\n            // And update the size in Python. We ignore the initial 0/0 size\n            // that occurs as the element is placed into the DOM, which should\n            // otherwise not happen due to the minimum size styling.\n            if (fig.ws.readyState == 1 && width != 0 && height != 0) {\n                fig.request_resize(width, height);\n            }\n        }\n    });\n    this.resizeObserverInstance.observe(canvas_div);\n\n    function on_mouse_event_closure(name) {\n        return function (event) {\n            return fig.mouse_event(event, name);\n        };\n    }\n\n    rubberband_canvas.addEventListener(\n        'mousedown',\n        on_mouse_event_closure('button_press')\n    );\n    rubberband_canvas.addEventListener(\n        'mouseup',\n        on_mouse_event_closure('button_release')\n    );\n    rubberband_canvas.addEventListener(\n        'dblclick',\n        on_mouse_event_closure('dblclick')\n    );\n    // Throttle sequential mouse events to 1 every 20ms.\n    rubberband_canvas.addEventListener(\n        'mousemove',\n        on_mouse_event_closure('motion_notify')\n    );\n\n    rubberband_canvas.addEventListener(\n        'mouseenter',\n        on_mouse_event_closure('figure_enter')\n    );\n    rubberband_canvas.addEventListener(\n        'mouseleave',\n        on_mouse_event_closure('figure_leave')\n    );\n\n    canvas_div.addEventListener('wheel', function (event) {\n        if (event.deltaY < 0) {\n            event.step = 1;\n        } else {\n            event.step = -1;\n        }\n        on_mouse_event_closure('scroll')(event);\n    });\n\n    canvas_div.appendChild(canvas);\n    canvas_div.appendChild(rubberband_canvas);\n\n    this.rubberband_context = rubberband_canvas.getContext('2d');\n    this.rubberband_context.strokeStyle = '#000000';\n\n    this._resize_canvas = function (width, height, forward) {\n        if (forward) {\n            canvas_div.style.width = width + 'px';\n            canvas_div.style.height = height + 'px';\n        }\n    };\n\n    // Disable right mouse context menu.\n    this.rubberband_canvas.addEventListener('contextmenu', function (_e) {\n        event.preventDefault();\n        return false;\n    });\n\n    function set_focus() {\n        canvas.focus();\n        canvas_div.focus();\n    }\n\n    window.setTimeout(set_focus, 100);\n};\n\nmpl.figure.prototype._init_toolbar = function () {\n    var fig = this;\n\n    var toolbar = document.createElement('div');\n    toolbar.classList = 'mpl-toolbar';\n    this.root.appendChild(toolbar);\n\n    function on_click_closure(name) {\n        return function (_event) {\n            return fig.toolbar_button_onclick(name);\n        };\n    }\n\n    function on_mouseover_closure(tooltip) {\n        return function (event) {\n            if (!event.currentTarget.disabled) {\n                return fig.toolbar_button_onmouseover(tooltip);\n            }\n        };\n    }\n\n    fig.buttons = {};\n    var buttonGroup = document.createElement('div');\n    buttonGroup.classList = 'mpl-button-group';\n    for (var toolbar_ind in mpl.toolbar_items) {\n        var name = mpl.toolbar_items[toolbar_ind][0];\n        var tooltip = mpl.toolbar_items[toolbar_ind][1];\n        var image = mpl.toolbar_items[toolbar_ind][2];\n        var method_name = mpl.toolbar_items[toolbar_ind][3];\n\n        if (!name) {\n            /* Instead of a spacer, we start a new button group. */\n            if (buttonGroup.hasChildNodes()) {\n                toolbar.appendChild(buttonGroup);\n            }\n            buttonGroup = document.createElement('div');\n            buttonGroup.classList = 'mpl-button-group';\n            continue;\n        }\n\n        var button = (fig.buttons[name] = document.createElement('button'));\n        button.classList = 'mpl-widget';\n        button.setAttribute('role', 'button');\n        button.setAttribute('aria-disabled', 'false');\n        button.addEventListener('click', on_click_closure(method_name));\n        button.addEventListener('mouseover', on_mouseover_closure(tooltip));\n\n        var icon_img = document.createElement('img');\n        icon_img.src = '_images/' + image + '.png';\n        icon_img.srcset = '_images/' + image + '_large.png 2x';\n        icon_img.alt = tooltip;\n        button.appendChild(icon_img);\n\n        buttonGroup.appendChild(button);\n    }\n\n    if (buttonGroup.hasChildNodes()) {\n        toolbar.appendChild(buttonGroup);\n    }\n\n    var fmt_picker = document.createElement('select');\n    fmt_picker.classList = 'mpl-widget';\n    toolbar.appendChild(fmt_picker);\n    this.format_dropdown = fmt_picker;\n\n    for (var ind in mpl.extensions) {\n        var fmt = mpl.extensions[ind];\n        var option = document.createElement('option');\n        option.selected = fmt === mpl.default_extension;\n        option.innerHTML = fmt;\n        fmt_picker.appendChild(option);\n    }\n\n    var status_bar = document.createElement('span');\n    status_bar.classList = 'mpl-message';\n    toolbar.appendChild(status_bar);\n    this.message = status_bar;\n};\n\nmpl.figure.prototype.request_resize = function (x_pixels, y_pixels) {\n    // Request matplotlib to resize the figure. Matplotlib will then trigger a resize in the client,\n    // which will in turn request a refresh of the image.\n    this.send_message('resize', { width: x_pixels, height: y_pixels });\n};\n\nmpl.figure.prototype.send_message = function (type, properties) {\n    properties['type'] = type;\n    properties['figure_id'] = this.id;\n    this.ws.send(JSON.stringify(properties));\n};\n\nmpl.figure.prototype.send_draw_message = function () {\n    if (!this.waiting) {\n        this.waiting = true;\n        this.ws.send(JSON.stringify({ type: 'draw', figure_id: this.id }));\n    }\n};\n\nmpl.figure.prototype.handle_save = function (fig, _msg) {\n    var format_dropdown = fig.format_dropdown;\n    var format = format_dropdown.options[format_dropdown.selectedIndex].value;\n    fig.ondownload(fig, format);\n};\n\nmpl.figure.prototype.handle_resize = function (fig, msg) {\n    var size = msg['size'];\n    if (size[0] !== fig.canvas.width || size[1] !== fig.canvas.height) {\n        fig._resize_canvas(size[0], size[1], msg['forward']);\n        fig.send_message('refresh', {});\n    }\n};\n\nmpl.figure.prototype.handle_rubberband = function (fig, msg) {\n    var x0 = msg['x0'] / fig.ratio;\n    var y0 = (fig.canvas.height - msg['y0']) / fig.ratio;\n    var x1 = msg['x1'] / fig.ratio;\n    var y1 = (fig.canvas.height - msg['y1']) / fig.ratio;\n    x0 = Math.floor(x0) + 0.5;\n    y0 = Math.floor(y0) + 0.5;\n    x1 = Math.floor(x1) + 0.5;\n    y1 = Math.floor(y1) + 0.5;\n    var min_x = Math.min(x0, x1);\n    var min_y = Math.min(y0, y1);\n    var width = Math.abs(x1 - x0);\n    var height = Math.abs(y1 - y0);\n\n    fig.rubberband_context.clearRect(\n        0,\n        0,\n        fig.canvas.width / fig.ratio,\n        fig.canvas.height / fig.ratio\n    );\n\n    fig.rubberband_context.strokeRect(min_x, min_y, width, height);\n};\n\nmpl.figure.prototype.handle_figure_label = function (fig, msg) {\n    // Updates the figure title.\n    fig.header.textContent = msg['label'];\n};\n\nmpl.figure.prototype.handle_cursor = function (fig, msg) {\n    fig.rubberband_canvas.style.cursor = msg['cursor'];\n};\n\nmpl.figure.prototype.handle_message = function (fig, msg) {\n    fig.message.textContent = msg['message'];\n};\n\nmpl.figure.prototype.handle_draw = function (fig, _msg) {\n    // Request the server to send over a new figure.\n    fig.send_draw_message();\n};\n\nmpl.figure.prototype.handle_image_mode = function (fig, msg) {\n    fig.image_mode = msg['mode'];\n};\n\nmpl.figure.prototype.handle_history_buttons = function (fig, msg) {\n    for (var key in msg) {\n        if (!(key in fig.buttons)) {\n            continue;\n        }\n        fig.buttons[key].disabled = !msg[key];\n        fig.buttons[key].setAttribute('aria-disabled', !msg[key]);\n    }\n};\n\nmpl.figure.prototype.handle_navigate_mode = function (fig, msg) {\n    if (msg['mode'] === 'PAN') {\n        fig.buttons['Pan'].classList.add('active');\n        fig.buttons['Zoom'].classList.remove('active');\n    } else if (msg['mode'] === 'ZOOM') {\n        fig.buttons['Pan'].classList.remove('active');\n        fig.buttons['Zoom'].classList.add('active');\n    } else {\n        fig.buttons['Pan'].classList.remove('active');\n        fig.buttons['Zoom'].classList.remove('active');\n    }\n};\n\nmpl.figure.prototype.updated_canvas_event = function () {\n    // Called whenever the canvas gets updated.\n    this.send_message('ack', {});\n};\n\n// A function to construct a web socket function for onmessage handling.\n// Called in the figure constructor.\nmpl.figure.prototype._make_on_message_function = function (fig) {\n    return function socket_on_message(evt) {\n        if (evt.data instanceof Blob) {\n            var img = evt.data;\n            if (img.type !== 'image/png') {\n                /* FIXME: We get \"Resource interpreted as Image but\n                 * transferred with MIME type text/plain:\" errors on\n                 * Chrome.  But how to set the MIME type?  It doesn't seem\n                 * to be part of the websocket stream */\n                img.type = 'image/png';\n            }\n\n            /* Free the memory for the previous frames */\n            if (fig.imageObj.src) {\n                (window.URL || window.webkitURL).revokeObjectURL(\n                    fig.imageObj.src\n                );\n            }\n\n            fig.imageObj.src = (window.URL || window.webkitURL).createObjectURL(\n                img\n            );\n            fig.updated_canvas_event();\n            fig.waiting = false;\n            return;\n        } else if (\n            typeof evt.data === 'string' &&\n            evt.data.slice(0, 21) === 'data:image/png;base64'\n        ) {\n            fig.imageObj.src = evt.data;\n            fig.updated_canvas_event();\n            fig.waiting = false;\n            return;\n        }\n\n        var msg = JSON.parse(evt.data);\n        var msg_type = msg['type'];\n\n        // Call the  \"handle_{type}\" callback, which takes\n        // the figure and JSON message as its only arguments.\n        try {\n            var callback = fig['handle_' + msg_type];\n        } catch (e) {\n            console.log(\n                \"No handler for the '\" + msg_type + \"' message type: \",\n                msg\n            );\n            return;\n        }\n\n        if (callback) {\n            try {\n                // console.log(\"Handling '\" + msg_type + \"' message: \", msg);\n                callback(fig, msg);\n            } catch (e) {\n                console.log(\n                    \"Exception inside the 'handler_\" + msg_type + \"' callback:\",\n                    e,\n                    e.stack,\n                    msg\n                );\n            }\n        }\n    };\n};\n\n// from https://stackoverflow.com/questions/1114465/getting-mouse-location-in-canvas\nmpl.findpos = function (e) {\n    //this section is from http://www.quirksmode.org/js/events_properties.html\n    var targ;\n    if (!e) {\n        e = window.event;\n    }\n    if (e.target) {\n        targ = e.target;\n    } else if (e.srcElement) {\n        targ = e.srcElement;\n    }\n    if (targ.nodeType === 3) {\n        // defeat Safari bug\n        targ = targ.parentNode;\n    }\n\n    // pageX,Y are the mouse positions relative to the document\n    var boundingRect = targ.getBoundingClientRect();\n    var x = e.pageX - (boundingRect.left + document.body.scrollLeft);\n    var y = e.pageY - (boundingRect.top + document.body.scrollTop);\n\n    return { x: x, y: y };\n};\n\n/*\n * return a copy of an object with only non-object keys\n * we need this to avoid circular references\n * https://stackoverflow.com/a/24161582/3208463\n */\nfunction simpleKeys(original) {\n    return Object.keys(original).reduce(function (obj, key) {\n        if (typeof original[key] !== 'object') {\n            obj[key] = original[key];\n        }\n        return obj;\n    }, {});\n}\n\nmpl.figure.prototype.mouse_event = function (event, name) {\n    var canvas_pos = mpl.findpos(event);\n\n    if (name === 'button_press') {\n        this.canvas.focus();\n        this.canvas_div.focus();\n    }\n\n    var x = canvas_pos.x * this.ratio;\n    var y = canvas_pos.y * this.ratio;\n\n    this.send_message(name, {\n        x: x,\n        y: y,\n        button: event.button,\n        step: event.step,\n        guiEvent: simpleKeys(event),\n    });\n\n    /* This prevents the web browser from automatically changing to\n     * the text insertion cursor when the button is pressed.  We want\n     * to control all of the cursor setting manually through the\n     * 'cursor' event from matplotlib */\n    event.preventDefault();\n    return false;\n};\n\nmpl.figure.prototype._key_event_extra = function (_event, _name) {\n    // Handle any extra behaviour associated with a key event\n};\n\nmpl.figure.prototype.key_event = function (event, name) {\n    // Prevent repeat events\n    if (name === 'key_press') {\n        if (event.key === this._key) {\n            return;\n        } else {\n            this._key = event.key;\n        }\n    }\n    if (name === 'key_release') {\n        this._key = null;\n    }\n\n    var value = '';\n    if (event.ctrlKey && event.key !== 'Control') {\n        value += 'ctrl+';\n    }\n    else if (event.altKey && event.key !== 'Alt') {\n        value += 'alt+';\n    }\n    else if (event.shiftKey && event.key !== 'Shift') {\n        value += 'shift+';\n    }\n\n    value += 'k' + event.key;\n\n    this._key_event_extra(event, name);\n\n    this.send_message(name, { key: value, guiEvent: simpleKeys(event) });\n    return false;\n};\n\nmpl.figure.prototype.toolbar_button_onclick = function (name) {\n    if (name === 'download') {\n        this.handle_save(this, null);\n    } else {\n        this.send_message('toolbar_button', { name: name });\n    }\n};\n\nmpl.figure.prototype.toolbar_button_onmouseover = function (tooltip) {\n    this.message.textContent = tooltip;\n};\n\n///////////////// REMAINING CONTENT GENERATED BY embed_js.py /////////////////\n// prettier-ignore\nvar _JSXTOOLS_RESIZE_OBSERVER=function(A){var t,i=new WeakMap,n=new WeakMap,a=new WeakMap,r=new WeakMap,o=new Set;function s(e){if(!(this instanceof s))throw new TypeError(\"Constructor requires 'new' operator\");i.set(this,e)}function h(){throw new TypeError(\"Function is not a constructor\")}function c(e,t,i,n){e=0 in arguments?Number(arguments[0]):0,t=1 in arguments?Number(arguments[1]):0,i=2 in arguments?Number(arguments[2]):0,n=3 in arguments?Number(arguments[3]):0,this.right=(this.x=this.left=e)+(this.width=i),this.bottom=(this.y=this.top=t)+(this.height=n),Object.freeze(this)}function d(){t=requestAnimationFrame(d);var s=new WeakMap,p=new Set;o.forEach((function(t){r.get(t).forEach((function(i){var r=t instanceof window.SVGElement,o=a.get(t),d=r?0:parseFloat(o.paddingTop),f=r?0:parseFloat(o.paddingRight),l=r?0:parseFloat(o.paddingBottom),u=r?0:parseFloat(o.paddingLeft),g=r?0:parseFloat(o.borderTopWidth),m=r?0:parseFloat(o.borderRightWidth),w=r?0:parseFloat(o.borderBottomWidth),b=u+f,F=d+l,v=(r?0:parseFloat(o.borderLeftWidth))+m,W=g+w,y=r?0:t.offsetHeight-W-t.clientHeight,E=r?0:t.offsetWidth-v-t.clientWidth,R=b+v,z=F+W,M=r?t.width:parseFloat(o.width)-R-E,O=r?t.height:parseFloat(o.height)-z-y;if(n.has(t)){var k=n.get(t);if(k[0]===M&&k[1]===O)return}n.set(t,[M,O]);var S=Object.create(h.prototype);S.target=t,S.contentRect=new c(u,d,M,O),s.has(i)||(s.set(i,[]),p.add(i)),s.get(i).push(S)}))})),p.forEach((function(e){i.get(e).call(e,s.get(e),e)}))}return s.prototype.observe=function(i){if(i instanceof window.Element){r.has(i)||(r.set(i,new Set),o.add(i),a.set(i,window.getComputedStyle(i)));var n=r.get(i);n.has(this)||n.add(this),cancelAnimationFrame(t),t=requestAnimationFrame(d)}},s.prototype.unobserve=function(i){if(i instanceof window.Element&&r.has(i)){var n=r.get(i);n.has(this)&&(n.delete(this),n.size||(r.delete(i),o.delete(i))),n.size||r.delete(i),o.size||cancelAnimationFrame(t)}},A.DOMRectReadOnly=c,A.ResizeObserver=s,A.ResizeObserverEntry=h,A}; // eslint-disable-line\nmpl.toolbar_items = [[\"Home\", \"Reset original view\", \"fa fa-home icon-home\", \"home\"], [\"Back\", \"Back to previous view\", \"fa fa-arrow-left icon-arrow-left\", \"back\"], [\"Forward\", \"Forward to next view\", \"fa fa-arrow-right icon-arrow-right\", \"forward\"], [\"\", \"\", \"\", \"\"], [\"Pan\", \"Left button pans, Right button zooms\\nx/y fixes axis, CTRL fixes aspect\", \"fa fa-arrows icon-move\", \"pan\"], [\"Zoom\", \"Zoom to rectangle\\nx/y fixes axis\", \"fa fa-square-o icon-check-empty\", \"zoom\"], [\"\", \"\", \"\", \"\"], [\"Download\", \"Download plot\", \"fa fa-floppy-o icon-save\", \"download\"]];\n\nmpl.extensions = [\"eps\", \"jpeg\", \"pgf\", \"pdf\", \"png\", \"ps\", \"raw\", \"svg\", \"tif\"];\n\nmpl.default_extension = \"png\";/* global mpl */\n\nvar comm_websocket_adapter = function (comm) {\n    // Create a \"websocket\"-like object which calls the given IPython comm\n    // object with the appropriate methods. Currently this is a non binary\n    // socket, so there is still some room for performance tuning.\n    var ws = {};\n\n    ws.binaryType = comm.kernel.ws.binaryType;\n    ws.readyState = comm.kernel.ws.readyState;\n    function updateReadyState(_event) {\n        if (comm.kernel.ws) {\n            ws.readyState = comm.kernel.ws.readyState;\n        } else {\n            ws.readyState = 3; // Closed state.\n        }\n    }\n    comm.kernel.ws.addEventListener('open', updateReadyState);\n    comm.kernel.ws.addEventListener('close', updateReadyState);\n    comm.kernel.ws.addEventListener('error', updateReadyState);\n\n    ws.close = function () {\n        comm.close();\n    };\n    ws.send = function (m) {\n        //console.log('sending', m);\n        comm.send(m);\n    };\n    // Register the callback with on_msg.\n    comm.on_msg(function (msg) {\n        //console.log('receiving', msg['content']['data'], msg);\n        var data = msg['content']['data'];\n        if (data['blob'] !== undefined) {\n            data = {\n                data: new Blob(msg['buffers'], { type: data['blob'] }),\n            };\n        }\n        // Pass the mpl event to the overridden (by mpl) onmessage function.\n        ws.onmessage(data);\n    });\n    return ws;\n};\n\nmpl.mpl_figure_comm = function (comm, msg) {\n    // This is the function which gets called when the mpl process\n    // starts-up an IPython Comm through the \"matplotlib\" channel.\n\n    var id = msg.content.data.id;\n    // Get hold of the div created by the display call when the Comm\n    // socket was opened in Python.\n    var element = document.getElementById(id);\n    var ws_proxy = comm_websocket_adapter(comm);\n\n    function ondownload(figure, _format) {\n        window.open(figure.canvas.toDataURL());\n    }\n\n    var fig = new mpl.figure(id, ws_proxy, ondownload, element);\n\n    // Call onopen now - mpl needs it, as it is assuming we've passed it a real\n    // web socket which is closed, not our websocket->open comm proxy.\n    ws_proxy.onopen();\n\n    fig.parent_element = element;\n    fig.cell_info = mpl.find_output_cell(\"<div id='\" + id + \"'></div>\");\n    if (!fig.cell_info) {\n        console.error('Failed to find cell for figure', id, fig);\n        return;\n    }\n    fig.cell_info[0].output_area.element.on(\n        'cleared',\n        { fig: fig },\n        fig._remove_fig_handler\n    );\n};\n\nmpl.figure.prototype.handle_close = function (fig, msg) {\n    var width = fig.canvas.width / fig.ratio;\n    fig.cell_info[0].output_area.element.off(\n        'cleared',\n        fig._remove_fig_handler\n    );\n    fig.resizeObserverInstance.unobserve(fig.canvas_div);\n\n    // Update the output cell to use the data from the current canvas.\n    fig.push_to_output();\n    var dataURL = fig.canvas.toDataURL();\n    // Re-enable the keyboard manager in IPython - without this line, in FF,\n    // the notebook keyboard shortcuts fail.\n    IPython.keyboard_manager.enable();\n    fig.parent_element.innerHTML =\n        '<img src=\"' + dataURL + '\" width=\"' + width + '\">';\n    fig.close_ws(fig, msg);\n};\n\nmpl.figure.prototype.close_ws = function (fig, msg) {\n    fig.send_message('closing', msg);\n    // fig.ws.close()\n};\n\nmpl.figure.prototype.push_to_output = function (_remove_interactive) {\n    // Turn the data on the canvas into data in the output cell.\n    var width = this.canvas.width / this.ratio;\n    var dataURL = this.canvas.toDataURL();\n    this.cell_info[1]['text/html'] =\n        '<img src=\"' + dataURL + '\" width=\"' + width + '\">';\n};\n\nmpl.figure.prototype.updated_canvas_event = function () {\n    // Tell IPython that the notebook contents must change.\n    IPython.notebook.set_dirty(true);\n    this.send_message('ack', {});\n    var fig = this;\n    // Wait a second, then push the new image to the DOM so\n    // that it is saved nicely (might be nice to debounce this).\n    setTimeout(function () {\n        fig.push_to_output();\n    }, 1000);\n};\n\nmpl.figure.prototype._init_toolbar = function () {\n    var fig = this;\n\n    var toolbar = document.createElement('div');\n    toolbar.classList = 'btn-toolbar';\n    this.root.appendChild(toolbar);\n\n    function on_click_closure(name) {\n        return function (_event) {\n            return fig.toolbar_button_onclick(name);\n        };\n    }\n\n    function on_mouseover_closure(tooltip) {\n        return function (event) {\n            if (!event.currentTarget.disabled) {\n                return fig.toolbar_button_onmouseover(tooltip);\n            }\n        };\n    }\n\n    fig.buttons = {};\n    var buttonGroup = document.createElement('div');\n    buttonGroup.classList = 'btn-group';\n    var button;\n    for (var toolbar_ind in mpl.toolbar_items) {\n        var name = mpl.toolbar_items[toolbar_ind][0];\n        var tooltip = mpl.toolbar_items[toolbar_ind][1];\n        var image = mpl.toolbar_items[toolbar_ind][2];\n        var method_name = mpl.toolbar_items[toolbar_ind][3];\n\n        if (!name) {\n            /* Instead of a spacer, we start a new button group. */\n            if (buttonGroup.hasChildNodes()) {\n                toolbar.appendChild(buttonGroup);\n            }\n            buttonGroup = document.createElement('div');\n            buttonGroup.classList = 'btn-group';\n            continue;\n        }\n\n        button = fig.buttons[name] = document.createElement('button');\n        button.classList = 'btn btn-default';\n        button.href = '#';\n        button.title = name;\n        button.innerHTML = '<i class=\"fa ' + image + ' fa-lg\"></i>';\n        button.addEventListener('click', on_click_closure(method_name));\n        button.addEventListener('mouseover', on_mouseover_closure(tooltip));\n        buttonGroup.appendChild(button);\n    }\n\n    if (buttonGroup.hasChildNodes()) {\n        toolbar.appendChild(buttonGroup);\n    }\n\n    // Add the status bar.\n    var status_bar = document.createElement('span');\n    status_bar.classList = 'mpl-message pull-right';\n    toolbar.appendChild(status_bar);\n    this.message = status_bar;\n\n    // Add the close button to the window.\n    var buttongrp = document.createElement('div');\n    buttongrp.classList = 'btn-group inline pull-right';\n    button = document.createElement('button');\n    button.classList = 'btn btn-mini btn-primary';\n    button.href = '#';\n    button.title = 'Stop Interaction';\n    button.innerHTML = '<i class=\"fa fa-power-off icon-remove icon-large\"></i>';\n    button.addEventListener('click', function (_evt) {\n        fig.handle_close(fig, {});\n    });\n    button.addEventListener(\n        'mouseover',\n        on_mouseover_closure('Stop Interaction')\n    );\n    buttongrp.appendChild(button);\n    var titlebar = this.root.querySelector('.ui-dialog-titlebar');\n    titlebar.insertBefore(buttongrp, titlebar.firstChild);\n};\n\nmpl.figure.prototype._remove_fig_handler = function (event) {\n    var fig = event.data.fig;\n    if (event.target !== this) {\n        // Ignore bubbled events from children.\n        return;\n    }\n    fig.close_ws(fig, {});\n};\n\nmpl.figure.prototype._root_extra_style = function (el) {\n    el.style.boxSizing = 'content-box'; // override notebook setting of border-box.\n};\n\nmpl.figure.prototype._canvas_extra_style = function (el) {\n    // this is important to make the div 'focusable\n    el.setAttribute('tabindex', 0);\n    // reach out to IPython and tell the keyboard manager to turn it's self\n    // off when our div gets focus\n\n    // location in version 3\n    if (IPython.notebook.keyboard_manager) {\n        IPython.notebook.keyboard_manager.register_events(el);\n    } else {\n        // location in version 2\n        IPython.keyboard_manager.register_events(el);\n    }\n};\n\nmpl.figure.prototype._key_event_extra = function (event, _name) {\n    // Check for shift+enter\n    if (event.shiftKey && event.which === 13) {\n        this.canvas_div.blur();\n        // select the cell after this one\n        var index = IPython.notebook.find_cell_index(this.cell_info[0]);\n        IPython.notebook.select(index + 1);\n    }\n};\n\nmpl.figure.prototype.handle_save = function (fig, _msg) {\n    fig.ondownload(fig, null);\n};\n\nmpl.find_output_cell = function (html_output) {\n    // Return the cell and output element which can be found *uniquely* in the notebook.\n    // Note - this is a bit hacky, but it is done because the \"notebook_saving.Notebook\"\n    // IPython event is triggered only after the cells have been serialised, which for\n    // our purposes (turning an active figure into a static one), is too late.\n    var cells = IPython.notebook.get_cells();\n    var ncells = cells.length;\n    for (var i = 0; i < ncells; i++) {\n        var cell = cells[i];\n        if (cell.cell_type === 'code') {\n            for (var j = 0; j < cell.output_area.outputs.length; j++) {\n                var data = cell.output_area.outputs[j];\n                if (data.data) {\n                    // IPython >= 3 moved mimebundle to data attribute of output\n                    data = data.data;\n                }\n                if (data['text/html'] === html_output) {\n                    return [cell, data, j];\n                }\n            }\n        }\n    }\n};\n\n// Register the function which deals with the matplotlib target/channel.\n// The kernel may be null if the page has been refreshed.\nif (IPython.notebook.kernel !== null) {\n    IPython.notebook.kernel.comm_manager.register_target(\n        'matplotlib',\n        mpl.mpl_figure_comm\n    );\n}\n"
     },
     "metadata": {},
     "output_type": "display_data"
    },
    {
     "data": {
      "text/plain": "<IPython.core.display.HTML object>",
      "text/html": "<div id='030f3ad2-9f64-4d76-8353-fc1ffc4c29ee'></div>"
     },
     "metadata": {},
     "output_type": "display_data"
    },
    {
     "data": {
      "text/plain": "<IPython.core.display.Javascript object>",
      "application/javascript": "/* Put everything inside the global mpl namespace */\n/* global mpl */\nwindow.mpl = {};\n\nmpl.get_websocket_type = function () {\n    if (typeof WebSocket !== 'undefined') {\n        return WebSocket;\n    } else if (typeof MozWebSocket !== 'undefined') {\n        return MozWebSocket;\n    } else {\n        alert(\n            'Your browser does not have WebSocket support. ' +\n                'Please try Chrome, Safari or Firefox ≥ 6. ' +\n                'Firefox 4 and 5 are also supported but you ' +\n                'have to enable WebSockets in about:config.'\n        );\n    }\n};\n\nmpl.figure = function (figure_id, websocket, ondownload, parent_element) {\n    this.id = figure_id;\n\n    this.ws = websocket;\n\n    this.supports_binary = this.ws.binaryType !== undefined;\n\n    if (!this.supports_binary) {\n        var warnings = document.getElementById('mpl-warnings');\n        if (warnings) {\n            warnings.style.display = 'block';\n            warnings.textContent =\n                'This browser does not support binary websocket messages. ' +\n                'Performance may be slow.';\n        }\n    }\n\n    this.imageObj = new Image();\n\n    this.context = undefined;\n    this.message = undefined;\n    this.canvas = undefined;\n    this.rubberband_canvas = undefined;\n    this.rubberband_context = undefined;\n    this.format_dropdown = undefined;\n\n    this.image_mode = 'full';\n\n    this.root = document.createElement('div');\n    this.root.setAttribute('style', 'display: inline-block');\n    this._root_extra_style(this.root);\n\n    parent_element.appendChild(this.root);\n\n    this._init_header(this);\n    this._init_canvas(this);\n    this._init_toolbar(this);\n\n    var fig = this;\n\n    this.waiting = false;\n\n    this.ws.onopen = function () {\n        fig.send_message('supports_binary', { value: fig.supports_binary });\n        fig.send_message('send_image_mode', {});\n        if (fig.ratio !== 1) {\n            fig.send_message('set_device_pixel_ratio', {\n                device_pixel_ratio: fig.ratio,\n            });\n        }\n        fig.send_message('refresh', {});\n    };\n\n    this.imageObj.onload = function () {\n        if (fig.image_mode === 'full') {\n            // Full images could contain transparency (where diff images\n            // almost always do), so we need to clear the canvas so that\n            // there is no ghosting.\n            fig.context.clearRect(0, 0, fig.canvas.width, fig.canvas.height);\n        }\n        fig.context.drawImage(fig.imageObj, 0, 0);\n    };\n\n    this.imageObj.onunload = function () {\n        fig.ws.close();\n    };\n\n    this.ws.onmessage = this._make_on_message_function(this);\n\n    this.ondownload = ondownload;\n};\n\nmpl.figure.prototype._init_header = function () {\n    var titlebar = document.createElement('div');\n    titlebar.classList =\n        'ui-dialog-titlebar ui-widget-header ui-corner-all ui-helper-clearfix';\n    var titletext = document.createElement('div');\n    titletext.classList = 'ui-dialog-title';\n    titletext.setAttribute(\n        'style',\n        'width: 100%; text-align: center; padding: 3px;'\n    );\n    titlebar.appendChild(titletext);\n    this.root.appendChild(titlebar);\n    this.header = titletext;\n};\n\nmpl.figure.prototype._canvas_extra_style = function (_canvas_div) {};\n\nmpl.figure.prototype._root_extra_style = function (_canvas_div) {};\n\nmpl.figure.prototype._init_canvas = function () {\n    var fig = this;\n\n    var canvas_div = (this.canvas_div = document.createElement('div'));\n    canvas_div.setAttribute(\n        'style',\n        'border: 1px solid #ddd;' +\n            'box-sizing: content-box;' +\n            'clear: both;' +\n            'min-height: 1px;' +\n            'min-width: 1px;' +\n            'outline: 0;' +\n            'overflow: hidden;' +\n            'position: relative;' +\n            'resize: both;'\n    );\n\n    function on_keyboard_event_closure(name) {\n        return function (event) {\n            return fig.key_event(event, name);\n        };\n    }\n\n    canvas_div.addEventListener(\n        'keydown',\n        on_keyboard_event_closure('key_press')\n    );\n    canvas_div.addEventListener(\n        'keyup',\n        on_keyboard_event_closure('key_release')\n    );\n\n    this._canvas_extra_style(canvas_div);\n    this.root.appendChild(canvas_div);\n\n    var canvas = (this.canvas = document.createElement('canvas'));\n    canvas.classList.add('mpl-canvas');\n    canvas.setAttribute('style', 'box-sizing: content-box;');\n\n    this.context = canvas.getContext('2d');\n\n    var backingStore =\n        this.context.backingStorePixelRatio ||\n        this.context.webkitBackingStorePixelRatio ||\n        this.context.mozBackingStorePixelRatio ||\n        this.context.msBackingStorePixelRatio ||\n        this.context.oBackingStorePixelRatio ||\n        this.context.backingStorePixelRatio ||\n        1;\n\n    this.ratio = (window.devicePixelRatio || 1) / backingStore;\n\n    var rubberband_canvas = (this.rubberband_canvas = document.createElement(\n        'canvas'\n    ));\n    rubberband_canvas.setAttribute(\n        'style',\n        'box-sizing: content-box; position: absolute; left: 0; top: 0; z-index: 1;'\n    );\n\n    // Apply a ponyfill if ResizeObserver is not implemented by browser.\n    if (this.ResizeObserver === undefined) {\n        if (window.ResizeObserver !== undefined) {\n            this.ResizeObserver = window.ResizeObserver;\n        } else {\n            var obs = _JSXTOOLS_RESIZE_OBSERVER({});\n            this.ResizeObserver = obs.ResizeObserver;\n        }\n    }\n\n    this.resizeObserverInstance = new this.ResizeObserver(function (entries) {\n        var nentries = entries.length;\n        for (var i = 0; i < nentries; i++) {\n            var entry = entries[i];\n            var width, height;\n            if (entry.contentBoxSize) {\n                if (entry.contentBoxSize instanceof Array) {\n                    // Chrome 84 implements new version of spec.\n                    width = entry.contentBoxSize[0].inlineSize;\n                    height = entry.contentBoxSize[0].blockSize;\n                } else {\n                    // Firefox implements old version of spec.\n                    width = entry.contentBoxSize.inlineSize;\n                    height = entry.contentBoxSize.blockSize;\n                }\n            } else {\n                // Chrome <84 implements even older version of spec.\n                width = entry.contentRect.width;\n                height = entry.contentRect.height;\n            }\n\n            // Keep the size of the canvas and rubber band canvas in sync with\n            // the canvas container.\n            if (entry.devicePixelContentBoxSize) {\n                // Chrome 84 implements new version of spec.\n                canvas.setAttribute(\n                    'width',\n                    entry.devicePixelContentBoxSize[0].inlineSize\n                );\n                canvas.setAttribute(\n                    'height',\n                    entry.devicePixelContentBoxSize[0].blockSize\n                );\n            } else {\n                canvas.setAttribute('width', width * fig.ratio);\n                canvas.setAttribute('height', height * fig.ratio);\n            }\n            canvas.setAttribute(\n                'style',\n                'width: ' + width + 'px; height: ' + height + 'px;'\n            );\n\n            rubberband_canvas.setAttribute('width', width);\n            rubberband_canvas.setAttribute('height', height);\n\n            // And update the size in Python. We ignore the initial 0/0 size\n            // that occurs as the element is placed into the DOM, which should\n            // otherwise not happen due to the minimum size styling.\n            if (fig.ws.readyState == 1 && width != 0 && height != 0) {\n                fig.request_resize(width, height);\n            }\n        }\n    });\n    this.resizeObserverInstance.observe(canvas_div);\n\n    function on_mouse_event_closure(name) {\n        return function (event) {\n            return fig.mouse_event(event, name);\n        };\n    }\n\n    rubberband_canvas.addEventListener(\n        'mousedown',\n        on_mouse_event_closure('button_press')\n    );\n    rubberband_canvas.addEventListener(\n        'mouseup',\n        on_mouse_event_closure('button_release')\n    );\n    rubberband_canvas.addEventListener(\n        'dblclick',\n        on_mouse_event_closure('dblclick')\n    );\n    // Throttle sequential mouse events to 1 every 20ms.\n    rubberband_canvas.addEventListener(\n        'mousemove',\n        on_mouse_event_closure('motion_notify')\n    );\n\n    rubberband_canvas.addEventListener(\n        'mouseenter',\n        on_mouse_event_closure('figure_enter')\n    );\n    rubberband_canvas.addEventListener(\n        'mouseleave',\n        on_mouse_event_closure('figure_leave')\n    );\n\n    canvas_div.addEventListener('wheel', function (event) {\n        if (event.deltaY < 0) {\n            event.step = 1;\n        } else {\n            event.step = -1;\n        }\n        on_mouse_event_closure('scroll')(event);\n    });\n\n    canvas_div.appendChild(canvas);\n    canvas_div.appendChild(rubberband_canvas);\n\n    this.rubberband_context = rubberband_canvas.getContext('2d');\n    this.rubberband_context.strokeStyle = '#000000';\n\n    this._resize_canvas = function (width, height, forward) {\n        if (forward) {\n            canvas_div.style.width = width + 'px';\n            canvas_div.style.height = height + 'px';\n        }\n    };\n\n    // Disable right mouse context menu.\n    this.rubberband_canvas.addEventListener('contextmenu', function (_e) {\n        event.preventDefault();\n        return false;\n    });\n\n    function set_focus() {\n        canvas.focus();\n        canvas_div.focus();\n    }\n\n    window.setTimeout(set_focus, 100);\n};\n\nmpl.figure.prototype._init_toolbar = function () {\n    var fig = this;\n\n    var toolbar = document.createElement('div');\n    toolbar.classList = 'mpl-toolbar';\n    this.root.appendChild(toolbar);\n\n    function on_click_closure(name) {\n        return function (_event) {\n            return fig.toolbar_button_onclick(name);\n        };\n    }\n\n    function on_mouseover_closure(tooltip) {\n        return function (event) {\n            if (!event.currentTarget.disabled) {\n                return fig.toolbar_button_onmouseover(tooltip);\n            }\n        };\n    }\n\n    fig.buttons = {};\n    var buttonGroup = document.createElement('div');\n    buttonGroup.classList = 'mpl-button-group';\n    for (var toolbar_ind in mpl.toolbar_items) {\n        var name = mpl.toolbar_items[toolbar_ind][0];\n        var tooltip = mpl.toolbar_items[toolbar_ind][1];\n        var image = mpl.toolbar_items[toolbar_ind][2];\n        var method_name = mpl.toolbar_items[toolbar_ind][3];\n\n        if (!name) {\n            /* Instead of a spacer, we start a new button group. */\n            if (buttonGroup.hasChildNodes()) {\n                toolbar.appendChild(buttonGroup);\n            }\n            buttonGroup = document.createElement('div');\n            buttonGroup.classList = 'mpl-button-group';\n            continue;\n        }\n\n        var button = (fig.buttons[name] = document.createElement('button'));\n        button.classList = 'mpl-widget';\n        button.setAttribute('role', 'button');\n        button.setAttribute('aria-disabled', 'false');\n        button.addEventListener('click', on_click_closure(method_name));\n        button.addEventListener('mouseover', on_mouseover_closure(tooltip));\n\n        var icon_img = document.createElement('img');\n        icon_img.src = '_images/' + image + '.png';\n        icon_img.srcset = '_images/' + image + '_large.png 2x';\n        icon_img.alt = tooltip;\n        button.appendChild(icon_img);\n\n        buttonGroup.appendChild(button);\n    }\n\n    if (buttonGroup.hasChildNodes()) {\n        toolbar.appendChild(buttonGroup);\n    }\n\n    var fmt_picker = document.createElement('select');\n    fmt_picker.classList = 'mpl-widget';\n    toolbar.appendChild(fmt_picker);\n    this.format_dropdown = fmt_picker;\n\n    for (var ind in mpl.extensions) {\n        var fmt = mpl.extensions[ind];\n        var option = document.createElement('option');\n        option.selected = fmt === mpl.default_extension;\n        option.innerHTML = fmt;\n        fmt_picker.appendChild(option);\n    }\n\n    var status_bar = document.createElement('span');\n    status_bar.classList = 'mpl-message';\n    toolbar.appendChild(status_bar);\n    this.message = status_bar;\n};\n\nmpl.figure.prototype.request_resize = function (x_pixels, y_pixels) {\n    // Request matplotlib to resize the figure. Matplotlib will then trigger a resize in the client,\n    // which will in turn request a refresh of the image.\n    this.send_message('resize', { width: x_pixels, height: y_pixels });\n};\n\nmpl.figure.prototype.send_message = function (type, properties) {\n    properties['type'] = type;\n    properties['figure_id'] = this.id;\n    this.ws.send(JSON.stringify(properties));\n};\n\nmpl.figure.prototype.send_draw_message = function () {\n    if (!this.waiting) {\n        this.waiting = true;\n        this.ws.send(JSON.stringify({ type: 'draw', figure_id: this.id }));\n    }\n};\n\nmpl.figure.prototype.handle_save = function (fig, _msg) {\n    var format_dropdown = fig.format_dropdown;\n    var format = format_dropdown.options[format_dropdown.selectedIndex].value;\n    fig.ondownload(fig, format);\n};\n\nmpl.figure.prototype.handle_resize = function (fig, msg) {\n    var size = msg['size'];\n    if (size[0] !== fig.canvas.width || size[1] !== fig.canvas.height) {\n        fig._resize_canvas(size[0], size[1], msg['forward']);\n        fig.send_message('refresh', {});\n    }\n};\n\nmpl.figure.prototype.handle_rubberband = function (fig, msg) {\n    var x0 = msg['x0'] / fig.ratio;\n    var y0 = (fig.canvas.height - msg['y0']) / fig.ratio;\n    var x1 = msg['x1'] / fig.ratio;\n    var y1 = (fig.canvas.height - msg['y1']) / fig.ratio;\n    x0 = Math.floor(x0) + 0.5;\n    y0 = Math.floor(y0) + 0.5;\n    x1 = Math.floor(x1) + 0.5;\n    y1 = Math.floor(y1) + 0.5;\n    var min_x = Math.min(x0, x1);\n    var min_y = Math.min(y0, y1);\n    var width = Math.abs(x1 - x0);\n    var height = Math.abs(y1 - y0);\n\n    fig.rubberband_context.clearRect(\n        0,\n        0,\n        fig.canvas.width / fig.ratio,\n        fig.canvas.height / fig.ratio\n    );\n\n    fig.rubberband_context.strokeRect(min_x, min_y, width, height);\n};\n\nmpl.figure.prototype.handle_figure_label = function (fig, msg) {\n    // Updates the figure title.\n    fig.header.textContent = msg['label'];\n};\n\nmpl.figure.prototype.handle_cursor = function (fig, msg) {\n    fig.rubberband_canvas.style.cursor = msg['cursor'];\n};\n\nmpl.figure.prototype.handle_message = function (fig, msg) {\n    fig.message.textContent = msg['message'];\n};\n\nmpl.figure.prototype.handle_draw = function (fig, _msg) {\n    // Request the server to send over a new figure.\n    fig.send_draw_message();\n};\n\nmpl.figure.prototype.handle_image_mode = function (fig, msg) {\n    fig.image_mode = msg['mode'];\n};\n\nmpl.figure.prototype.handle_history_buttons = function (fig, msg) {\n    for (var key in msg) {\n        if (!(key in fig.buttons)) {\n            continue;\n        }\n        fig.buttons[key].disabled = !msg[key];\n        fig.buttons[key].setAttribute('aria-disabled', !msg[key]);\n    }\n};\n\nmpl.figure.prototype.handle_navigate_mode = function (fig, msg) {\n    if (msg['mode'] === 'PAN') {\n        fig.buttons['Pan'].classList.add('active');\n        fig.buttons['Zoom'].classList.remove('active');\n    } else if (msg['mode'] === 'ZOOM') {\n        fig.buttons['Pan'].classList.remove('active');\n        fig.buttons['Zoom'].classList.add('active');\n    } else {\n        fig.buttons['Pan'].classList.remove('active');\n        fig.buttons['Zoom'].classList.remove('active');\n    }\n};\n\nmpl.figure.prototype.updated_canvas_event = function () {\n    // Called whenever the canvas gets updated.\n    this.send_message('ack', {});\n};\n\n// A function to construct a web socket function for onmessage handling.\n// Called in the figure constructor.\nmpl.figure.prototype._make_on_message_function = function (fig) {\n    return function socket_on_message(evt) {\n        if (evt.data instanceof Blob) {\n            var img = evt.data;\n            if (img.type !== 'image/png') {\n                /* FIXME: We get \"Resource interpreted as Image but\n                 * transferred with MIME type text/plain:\" errors on\n                 * Chrome.  But how to set the MIME type?  It doesn't seem\n                 * to be part of the websocket stream */\n                img.type = 'image/png';\n            }\n\n            /* Free the memory for the previous frames */\n            if (fig.imageObj.src) {\n                (window.URL || window.webkitURL).revokeObjectURL(\n                    fig.imageObj.src\n                );\n            }\n\n            fig.imageObj.src = (window.URL || window.webkitURL).createObjectURL(\n                img\n            );\n            fig.updated_canvas_event();\n            fig.waiting = false;\n            return;\n        } else if (\n            typeof evt.data === 'string' &&\n            evt.data.slice(0, 21) === 'data:image/png;base64'\n        ) {\n            fig.imageObj.src = evt.data;\n            fig.updated_canvas_event();\n            fig.waiting = false;\n            return;\n        }\n\n        var msg = JSON.parse(evt.data);\n        var msg_type = msg['type'];\n\n        // Call the  \"handle_{type}\" callback, which takes\n        // the figure and JSON message as its only arguments.\n        try {\n            var callback = fig['handle_' + msg_type];\n        } catch (e) {\n            console.log(\n                \"No handler for the '\" + msg_type + \"' message type: \",\n                msg\n            );\n            return;\n        }\n\n        if (callback) {\n            try {\n                // console.log(\"Handling '\" + msg_type + \"' message: \", msg);\n                callback(fig, msg);\n            } catch (e) {\n                console.log(\n                    \"Exception inside the 'handler_\" + msg_type + \"' callback:\",\n                    e,\n                    e.stack,\n                    msg\n                );\n            }\n        }\n    };\n};\n\n// from https://stackoverflow.com/questions/1114465/getting-mouse-location-in-canvas\nmpl.findpos = function (e) {\n    //this section is from http://www.quirksmode.org/js/events_properties.html\n    var targ;\n    if (!e) {\n        e = window.event;\n    }\n    if (e.target) {\n        targ = e.target;\n    } else if (e.srcElement) {\n        targ = e.srcElement;\n    }\n    if (targ.nodeType === 3) {\n        // defeat Safari bug\n        targ = targ.parentNode;\n    }\n\n    // pageX,Y are the mouse positions relative to the document\n    var boundingRect = targ.getBoundingClientRect();\n    var x = e.pageX - (boundingRect.left + document.body.scrollLeft);\n    var y = e.pageY - (boundingRect.top + document.body.scrollTop);\n\n    return { x: x, y: y };\n};\n\n/*\n * return a copy of an object with only non-object keys\n * we need this to avoid circular references\n * https://stackoverflow.com/a/24161582/3208463\n */\nfunction simpleKeys(original) {\n    return Object.keys(original).reduce(function (obj, key) {\n        if (typeof original[key] !== 'object') {\n            obj[key] = original[key];\n        }\n        return obj;\n    }, {});\n}\n\nmpl.figure.prototype.mouse_event = function (event, name) {\n    var canvas_pos = mpl.findpos(event);\n\n    if (name === 'button_press') {\n        this.canvas.focus();\n        this.canvas_div.focus();\n    }\n\n    var x = canvas_pos.x * this.ratio;\n    var y = canvas_pos.y * this.ratio;\n\n    this.send_message(name, {\n        x: x,\n        y: y,\n        button: event.button,\n        step: event.step,\n        guiEvent: simpleKeys(event),\n    });\n\n    /* This prevents the web browser from automatically changing to\n     * the text insertion cursor when the button is pressed.  We want\n     * to control all of the cursor setting manually through the\n     * 'cursor' event from matplotlib */\n    event.preventDefault();\n    return false;\n};\n\nmpl.figure.prototype._key_event_extra = function (_event, _name) {\n    // Handle any extra behaviour associated with a key event\n};\n\nmpl.figure.prototype.key_event = function (event, name) {\n    // Prevent repeat events\n    if (name === 'key_press') {\n        if (event.key === this._key) {\n            return;\n        } else {\n            this._key = event.key;\n        }\n    }\n    if (name === 'key_release') {\n        this._key = null;\n    }\n\n    var value = '';\n    if (event.ctrlKey && event.key !== 'Control') {\n        value += 'ctrl+';\n    }\n    else if (event.altKey && event.key !== 'Alt') {\n        value += 'alt+';\n    }\n    else if (event.shiftKey && event.key !== 'Shift') {\n        value += 'shift+';\n    }\n\n    value += 'k' + event.key;\n\n    this._key_event_extra(event, name);\n\n    this.send_message(name, { key: value, guiEvent: simpleKeys(event) });\n    return false;\n};\n\nmpl.figure.prototype.toolbar_button_onclick = function (name) {\n    if (name === 'download') {\n        this.handle_save(this, null);\n    } else {\n        this.send_message('toolbar_button', { name: name });\n    }\n};\n\nmpl.figure.prototype.toolbar_button_onmouseover = function (tooltip) {\n    this.message.textContent = tooltip;\n};\n\n///////////////// REMAINING CONTENT GENERATED BY embed_js.py /////////////////\n// prettier-ignore\nvar _JSXTOOLS_RESIZE_OBSERVER=function(A){var t,i=new WeakMap,n=new WeakMap,a=new WeakMap,r=new WeakMap,o=new Set;function s(e){if(!(this instanceof s))throw new TypeError(\"Constructor requires 'new' operator\");i.set(this,e)}function h(){throw new TypeError(\"Function is not a constructor\")}function c(e,t,i,n){e=0 in arguments?Number(arguments[0]):0,t=1 in arguments?Number(arguments[1]):0,i=2 in arguments?Number(arguments[2]):0,n=3 in arguments?Number(arguments[3]):0,this.right=(this.x=this.left=e)+(this.width=i),this.bottom=(this.y=this.top=t)+(this.height=n),Object.freeze(this)}function d(){t=requestAnimationFrame(d);var s=new WeakMap,p=new Set;o.forEach((function(t){r.get(t).forEach((function(i){var r=t instanceof window.SVGElement,o=a.get(t),d=r?0:parseFloat(o.paddingTop),f=r?0:parseFloat(o.paddingRight),l=r?0:parseFloat(o.paddingBottom),u=r?0:parseFloat(o.paddingLeft),g=r?0:parseFloat(o.borderTopWidth),m=r?0:parseFloat(o.borderRightWidth),w=r?0:parseFloat(o.borderBottomWidth),b=u+f,F=d+l,v=(r?0:parseFloat(o.borderLeftWidth))+m,W=g+w,y=r?0:t.offsetHeight-W-t.clientHeight,E=r?0:t.offsetWidth-v-t.clientWidth,R=b+v,z=F+W,M=r?t.width:parseFloat(o.width)-R-E,O=r?t.height:parseFloat(o.height)-z-y;if(n.has(t)){var k=n.get(t);if(k[0]===M&&k[1]===O)return}n.set(t,[M,O]);var S=Object.create(h.prototype);S.target=t,S.contentRect=new c(u,d,M,O),s.has(i)||(s.set(i,[]),p.add(i)),s.get(i).push(S)}))})),p.forEach((function(e){i.get(e).call(e,s.get(e),e)}))}return s.prototype.observe=function(i){if(i instanceof window.Element){r.has(i)||(r.set(i,new Set),o.add(i),a.set(i,window.getComputedStyle(i)));var n=r.get(i);n.has(this)||n.add(this),cancelAnimationFrame(t),t=requestAnimationFrame(d)}},s.prototype.unobserve=function(i){if(i instanceof window.Element&&r.has(i)){var n=r.get(i);n.has(this)&&(n.delete(this),n.size||(r.delete(i),o.delete(i))),n.size||r.delete(i),o.size||cancelAnimationFrame(t)}},A.DOMRectReadOnly=c,A.ResizeObserver=s,A.ResizeObserverEntry=h,A}; // eslint-disable-line\nmpl.toolbar_items = [[\"Home\", \"Reset original view\", \"fa fa-home icon-home\", \"home\"], [\"Back\", \"Back to previous view\", \"fa fa-arrow-left icon-arrow-left\", \"back\"], [\"Forward\", \"Forward to next view\", \"fa fa-arrow-right icon-arrow-right\", \"forward\"], [\"\", \"\", \"\", \"\"], [\"Pan\", \"Left button pans, Right button zooms\\nx/y fixes axis, CTRL fixes aspect\", \"fa fa-arrows icon-move\", \"pan\"], [\"Zoom\", \"Zoom to rectangle\\nx/y fixes axis\", \"fa fa-square-o icon-check-empty\", \"zoom\"], [\"\", \"\", \"\", \"\"], [\"Download\", \"Download plot\", \"fa fa-floppy-o icon-save\", \"download\"]];\n\nmpl.extensions = [\"eps\", \"jpeg\", \"pgf\", \"pdf\", \"png\", \"ps\", \"raw\", \"svg\", \"tif\"];\n\nmpl.default_extension = \"png\";/* global mpl */\n\nvar comm_websocket_adapter = function (comm) {\n    // Create a \"websocket\"-like object which calls the given IPython comm\n    // object with the appropriate methods. Currently this is a non binary\n    // socket, so there is still some room for performance tuning.\n    var ws = {};\n\n    ws.binaryType = comm.kernel.ws.binaryType;\n    ws.readyState = comm.kernel.ws.readyState;\n    function updateReadyState(_event) {\n        if (comm.kernel.ws) {\n            ws.readyState = comm.kernel.ws.readyState;\n        } else {\n            ws.readyState = 3; // Closed state.\n        }\n    }\n    comm.kernel.ws.addEventListener('open', updateReadyState);\n    comm.kernel.ws.addEventListener('close', updateReadyState);\n    comm.kernel.ws.addEventListener('error', updateReadyState);\n\n    ws.close = function () {\n        comm.close();\n    };\n    ws.send = function (m) {\n        //console.log('sending', m);\n        comm.send(m);\n    };\n    // Register the callback with on_msg.\n    comm.on_msg(function (msg) {\n        //console.log('receiving', msg['content']['data'], msg);\n        var data = msg['content']['data'];\n        if (data['blob'] !== undefined) {\n            data = {\n                data: new Blob(msg['buffers'], { type: data['blob'] }),\n            };\n        }\n        // Pass the mpl event to the overridden (by mpl) onmessage function.\n        ws.onmessage(data);\n    });\n    return ws;\n};\n\nmpl.mpl_figure_comm = function (comm, msg) {\n    // This is the function which gets called when the mpl process\n    // starts-up an IPython Comm through the \"matplotlib\" channel.\n\n    var id = msg.content.data.id;\n    // Get hold of the div created by the display call when the Comm\n    // socket was opened in Python.\n    var element = document.getElementById(id);\n    var ws_proxy = comm_websocket_adapter(comm);\n\n    function ondownload(figure, _format) {\n        window.open(figure.canvas.toDataURL());\n    }\n\n    var fig = new mpl.figure(id, ws_proxy, ondownload, element);\n\n    // Call onopen now - mpl needs it, as it is assuming we've passed it a real\n    // web socket which is closed, not our websocket->open comm proxy.\n    ws_proxy.onopen();\n\n    fig.parent_element = element;\n    fig.cell_info = mpl.find_output_cell(\"<div id='\" + id + \"'></div>\");\n    if (!fig.cell_info) {\n        console.error('Failed to find cell for figure', id, fig);\n        return;\n    }\n    fig.cell_info[0].output_area.element.on(\n        'cleared',\n        { fig: fig },\n        fig._remove_fig_handler\n    );\n};\n\nmpl.figure.prototype.handle_close = function (fig, msg) {\n    var width = fig.canvas.width / fig.ratio;\n    fig.cell_info[0].output_area.element.off(\n        'cleared',\n        fig._remove_fig_handler\n    );\n    fig.resizeObserverInstance.unobserve(fig.canvas_div);\n\n    // Update the output cell to use the data from the current canvas.\n    fig.push_to_output();\n    var dataURL = fig.canvas.toDataURL();\n    // Re-enable the keyboard manager in IPython - without this line, in FF,\n    // the notebook keyboard shortcuts fail.\n    IPython.keyboard_manager.enable();\n    fig.parent_element.innerHTML =\n        '<img src=\"' + dataURL + '\" width=\"' + width + '\">';\n    fig.close_ws(fig, msg);\n};\n\nmpl.figure.prototype.close_ws = function (fig, msg) {\n    fig.send_message('closing', msg);\n    // fig.ws.close()\n};\n\nmpl.figure.prototype.push_to_output = function (_remove_interactive) {\n    // Turn the data on the canvas into data in the output cell.\n    var width = this.canvas.width / this.ratio;\n    var dataURL = this.canvas.toDataURL();\n    this.cell_info[1]['text/html'] =\n        '<img src=\"' + dataURL + '\" width=\"' + width + '\">';\n};\n\nmpl.figure.prototype.updated_canvas_event = function () {\n    // Tell IPython that the notebook contents must change.\n    IPython.notebook.set_dirty(true);\n    this.send_message('ack', {});\n    var fig = this;\n    // Wait a second, then push the new image to the DOM so\n    // that it is saved nicely (might be nice to debounce this).\n    setTimeout(function () {\n        fig.push_to_output();\n    }, 1000);\n};\n\nmpl.figure.prototype._init_toolbar = function () {\n    var fig = this;\n\n    var toolbar = document.createElement('div');\n    toolbar.classList = 'btn-toolbar';\n    this.root.appendChild(toolbar);\n\n    function on_click_closure(name) {\n        return function (_event) {\n            return fig.toolbar_button_onclick(name);\n        };\n    }\n\n    function on_mouseover_closure(tooltip) {\n        return function (event) {\n            if (!event.currentTarget.disabled) {\n                return fig.toolbar_button_onmouseover(tooltip);\n            }\n        };\n    }\n\n    fig.buttons = {};\n    var buttonGroup = document.createElement('div');\n    buttonGroup.classList = 'btn-group';\n    var button;\n    for (var toolbar_ind in mpl.toolbar_items) {\n        var name = mpl.toolbar_items[toolbar_ind][0];\n        var tooltip = mpl.toolbar_items[toolbar_ind][1];\n        var image = mpl.toolbar_items[toolbar_ind][2];\n        var method_name = mpl.toolbar_items[toolbar_ind][3];\n\n        if (!name) {\n            /* Instead of a spacer, we start a new button group. */\n            if (buttonGroup.hasChildNodes()) {\n                toolbar.appendChild(buttonGroup);\n            }\n            buttonGroup = document.createElement('div');\n            buttonGroup.classList = 'btn-group';\n            continue;\n        }\n\n        button = fig.buttons[name] = document.createElement('button');\n        button.classList = 'btn btn-default';\n        button.href = '#';\n        button.title = name;\n        button.innerHTML = '<i class=\"fa ' + image + ' fa-lg\"></i>';\n        button.addEventListener('click', on_click_closure(method_name));\n        button.addEventListener('mouseover', on_mouseover_closure(tooltip));\n        buttonGroup.appendChild(button);\n    }\n\n    if (buttonGroup.hasChildNodes()) {\n        toolbar.appendChild(buttonGroup);\n    }\n\n    // Add the status bar.\n    var status_bar = document.createElement('span');\n    status_bar.classList = 'mpl-message pull-right';\n    toolbar.appendChild(status_bar);\n    this.message = status_bar;\n\n    // Add the close button to the window.\n    var buttongrp = document.createElement('div');\n    buttongrp.classList = 'btn-group inline pull-right';\n    button = document.createElement('button');\n    button.classList = 'btn btn-mini btn-primary';\n    button.href = '#';\n    button.title = 'Stop Interaction';\n    button.innerHTML = '<i class=\"fa fa-power-off icon-remove icon-large\"></i>';\n    button.addEventListener('click', function (_evt) {\n        fig.handle_close(fig, {});\n    });\n    button.addEventListener(\n        'mouseover',\n        on_mouseover_closure('Stop Interaction')\n    );\n    buttongrp.appendChild(button);\n    var titlebar = this.root.querySelector('.ui-dialog-titlebar');\n    titlebar.insertBefore(buttongrp, titlebar.firstChild);\n};\n\nmpl.figure.prototype._remove_fig_handler = function (event) {\n    var fig = event.data.fig;\n    if (event.target !== this) {\n        // Ignore bubbled events from children.\n        return;\n    }\n    fig.close_ws(fig, {});\n};\n\nmpl.figure.prototype._root_extra_style = function (el) {\n    el.style.boxSizing = 'content-box'; // override notebook setting of border-box.\n};\n\nmpl.figure.prototype._canvas_extra_style = function (el) {\n    // this is important to make the div 'focusable\n    el.setAttribute('tabindex', 0);\n    // reach out to IPython and tell the keyboard manager to turn it's self\n    // off when our div gets focus\n\n    // location in version 3\n    if (IPython.notebook.keyboard_manager) {\n        IPython.notebook.keyboard_manager.register_events(el);\n    } else {\n        // location in version 2\n        IPython.keyboard_manager.register_events(el);\n    }\n};\n\nmpl.figure.prototype._key_event_extra = function (event, _name) {\n    // Check for shift+enter\n    if (event.shiftKey && event.which === 13) {\n        this.canvas_div.blur();\n        // select the cell after this one\n        var index = IPython.notebook.find_cell_index(this.cell_info[0]);\n        IPython.notebook.select(index + 1);\n    }\n};\n\nmpl.figure.prototype.handle_save = function (fig, _msg) {\n    fig.ondownload(fig, null);\n};\n\nmpl.find_output_cell = function (html_output) {\n    // Return the cell and output element which can be found *uniquely* in the notebook.\n    // Note - this is a bit hacky, but it is done because the \"notebook_saving.Notebook\"\n    // IPython event is triggered only after the cells have been serialised, which for\n    // our purposes (turning an active figure into a static one), is too late.\n    var cells = IPython.notebook.get_cells();\n    var ncells = cells.length;\n    for (var i = 0; i < ncells; i++) {\n        var cell = cells[i];\n        if (cell.cell_type === 'code') {\n            for (var j = 0; j < cell.output_area.outputs.length; j++) {\n                var data = cell.output_area.outputs[j];\n                if (data.data) {\n                    // IPython >= 3 moved mimebundle to data attribute of output\n                    data = data.data;\n                }\n                if (data['text/html'] === html_output) {\n                    return [cell, data, j];\n                }\n            }\n        }\n    }\n};\n\n// Register the function which deals with the matplotlib target/channel.\n// The kernel may be null if the page has been refreshed.\nif (IPython.notebook.kernel !== null) {\n    IPython.notebook.kernel.comm_manager.register_target(\n        'matplotlib',\n        mpl.mpl_figure_comm\n    );\n}\n"
     },
     "metadata": {},
     "output_type": "display_data"
    },
    {
     "data": {
      "text/plain": "<IPython.core.display.HTML object>",
      "text/html": "<div id='e11d7248-4579-4d3c-b251-af98a1e0b154'></div>"
     },
     "metadata": {},
     "output_type": "display_data"
    }
   ],
   "source": [
    "fig, axs = plt.subplots(1, 2)\n",
    "axs[0].scatter(meta_data, ham_statics[0])\n",
    "axs[1].scatter(meta_data, spam_statics[0])\n",
    "plt.show()\n",
    "fig, axs = plt.subplots(1, 2)\n",
    "axs[0].scatter(meta_data, ham_statics[1])\n",
    "axs[1].scatter(meta_data, spam_statics[1])\n",
    "plt.show()"
   ],
   "metadata": {
    "collapsed": false,
    "pycharm": {
     "name": "#%%\n"
    }
   }
  },
  {
   "cell_type": "code",
   "execution_count": 11,
   "outputs": [
    {
     "name": "stderr",
     "output_type": "stream",
     "text": [
      "[nltk_data] Downloading package punkt to\n",
      "[nltk_data]     /home/junetheriver/nltk_data...\n",
      "[nltk_data]   Package punkt is already up-to-date!\n"
     ]
    },
    {
     "data": {
      "text/plain": "True"
     },
     "execution_count": 11,
     "metadata": {},
     "output_type": "execute_result"
    }
   ],
   "source": [
    "# Testing tokenization\n",
    "import nltk\n",
    "nltk.download('punkt')"
   ],
   "metadata": {
    "collapsed": false,
    "pycharm": {
     "name": "#%%\n"
    }
   }
  },
  {
   "cell_type": "code",
   "execution_count": 12,
   "outputs": [
    {
     "data": {
      "text/plain": "['Received',\n ':',\n 'from',\n 'gatekeeper.maritz.com',\n '(',\n 'firewall-user',\n '@',\n 'gatekeeper.maritz.com',\n '[',\n '207.239.118.4',\n ']',\n ')',\n 'by',\n 'aleve.media.mit.edu',\n '(',\n '8.8.7/ML970927',\n ')',\n 'with',\n 'ESMTP',\n 'id',\n 'PAA03360',\n 'for',\n '<',\n 'handyboard',\n '@',\n 'media.mit.edu',\n '>',\n ';',\n 'Tue',\n ',',\n '17',\n 'Nov',\n '1998',\n '15:07:41',\n '-0500',\n '(',\n 'EST',\n ')',\n 'Received',\n ':',\n 'by',\n 'gatekeeper.maritz.com',\n ';',\n 'id',\n 'OAA19408',\n ';',\n 'Tue',\n ',',\n '17',\n 'Nov',\n '1998',\n '14:05:08',\n '-0600',\n '(',\n 'CST',\n ')',\n 'Received',\n ':',\n 'from',\n 'mifenmta01.maritz.com',\n '(',\n '156.45.55.38',\n ')',\n 'by',\n 'gatekeeper.maritz.com',\n 'via',\n 'smap',\n '(',\n '4.1',\n ')',\n 'id',\n 'xma019232',\n ';',\n 'Tue',\n ',',\n '17',\n 'Nov',\n '98',\n '14:04:59',\n '-0600',\n 'Received',\n ':',\n 'by',\n 'mifenmta01.maritz.com',\n 'with',\n 'Internet',\n 'Mail',\n 'Service',\n '(',\n '5.5.2232.9',\n ')',\n 'id',\n '<',\n 'XAX270HN',\n '>',\n ';',\n 'Tue',\n ',',\n '17',\n 'Nov',\n '1998',\n '14:06:46',\n '-0600',\n 'Message-Id',\n ':',\n '<',\n '6F777E7A02A7D0118B5B00A02461E465058ED0A4',\n '@',\n 'mifen-comm03.maritz.com',\n '>',\n 'From',\n ':',\n '``',\n 'Graham',\n ',',\n 'J.',\n 'Todd',\n \"''\",\n '<',\n 'grahamjt',\n '@',\n 'Maritz.com',\n '>',\n 'To',\n ':',\n 'handyboard',\n '@',\n 'media.mit.edu',\n 'Subject',\n ':',\n 'Availability',\n 'of',\n 'Expansion',\n 'board',\n '?',\n 'Date',\n ':',\n 'Tue',\n ',',\n '17',\n 'Nov',\n '1998',\n '14:06:15',\n '-0600',\n 'X-Mailer',\n ':',\n 'Internet',\n 'Mail',\n 'Service',\n '(',\n '5.5.2232.9',\n ')',\n 'What',\n 'is',\n 'the',\n 'status',\n 'of',\n 'the',\n 'Handyboard',\n 'expansion',\n 'board',\n '?',\n 'The',\n 'latest',\n 'page',\n 'update',\n 'from',\n 'Fred',\n 'appears',\n 'to',\n 'be',\n 'Jul',\n '20th',\n ',',\n 'and',\n 'indicated',\n 'that',\n 'the',\n 'board',\n 'might',\n 'be',\n 'available',\n 'at',\n 'the',\n 'end',\n 'of',\n 'the',\n 'summer',\n '.',\n 'Todd']"
     },
     "execution_count": 12,
     "metadata": {},
     "output_type": "execute_result"
    }
   ],
   "source": [
    "nltk.word_tokenize(get_random_ham_content())"
   ],
   "metadata": {
    "collapsed": false,
    "pycharm": {
     "name": "#%%\n"
    }
   }
  },
  {
   "cell_type": "code",
   "execution_count": 13,
   "outputs": [],
   "source": [
    "from sklearn.feature_extraction.text import CountVectorizer"
   ],
   "metadata": {
    "collapsed": false,
    "pycharm": {
     "name": "#%%\n"
    }
   }
  },
  {
   "cell_type": "code",
   "execution_count": 14,
   "outputs": [],
   "source": [
    "vectorizer = CountVectorizer(token_pattern=r'\\b\\w+\\b')"
   ],
   "metadata": {
    "collapsed": false,
    "pycharm": {
     "name": "#%%\n"
    }
   }
  },
  {
   "cell_type": "code",
   "execution_count": 15,
   "outputs": [],
   "source": [
    "corpus = dl.raw_data.values()"
   ],
   "metadata": {
    "collapsed": false,
    "pycharm": {
     "name": "#%%\n"
    }
   }
  },
  {
   "cell_type": "code",
   "execution_count": 16,
   "outputs": [
    {
     "data": {
      "text/plain": "<37822x1504556 sparse matrix of type '<class 'numpy.int64'>'\n\twith 9550887 stored elements in Compressed Sparse Row format>"
     },
     "execution_count": 16,
     "metadata": {},
     "output_type": "execute_result"
    }
   ],
   "source": [
    "X = vectorizer.fit_transform(corpus)\n",
    "X"
   ],
   "metadata": {
    "collapsed": false,
    "pycharm": {
     "name": "#%%\n"
    }
   }
  },
  {
   "cell_type": "code",
   "execution_count": 17,
   "outputs": [
    {
     "data": {
      "text/plain": "(1504556,)"
     },
     "execution_count": 17,
     "metadata": {},
     "output_type": "execute_result"
    }
   ],
   "source": [
    "vectorizer.get_feature_names_out().shape"
   ],
   "metadata": {
    "collapsed": false,
    "pycharm": {
     "name": "#%%\n"
    }
   }
  },
  {
   "cell_type": "code",
   "execution_count": 18,
   "outputs": [
    {
     "name": "stdout",
     "output_type": "stream",
     "text": [
      "1112552\n"
     ]
    }
   ],
   "source": [
    "print(vectorizer.vocabulary_.get('received'))"
   ],
   "metadata": {
    "collapsed": false,
    "pycharm": {
     "name": "#%%\n"
    }
   }
  },
  {
   "cell_type": "code",
   "execution_count": 19,
   "outputs": [
    {
     "name": "stdout",
     "output_type": "stream",
     "text": [
      "Received: from mail.kurusyu-nai.com (61-30-232-142.static.tfn.net.tw [61.30.232.142])\n",
      "\tby aleve.media.mit.edu (8.8.7/ML970927) with ESMTP id BAA22138\n",
      "\tfor <handyboard@media.mit.edu>; Tue, 1 Sep 1998 06:39:07 -0400 (EDT)\n",
      "Received: (qmail 7156 invoked by uid 509); Tue, 1 Sep 1998 13:18:48 +0900\n",
      "Date: Tue, 1 Sep 1998 13:18:48 +0900\n",
      "Message-ID: <20060430041636.7155.qmail@mail.kurusyu-nai.com>\n",
      "MIME-Version: 1.0\n",
      "Content-Type: text/plain; charset=iso-2022-jp\n",
      "Content-Transfer-Encoding: 7bit\n",
      "From: info@kurusyu-nai.com\n",
      "To: handyboard@media.mit.edu\n",
      "Subject:\u001B$B%(%C%A2DG=$J!j$?$A$N%i%s%-%s%0$G$9!*\u001B(B\n",
      "MIME-Version: 1.0\n",
      "Content-type: text/plain; charset=iso-2022-jp\n",
      "Content-Transfer-Encoding: 7bit\n",
      "X-Mailer: WelcomeMail\n",
      "\n",
      "\u001B$B\"!!g!v!g!v!g!v!g!v!g!v!g!v!g!v!g!v!g!v!g!v!g!v!g!v!g!v!g!v!g\"!\u001B(B\n",
      "\u001B$B\"(!!!!!!!!=U`%L!!z%+%N%8%gC5$7$O$d$C$Q$j%3%3$+$i!!!!!!!!!!!!\"(\u001B(B\n",
      "\u001B$B\"(!!!!%l%G%#!<%9;o!&#G#A#L;oB??t7G:\\!*=w@-$KBg?M5$%5%$%H!*!!\"(\u001B(B\n",
      "\u001B$B\"!!g!v!g!v!g!v!g!v!g!v!g!v!g!v!g!v!g!v!g!v!g!v!g!v!g!v!g!v!g\"!\u001B(B\n",
      "\n",
      "\u001B$B!zWD!z=P2q$$$X$N:GNI%J%S!*$H$3$H$sM7$Y$F!\"$9$C$+$jK~B-\"v!zWD!z\u001B(B\n",
      "\u001B$B!!!zWD2fK}$7$J$$$GB(=P2q$$!*EA@bE*$J=P2q$$$r?tB?$/C[$$$?!zWD\u001B(B\n",
      "\u001B$B!!!!!zWDEv%5%$%H$3$=!\"%\"%/%;%9$9$k2ACM$,$\"$j$^$9!zWD!zWD\u001B(B\n",
      "\u001B$B!!!!!!!!!!!!\u001B(Bhttp://kjhdf.com/120/index_bo\n",
      "\n",
      "\n",
      "\u001B$B$$$^$\"$J$?$r$*BT$A$7$F$$$k$N$O!D\u001B(B\n",
      "\u001B$B!D!D!D!D!y!D!D!D!D!y!D!D!D!D!y!D!D!D!D!y!D!D!D!D!y!D!D!D!D!y!D!D\u001B(B \n",
      "\n",
      "\u001B$BL>A0!!!y;3K\\$j$(!!!!!!@1:B!!!y?eIS:B\u001B(B       \u001B$B<qL#!!!yNAM}\u001B(B\n",
      "\n",
      "\u001B$BG/Np!!!y#2#2:P!!!!!!!!7l1U7?!!!y#A7?!!!!\u001B(B \u001B$B#HEY!!!y!y!y!y\u001B(B\n",
      "\n",
      "\u001B$B?&6H!!!y#O#L!y!!!!!!!!;w$F$$$kM-L>?M!!!yM%9a\u001B(B\n",
      "\n",
      "\u001B$B!z(,(,(,(,(,(,(,(,(,(,(,(,(,(,(,(,(,(,(,(,(,(,(,(,(,(,(,(,(,(,(,!y\u001B(B \n",
      "\u001B$B0JA07G<(HD$G8+$+$1$F$:$C$H5$$K$J$C$F$^$7$?!#$\"$J$?$N$*$+$2$G;d!\"\u001B(B\n",
      "\u001B$B$d$C$H9%$_$NAj<j$r8+$D$1$i$l$?$s$G$9!#D>@\\%a!<%k$9$k$N$,I]$+$C$?$N$G!\"\u001B(B\n",
      "\u001B$B:G=i$N%a!<%k$@$1!\"%5%$%H$N%5%]!<%H$rDL$7$F$*4j$$$7$F$_$^$7$?!#\u001B(B\n",
      "\u001B$BEZF|$+J?F|$NLk#9;~0J9_$G2q$C$F$/$l$^$;$s$+!)\u001B(B\n",
      "\u001B$B!z(,(,(,(,(,(,(,(,(,(,(,(,(,(,(,(,(,(,(,(,(,(,(,(,(,(,(,(,(,(,(,!y\u001B(B \n",
      "\n",
      "\u001B$B$[$+!\"#1#8L>MM$,$\"$J$?$r$*BT$A$7$F$$$^$9!#\"*\u001B(B http://kjhdf.com/120/index_bo\n",
      "\u001B$BK\\F|\u001B(B24\u001B$B;~$^$G%H%C%W%i%s%/$N%\"%/%;%9EPO?$G!\"D>%a$b$7$/$OEEOC8r49$,2DG=$G$9!#\u001B(B\n",
      "\n",
      "\n",
      "\u001B$B$7$+$b!\"K\\Ev$K<+?.$r$b$C$F%a!<%k$r$4>R2p$9$k$3$H$,$G$-$k$N$O\u001B(B\n",
      "\u001B$B!Z=P2q$$\u001B(BRANKING \u001B$B=P2q$$EY!!\u001B(B120% \u001B$B![$N$_!*\u001B(B\n",
      "\n",
      "\u001B$B!!!!!!!!!!!!!|!{!|<B$O!\"Ev%5%$%H$K$O!|!{!|\u001B(B\n",
      "\n",
      "\u001B$B=P2q$$$r5a$a$k5.=E$J=w@-$?$A$N5v2D$rF@$F!\"\u001B(B\n",
      "\u001B$B!yHkL)!y$N%j%9%H$r:#2s!\"$\"$J$?$@$1$K8x3+$7$F$*$j$^$9!#\u001B(B\n",
      "\n",
      "\u001B$B!,!&\u001B(B*:.\u001B$B!#\u001B(B.:*\u001B$B!&!,!&\u001B(B*:.\u001B$B!#\u001B(B.:*\u001B$B!&!,!&\u001B(B*:\u001B$B!&\u001B(B*:.\u001B$B!#\u001B(B.:*\u001B$B!&\u001B(B*:.\u001B$B!#\u001B(B.:*\u001B$B!&!,\u001B(B\n",
      "\u001B$B!&\u001B(B*:.\u001B$B!#\u001B(B.:\u001B$BA4$F$N!i$N@?<B$J=P2q$$$r%5%]!<%H!*!&\u001B(B*:.\u001B$B!#\u001B(B.:*\u001B$B!&\u001B(B*:.\u001B$B!#\u001B(B.\n",
      "\n",
      "\u001B$B!&\u001B(B*:.\u001B$B!#\u001B(B.:*\u001B$B!&\u001B(B*\u001B$B$3$l$O$^$5$K%(%C%A2DG=$J!j$?$A$N!&\u001B(B*:.\u001B$B!#\u001B(B.:*\u001B$B!&\u001B(B*:\n",
      "\n",
      "\u001B$B!&\u001B(B*:\u001B$B!&\u001B(B*:.\u001B$B!#\u001B(B.:*\u001B$B%i%s%-%s%0%j%9%H$@!*!&\u001B(B*:.\u001B$B!#\u001B(B.:*\u001B$B!&\u001B(B*:.\n",
      "\u001B$B!&\u001B(B*:.\u001B$B!#\u001B(B.:*\u001B$B!&\u001B(B*:.\u001B$B!#\u001B(B.:*\u001B$B!&!,!&\u001B(B*:.\u001B$B!#\u001B(B.:*\u001B$B!&\u001B(B*:.\u001B$B!#\u001B(B.:*\u001B$B!&!,!&\u001B(B*:.\u001B$B!#\u001B(B.:*\u001B$B!&\u001B(B\n",
      "\u001B$B!!\u001B(Bhttp://kjhdf.com/120/index_bo\n",
      "\n",
      "\u001B$B\",5.=E$J%j%9%H$O$3$3$+$i%2%C%H!*\u001B(B\n",
      "\n",
      "\u001B$B!&:#2sFCJL$K>R2p$5$;$F$$$?$@$$$?!\"M%9a$5$s$N$[$+$K$b!\"\u001B(B\n",
      "\u001B$B!&B??t$N=w@-$,$\"$J$?$r$*BT$A$7$F$$$^$9!#?M:J$+$i!\"AG?M$J$N$K\u001B(B\n",
      "\u001B$B!&0|Mp$J@-JJ$N$\"$kJ}$J$I!*L%NO$N=P2q$$$G$b$&!\"M_5aITK~$J$s$F$$$o$;$^$;$s!*\u001B(B\n",
      "\n",
      "\u001B$B!!!!!!!!!!!z!y!z9%$_$N%5%$%H$+$i0lH/EPO?$G!z!y!z\u001B(B\n",
      "\n",
      "\u001B$BA4$F$N%(%C%A!*!!\u001B(Bhttp://kjhdf.com/120/index_bo\n",
      "\u001B$B\"\"\"\"\"\"\"\"\"\"\"\"\"\"\"\"\"\"\"\"\"\"\"\"\"\"\"\"\"\"\"\"\"\"\"\"\"\"\"\"\"\"\"\"\"\"\"\"\"\"\"\"\"\"\"\"\"\"\"\"\"\"\"\"\"\"\"\"\"\"\u001B(B\n",
      "\u001B$B\"\"\"\"\"\"\"\"\"\"\"\"\"\"\"\"\"\"\"\"\"\"\"\"\"\"\"\"\"\"\"\"\"\"\"\"\"\"\"\"\"\"\"\"\"\"\"\"\"\"\"\"\"\"\"\"\"\"\"\"\"\"\"\"\"\"\"\"\"\"\u001B(B\n",
      "\u001B$B\"\"\"\"\"(\"#\"#\"#\"#\"(\"#\"#\"#\"#\"(\"(\"(\"#\"#\"#\"#\"(\"(\"(\"(\"#\"(\"(\"(\"(\"#\"(\"(\"#\"(\"\"\"\"\u001B(B\n",
      "\u001B$B\"\"\"\"\"(\"#\"(\"(\"#\"(\"#\"(\"(\"#\"(\"(\"#\"#\"(\"(\"#\"#\"(\"(\"(\"#\"(\"(\"(\"#\"(\"(\"(\"#\"(\"\"\"\"\u001B(B\n",
      "\u001B$B\"\"\"\"\"(\"#\"#\"#\"#\"(\"#\"(\"(\"#\"(\"#\"#\"(\"(\"(\"(\"#\"#\"(\"(\"#\"(\"(\u001B(B \u001B$B\"#\u001B(B \u001B$B\"(\"(\"(\"#\"(\"\"\"\"\u001B(B\n",
      "\u001B$B\"\"\"\"\"(\"#\"(\"(\"#\"(\"#\"(\"(\"#\"(\"#\"(\"(\"(\"(\"(\"(\"#\"(\"(\"#\"(\"(\"#\"(\"(\"(\"(\"#\"(\"\"\"\"\u001B(B\n",
      "\u001B$B\"\"\"\"\"(\"#\"#\"#\"#\"(\"#\"(\"(\"#\"(\"#\"(\"(\"(\"(\"(\"(\"#\"(\"(\"#\"#\"#\"(\"(\"(\"(\"(\"#\"(\"\"\"\"\u001B(B\n",
      "\u001B$B\"\"\"\"\"(\"#\"(\"(\"(\"(\"#\"(\"#\"#\"(\"#\"(\"(\"(\"(\"(\"(\"#\"(\"(\"#\"#\"(\"(\"(\"(\"(\"(\"#\"(\"\"\"\"\u001B(B\n",
      "\u001B$B\"\"\"\"\"(\"#\"(\"#\"(\"(\"#\"(\"(\"(\"(\"#\"(\"(\"(\"(\"(\"(\"#\"(\"(\"#\"(\"#\"(\"(\"(\"(\"(\"#\"(\"\"\"\"\u001B(B\n",
      "\u001B$B\"\"\"\"\"(\"#\"(\"#\"(\"(\"#\"(\"(\"(\"(\"#\"#\"(\"(\"(\"(\"#\"#\"(\"(\"#\"(\"(\"#\"(\"(\"(\"(\"(\"\"\"\"\u001B(B\n",
      "\u001B$B\"\"\"\"\"(\"#\u001B(B \u001B$B\"#\u001B(B \u001B$B\"#\"(\"#\"(\"(\"(\"(\"(\"#\"#\"(\"(\"#\"#\"(\"(\"(\"#\"(\"(\u001B(B \u001B$B\"(\"#\"(\"(\"(\"#\"(\"\"\"\"\u001B(B\n",
      "\u001B$B\"\"\"\"\"(\"#\"#\"(\"(\"(\"#\"(\"(\"(\"(\"(\"(\"#\"#\"#\"#\"(\"(\"(\"(\"#\"(\"(\"(\"(\u001B(B \u001B$B\"#\"(\"(\"#\"(\"\"\"\"\u001B(B\n",
      "\u001B$B\"\"\"\"\"\"\"\"\"\"\"\"\"\"\"\"\"\"\"\"\"\"\"\"\"\"\"\"\"\"\"\"\"\"\"\"\"\"\"\"\"\"\"\"\"\"\"\"\"\"\"\"\"\"\"\"\"\"\"\"\"\"\"\"\"\"\"\"\"\"\u001B(B\n",
      "\u001B$B\"\"\"\"!\"\"\"\"\"\"\"\"\"\"\"\"\"\"\"\"\"\"\"\"\"\"\"\"\"\"\"\"\"\"\"\"\"\"\"\"\"\"\"\"\"\"\"\"\"\"\"\"\"\"\"\"\"\"\"\"\"\"\"\"\"\"\"\"\"\"\"\u001B(B\n",
      "\u001B$BFMF~$@\"*!!\u001B(Bhttp://kjhdf.com/120/index_bo\n",
      "\n",
      "\n",
      "\u001B$B!!!!!!!!!!!!!!!!!!!!!!!!$b$A$m$s!*\u001B(B\n",
      "\u001B$B!!!!!!!!!!!!!!!!!!!!!!!!\u001B(B~~~~~~~~~~\n",
      " \u001B$B\"v0B?4$G$-$k#2#4;~4V%5%]!<%H!uK|A4$N%;%-%e%j%F%#!<%7%9%F%`\"v\u001B(B\n",
      "\u001B$B!!\u001B(B~~~~~~~~~~~~~~~~~~~~~~~~~~~~~~~~~~~~~~~~~~~~~~~~~~~~~~~~~\n",
      "\u001B$B!!!!\u001B(B          http://kjhdf.com/120/index_bo\n",
      "\n",
      "\u001B$B$G$O!\"!Z=P2q$$\u001B(BRANKING \u001B$B=P2q$$EY!!\u001B(B120%\u001B$B![$G$*BT$A$7$F$$$^$9!#\u001B(B\n",
      "\n",
      "\n",
      "\u001B$B!!!!!!!!!!!!!!!!!!!c!c!c!c!c!c9-9p!d!d!d!d!d!d\u001B(B\n",
      "\u001B$B!&!&!&!E!E!D!D(,(,(,(,(,(,(,(,(,(,(,(,(,(,(,(,(,(,(,(,(,(,!D!D!E!E!&!&!&\u001B(B \n",
      "\u001B$B!!!!!!@$3&$GM#0l$N%P!<%A%c%k#S#E#X%2!<%`%a!<%+!<!Z\u001B(B \u001B$B%$%j%e!<%8%g%s\u001B(B \u001B$B![\u001B(B \n",
      "\u001B$B!&!&!&!E!E!D!D(,(,(,(,(,(,(,(,(,(,(,(,(,(,(,(,(,(,(,(,(,(,!D!D!E!E!&!&!&\u001B(B \n",
      "\n",
      "\u001B$B@$$NCf$K!\"$3$s$J$KH~$7$/%(%m$$%2!<%`$,$\"$C$?$J$s$F!D!D\u001B(B \n",
      "\n",
      "\u001B$B!|%$%j%e!<%8%g%s$O!\"@$3&$GM#0l!\"%P!<%A%c%k#S#E#X$r%2!<%`$H$7$FHNGd$7$F$$$^$9!#\u001B(B \n",
      "\n",
      "\u001B$B$3$N%2!<%`$G$O!\"<B:_$7$F$$$k$h$&$J=w$N;RC#$H?($l9g$$!\"K\\J*0J>e$N2w46$rF@$i$l$^$9!#!*\u001B(B \n",
      "\n",
      "\u001B$B8@MU$@$1$8$cEA$o$i$J$$$3$N2w46$r!Z\u001B(B \u001B$BL5NA\u001B(B \u001B$B![BN83HG$G$*;n$72<$5$$!*\u001B(B \n",
      "\u001B$B$^$?!\"$3$N%Z!<%8$K$O2a7c$JI=8=$,B?$/4^$^$l$F$$$^$9$N$G$4Cm0U2<$5$$!*\u001B(B \n",
      "http://www.illusion.jp/enter.html \n",
      "\n",
      "\n",
      "\u001B$BG[?.Dd;_$O$3$A$i\"*\u001B(B deai120_gogo@yahoo.co.jp\n",
      "\n",
      "\n",
      "received: from mail.kurusyu-nai.com (61-30-232-142.static.tfn.net.tw [61.30.232.142])\n",
      "\tby aleve.media.mit.edu (8.8.7/ml970927) with esmtp id baa22138\n",
      "\tfor <handyboard@media.mit.edu>; tue, 1 sep 1998 06:39:07 -0400 (edt)\n",
      "received: (qmail 7156 invoked by uid 509); tue, 1 sep 1998 13:18:48 +0900\n",
      "date: tue, 1 sep 1998 13:18:48 +0900\n",
      "message-id: <20060430041636.7155.qmail@mail.kurusyu-nai.com>\n",
      "mime-version: 1.0\n",
      "content-type: text/plain; charset=iso-2022-jp\n",
      "content-transfer-encoding: 7bit\n",
      "from: info@kurusyu-nai.com\n",
      "to: handyboard@media.mit.edu\n",
      "subject:\u001B$b%(%c%a2dg=$j!j$?$a$n%i%s%-%s%0$g$9!*\u001B(b\n",
      "mime-version: 1.0\n",
      "content-type: text/plain; charset=iso-2022-jp\n",
      "content-transfer-encoding: 7bit\n",
      "x-mailer: welcomemail\n",
      "\n",
      "\u001B$b\"!!g!v!g!v!g!v!g!v!g!v!g!v!g!v!g!v!g!v!g!v!g!v!g!v!g!v!g!v!g\"!\u001B(b\n",
      "\u001B$b\"(!!!!!!!!=u`%l!!z%+%n%8%gc5$7$o$d$c$q$j%3%3$+$i!!!!!!!!!!!!\"(\u001B(b\n",
      "\u001B$b\"(!!!!%l%g%#!<%9;o!&#g#a#l;ob??t7g:\\!*=w@-$kbg?m5$%5%$%h!*!!\"(\u001B(b\n",
      "\u001B$b\"!!g!v!g!v!g!v!g!v!g!v!g!v!g!v!g!v!g!v!g!v!g!v!g!v!g!v!g!v!g\"!\u001B(b\n",
      "\n",
      "\u001B$b!zwd!z=p2q$$$x$n:gni%j%s!*$h$3$h$sm7$y$f!\"$9$c$+$jk~b-\"v!zwd!z\u001B(b\n",
      "\u001B$b!!!zwd2fk}$7$j$$$gb(=p2q$$!*ea@be*$j=p2q$$$r?tb?$/c[$$$?!zwd\u001B(b\n",
      "\u001B$b!!!!!zwdev%5%$%h$3$=!\"%\"%/%;%9$9$k2acm$,$\"$j$^$9!zwd!zwd\u001B(b\n",
      "\u001B$b!!!!!!!!!!!!\u001B(bhttp://kjhdf.com/120/index_bo\n",
      "\n",
      "\n",
      "\u001B$b$$$^$\"$j$?$r$*bt$a$7$f$$$k$n$o!d\u001B(b\n",
      "\u001B$b!d!d!d!d!y!d!d!d!d!y!d!d!d!d!y!d!d!d!d!y!d!d!d!d!y!d!d!d!d!y!d!d\u001B(b \n",
      "\n",
      "\u001B$bl>a0!!!y;3k\\$j$(!!!!!!@1:b!!!y?eis:b\u001B(b       \u001B$b<ql#!!!ynam}\u001B(b\n",
      "\n",
      "\u001B$bg/np!!!y#2#2:p!!!!!!!!7l1u7?!!!y#a7?!!!!\u001B(b \u001B$b#hey!!!y!y!y!y\u001B(b\n",
      "\n",
      "\u001B$b?&6h!!!y#o#l!y!!!!!!!!;w$f$$$km-l>?m!!!ym%9a\u001B(b\n",
      "\n",
      "\u001B$b!z(,(,(,(,(,(,(,(,(,(,(,(,(,(,(,(,(,(,(,(,(,(,(,(,(,(,(,(,(,(,(,!y\u001B(b \n",
      "\u001B$b0ja07g<(hd$g8+$+$1$f$:$c$h5$$k$j$c$f$^$7$?!#$\"$j$?$n$*$+$2$g;d!\"\u001B(b\n",
      "\u001B$b$d$c$h9%$_$naj<j$r8+$d$1$i$l$?$s$g$9!#d>@\\%a!<%k$9$k$n$,i]$+$c$?$n$g!\"\u001B(b\n",
      "\u001B$b:g=i$n%a!<%k$@$1!\"%5%$%h$n%5%]!<%h$rdl$7$f$*4j$$$7$f$_$^$7$?!#\u001B(b\n",
      "\u001B$bezf|$+j?f|$nlk#9;~0j9_$g2q$c$f$/$l$^$;$s$+!)\u001B(b\n",
      "\u001B$b!z(,(,(,(,(,(,(,(,(,(,(,(,(,(,(,(,(,(,(,(,(,(,(,(,(,(,(,(,(,(,(,!y\u001B(b \n",
      "\n",
      "\u001B$b$[$+!\"#1#8l>mm$,$\"$j$?$r$*bt$a$7$f$$$^$9!#\"*\u001B(b http://kjhdf.com/120/index_bo\n",
      "\u001B$bk\\f|\u001B(b24\u001B$b;~$^$g%h%c%w%i%s%/$n%\"%/%;%9epo?$g!\"d>%a$b$7$/$oeeoc8r49$,2dg=$g$9!#\u001B(b\n",
      "\n",
      "\n",
      "\u001B$b$7$+$b!\"k\\ev$k<+?.$r$b$c$f%a!<%k$r$4>r2p$9$k$3$h$,$g$-$k$n$o\u001B(b\n",
      "\u001B$b!z=p2q$$\u001B(branking \u001B$b=p2q$$ey!!\u001B(b120% \u001B$b![$n$_!*\u001B(b\n",
      "\n",
      "\u001B$b!!!!!!!!!!!!!|!{!|<b$o!\"ev%5%$%h$k$o!|!{!|\u001B(b\n",
      "\n",
      "\u001B$b=p2q$$$r5a$a$k5.=e$j=w@-$?$a$n5v2d$rf@$f!\"\u001B(b\n",
      "\u001B$b!yhkl)!y$n%j%9%h$r:#2s!\"$\"$j$?$@$1$k8x3+$7$f$*$j$^$9!#\u001B(b\n",
      "\n",
      "\u001B$b!,!&\u001B(b*:.\u001B$b!#\u001B(b.:*\u001B$b!&!,!&\u001B(b*:.\u001B$b!#\u001B(b.:*\u001B$b!&!,!&\u001B(b*:\u001B$b!&\u001B(b*:.\u001B$b!#\u001B(b.:*\u001B$b!&\u001B(b*:.\u001B$b!#\u001B(b.:*\u001B$b!&!,\u001B(b\n",
      "\u001B$b!&\u001B(b*:.\u001B$b!#\u001B(b.:\u001B$ba4$f$n!i$n@?<b$j=p2q$$$r%5%]!<%h!*!&\u001B(b*:.\u001B$b!#\u001B(b.:*\u001B$b!&\u001B(b*:.\u001B$b!#\u001B(b.\n",
      "\n",
      "\u001B$b!&\u001B(b*:.\u001B$b!#\u001B(b.:*\u001B$b!&\u001B(b*\u001B$b$3$l$o$^$5$k%(%c%a2dg=$j!j$?$a$n!&\u001B(b*:.\u001B$b!#\u001B(b.:*\u001B$b!&\u001B(b*:\n",
      "\n",
      "\u001B$b!&\u001B(b*:\u001B$b!&\u001B(b*:.\u001B$b!#\u001B(b.:*\u001B$b%i%s%-%s%0%j%9%h$@!*!&\u001B(b*:.\u001B$b!#\u001B(b.:*\u001B$b!&\u001B(b*:.\n",
      "\u001B$b!&\u001B(b*:.\u001B$b!#\u001B(b.:*\u001B$b!&\u001B(b*:.\u001B$b!#\u001B(b.:*\u001B$b!&!,!&\u001B(b*:.\u001B$b!#\u001B(b.:*\u001B$b!&\u001B(b*:.\u001B$b!#\u001B(b.:*\u001B$b!&!,!&\u001B(b*:.\u001B$b!#\u001B(b.:*\u001B$b!&\u001B(b\n",
      "\u001B$b!!\u001B(bhttp://kjhdf.com/120/index_bo\n",
      "\n",
      "\u001B$b\",5.=e$j%j%9%h$o$3$3$+$i%2%c%h!*\u001B(b\n",
      "\n",
      "\u001B$b!&:#2sfcjl$k>r2p$5$;$f$$$?$@$$$?!\"m%9a$5$s$n$[$+$k$b!\"\u001B(b\n",
      "\u001B$b!&b??t$n=w@-$,$\"$j$?$r$*bt$a$7$f$$$^$9!#?m:j$+$i!\"ag?m$j$n$k\u001B(b\n",
      "\u001B$b!&0|mp$j@-jj$n$\"$kj}$j$i!*l%no$n=p2q$$$g$b$&!\"m_5aitk~$j$s$f$$$o$;$^$;$s!*\u001B(b\n",
      "\n",
      "\u001B$b!!!!!!!!!!!z!y!z9%$_$n%5%$%h$+$i0lh/epo?$g!z!y!z\u001B(b\n",
      "\n",
      "\u001B$ba4$f$n%(%c%a!*!!\u001B(bhttp://kjhdf.com/120/index_bo\n",
      "\u001B$b\"\"\"\"\"\"\"\"\"\"\"\"\"\"\"\"\"\"\"\"\"\"\"\"\"\"\"\"\"\"\"\"\"\"\"\"\"\"\"\"\"\"\"\"\"\"\"\"\"\"\"\"\"\"\"\"\"\"\"\"\"\"\"\"\"\"\"\"\"\"\u001B(b\n",
      "\u001B$b\"\"\"\"\"\"\"\"\"\"\"\"\"\"\"\"\"\"\"\"\"\"\"\"\"\"\"\"\"\"\"\"\"\"\"\"\"\"\"\"\"\"\"\"\"\"\"\"\"\"\"\"\"\"\"\"\"\"\"\"\"\"\"\"\"\"\"\"\"\"\u001B(b\n",
      "\u001B$b\"\"\"\"\"(\"#\"#\"#\"#\"(\"#\"#\"#\"#\"(\"(\"(\"#\"#\"#\"#\"(\"(\"(\"(\"#\"(\"(\"(\"(\"#\"(\"(\"#\"(\"\"\"\"\u001B(b\n",
      "\u001B$b\"\"\"\"\"(\"#\"(\"(\"#\"(\"#\"(\"(\"#\"(\"(\"#\"#\"(\"(\"#\"#\"(\"(\"(\"#\"(\"(\"(\"#\"(\"(\"(\"#\"(\"\"\"\"\u001B(b\n",
      "\u001B$b\"\"\"\"\"(\"#\"#\"#\"#\"(\"#\"(\"(\"#\"(\"#\"#\"(\"(\"(\"(\"#\"#\"(\"(\"#\"(\"(\u001B(b \u001B$b\"#\u001B(b \u001B$b\"(\"(\"(\"#\"(\"\"\"\"\u001B(b\n",
      "\u001B$b\"\"\"\"\"(\"#\"(\"(\"#\"(\"#\"(\"(\"#\"(\"#\"(\"(\"(\"(\"(\"(\"#\"(\"(\"#\"(\"(\"#\"(\"(\"(\"(\"#\"(\"\"\"\"\u001B(b\n",
      "\u001B$b\"\"\"\"\"(\"#\"#\"#\"#\"(\"#\"(\"(\"#\"(\"#\"(\"(\"(\"(\"(\"(\"#\"(\"(\"#\"#\"#\"(\"(\"(\"(\"(\"#\"(\"\"\"\"\u001B(b\n",
      "\u001B$b\"\"\"\"\"(\"#\"(\"(\"(\"(\"#\"(\"#\"#\"(\"#\"(\"(\"(\"(\"(\"(\"#\"(\"(\"#\"#\"(\"(\"(\"(\"(\"(\"#\"(\"\"\"\"\u001B(b\n",
      "\u001B$b\"\"\"\"\"(\"#\"(\"#\"(\"(\"#\"(\"(\"(\"(\"#\"(\"(\"(\"(\"(\"(\"#\"(\"(\"#\"(\"#\"(\"(\"(\"(\"(\"#\"(\"\"\"\"\u001B(b\n",
      "\u001B$b\"\"\"\"\"(\"#\"(\"#\"(\"(\"#\"(\"(\"(\"(\"#\"#\"(\"(\"(\"(\"#\"#\"(\"(\"#\"(\"(\"#\"(\"(\"(\"(\"(\"\"\"\"\u001B(b\n",
      "\u001B$b\"\"\"\"\"(\"#\u001B(b \u001B$b\"#\u001B(b \u001B$b\"#\"(\"#\"(\"(\"(\"(\"(\"#\"#\"(\"(\"#\"#\"(\"(\"(\"#\"(\"(\u001B(b \u001B$b\"(\"#\"(\"(\"(\"#\"(\"\"\"\"\u001B(b\n",
      "\u001B$b\"\"\"\"\"(\"#\"#\"(\"(\"(\"#\"(\"(\"(\"(\"(\"(\"#\"#\"#\"#\"(\"(\"(\"(\"#\"(\"(\"(\"(\u001B(b \u001B$b\"#\"(\"(\"#\"(\"\"\"\"\u001B(b\n",
      "\u001B$b\"\"\"\"\"\"\"\"\"\"\"\"\"\"\"\"\"\"\"\"\"\"\"\"\"\"\"\"\"\"\"\"\"\"\"\"\"\"\"\"\"\"\"\"\"\"\"\"\"\"\"\"\"\"\"\"\"\"\"\"\"\"\"\"\"\"\"\"\"\"\u001B(b\n",
      "\u001B$b\"\"\"\"!\"\"\"\"\"\"\"\"\"\"\"\"\"\"\"\"\"\"\"\"\"\"\"\"\"\"\"\"\"\"\"\"\"\"\"\"\"\"\"\"\"\"\"\"\"\"\"\"\"\"\"\"\"\"\"\"\"\"\"\"\"\"\"\"\"\"\"\u001B(b\n",
      "\u001B$bfmf~$@\"*!!\u001B(bhttp://kjhdf.com/120/index_bo\n",
      "\n",
      "\n",
      "\u001B$b!!!!!!!!!!!!!!!!!!!!!!!!$b$a$m$s!*\u001B(b\n",
      "\u001B$b!!!!!!!!!!!!!!!!!!!!!!!!\u001B(b~~~~~~~~~~\n",
      " \u001B$b\"v0b?4$g$-$k#2#4;~4v%5%]!<%h!uk|a4$n%;%-%e%j%f%#!<%7%9%f%`\"v\u001B(b\n",
      "\u001B$b!!\u001B(b~~~~~~~~~~~~~~~~~~~~~~~~~~~~~~~~~~~~~~~~~~~~~~~~~~~~~~~~~\n",
      "\u001B$b!!!!\u001B(b          http://kjhdf.com/120/index_bo\n",
      "\n",
      "\u001B$b$g$o!\"!z=p2q$$\u001B(branking \u001B$b=p2q$$ey!!\u001B(b120%\u001B$b![$g$*bt$a$7$f$$$^$9!#\u001B(b\n",
      "\n",
      "\n",
      "\u001B$b!!!!!!!!!!!!!!!!!!!c!c!c!c!c!c9-9p!d!d!d!d!d!d\u001B(b\n",
      "\u001B$b!&!&!&!e!e!d!d(,(,(,(,(,(,(,(,(,(,(,(,(,(,(,(,(,(,(,(,(,(,!d!d!e!e!&!&!&\u001B(b \n",
      "\u001B$b!!!!!!@$3&$gm#0l$n%p!<%a%c%k#s#e#x%2!<%`%a!<%+!<!z\u001B(b \u001B$b%$%j%e!<%8%g%s\u001B(b \u001B$b![\u001B(b \n",
      "\u001B$b!&!&!&!e!e!d!d(,(,(,(,(,(,(,(,(,(,(,(,(,(,(,(,(,(,(,(,(,(,!d!d!e!e!&!&!&\u001B(b \n",
      "\n",
      "\u001B$b@$$ncf$k!\"$3$s$j$kh~$7$/%(%m$$%2!<%`$,$\"$c$?$j$s$f!d!d\u001B(b \n",
      "\n",
      "\u001B$b!|%$%j%e!<%8%g%s$o!\"@$3&$gm#0l!\"%p!<%a%c%k#s#e#x$r%2!<%`$h$7$fhngd$7$f$$$^$9!#\u001B(b \n",
      "\n",
      "\u001B$b$3$n%2!<%`$g$o!\"<b:_$7$f$$$k$h$&$j=w$n;rc#$h?($l9g$$!\"k\\j*0j>e$n2w46$rf@$i$l$^$9!#!*\u001B(b \n",
      "\n",
      "\u001B$b8@mu$@$1$8$cea$o$i$j$$$3$n2w46$r!z\u001B(b \u001B$bl5na\u001B(b \u001B$b![bn83hg$g$*;n$72<$5$$!*\u001B(b \n",
      "\u001B$b$^$?!\"$3$n%z!<%8$k$o2a7c$ji=8=$,b?$/4^$^$l$f$$$^$9$n$g$4cm0u2<$5$$!*\u001B(b \n",
      "http://www.illusion.jp/enter.html \n",
      "\n",
      "\n",
      "\u001B$bg[?.dd;_$o$3$a$i\"*\u001B(b deai120_gogo@yahoo.co.jp\n",
      "\n",
      "\n",
      "['Received', 'from', 'mail', 'kurusyu', 'nai', 'com', '61', '30', '232', '142', 'static', 'tfn', 'net', 'tw', '61', '30', '232', '142', 'by', 'aleve', 'media', 'mit', 'edu', '8', '8', '7', 'ML970927', 'with', 'ESMTP', 'id', 'BAA22138', 'for', 'handyboard', 'media', 'mit', 'edu', 'Tue', '1', 'Sep', '1998', '06', '39', '07', '0400', 'EDT', 'Received', 'qmail', '7156', 'invoked', 'by', 'uid', '509', 'Tue', '1', 'Sep', '1998', '13', '18', '48', '0900', 'Date', 'Tue', '1', 'Sep', '1998', '13', '18', '48', '0900', 'Message', 'ID', '20060430041636', '7155', 'qmail', 'mail', 'kurusyu', 'nai', 'com', 'MIME', 'Version', '1', '0', 'Content', 'Type', 'text', 'plain', 'charset', 'iso', '2022', 'jp', 'Content', 'Transfer', 'Encoding', '7bit', 'From', 'info', 'kurusyu', 'nai', 'com', 'To', 'handyboard', 'media', 'mit', 'edu', 'Subject', 'B', 'C', 'A2DG', 'J', 'j', 'A', 'N', 'i', 's', 's', '0', 'G', '9', 'B', 'MIME', 'Version', '1', '0', 'Content', 'type', 'text', 'plain', 'charset', 'iso', '2022', 'jp', 'Content', 'Transfer', 'Encoding', '7bit', 'X', 'Mailer', 'WelcomeMail', 'B', 'g', 'v', 'g', 'v', 'g', 'v', 'g', 'v', 'g', 'v', 'g', 'v', 'g', 'v', 'g', 'v', 'g', 'v', 'g', 'v', 'g', 'v', 'g', 'v', 'g', 'v', 'g', 'v', 'g', 'B', 'B', 'U', 'L', 'z', 'N', '8', 'gC5', '7', 'O', 'd', 'C', 'Q', 'j', '3', '3', 'i', 'B', 'B', 'l', 'G', '9', 'o', 'G', 'A', 'L', 'oB', 't7G', 'w', 'KBg', 'M5', '5', 'H', 'B', 'B', 'g', 'v', 'g', 'v', 'g', 'v', 'g', 'v', 'g', 'v', 'g', 'v', 'g', 'v', 'g', 'v', 'g', 'v', 'g', 'v', 'g', 'v', 'g', 'v', 'g', 'v', 'g', 'v', 'g', 'B', 'B', 'zWD', 'z', 'P2q', 'X', 'N', 'GNI', 'J', 'S', 'H', '3', 'H', 'sM7', 'Y', 'F', '9', 'C', 'jK', 'B', 'v', 'zWD', 'z', 'B', 'B', 'zWD2fK', '7', 'J', 'GB', 'P2q', 'EA', 'bE', 'J', 'P2q', 'r', 'tB', 'C', 'zWD', 'B', 'B', 'zWDEv', '5', 'H', '3', '9', '9', 'k2ACM', 'j', '9', 'zWD', 'zWD', 'B', 'B', 'Bhttp', 'kjhdf', 'com', '120', 'index_bo', 'B', 'J', 'r', 'BT', 'A', '7', 'F', 'k', 'N', 'O', 'D', 'B', 'B', 'D', 'D', 'D', 'D', 'y', 'D', 'D', 'D', 'D', 'y', 'D', 'D', 'D', 'D', 'y', 'D', 'D', 'D', 'D', 'y', 'D', 'D', 'D', 'D', 'y', 'D', 'D', 'D', 'D', 'y', 'D', 'D', 'B', 'BL', 'A0', 'y', '3K', 'j', '1', 'B', 'y', 'eIS', 'B', 'B', 'B', 'qL', 'yNAM', 'B', 'BG', 'Np', 'y', '2', '2', 'P', '7l1U7', 'y', 'A7', 'B', 'B', 'HEY', 'y', 'y', 'y', 'y', 'B', 'B', '6H', 'y', 'O', 'L', 'y', 'w', 'F', 'kM', 'L', 'M', 'yM', '9a', 'B', 'B', 'z', 'y', 'B', 'B0JA07G', 'HD', 'G8', '1', 'F', 'C', 'H5', 'K', 'J', 'C', 'F', '7', 'J', 'N', '2', 'G', 'd', 'B', 'B', 'd', 'C', 'H9', '_', 'NAj', 'j', 'r8', 'D', '1', 'i', 'l', 's', 'G', '9', 'D', 'a', 'k', '9', 'k', 'N', 'I', 'C', 'N', 'G', 'B', 'B', 'G', 'i', 'N', 'a', 'k', '1', '5', 'H', 'N', '5', 'H', 'rDL', '7', 'F', '4j', '7', 'F', '_', '7', 'B', 'BEZF', 'J', 'F', 'NLk', '9', '0J9_', 'G2q', 'C', 'F', 'l', 's', 'B', 'B', 'z', 'y', 'B', 'B', '1', '8L', 'MM', 'J', 'r', 'BT', 'A', '7', 'F', '9', 'B', 'http', 'kjhdf', 'com', '120', 'index_bo', 'BK', 'F', 'B24', 'B', 'G', 'H', 'C', 'W', 'i', 's', 'N', '9EPO', 'G', 'D', 'a', 'b', '7', 'OEEOC8r49', '2DG', 'G', '9', 'B', 'B', '7', 'b', 'K', 'Ev', 'K', 'r', 'b', 'C', 'F', 'a', 'k', 'r', '4', 'R2p', '9', 'k', '3', 'H', 'G', 'k', 'N', 'O', 'B', 'B', 'Z', 'P2q', 'BRANKING', 'B', 'P2q', 'EY', 'B120', 'B', 'N', '_', 'B', 'B', 'B', 'O', 'Ev', '5', 'H', 'K', 'O', 'B', 'B', 'P2q', 'r5a', 'a', 'k5', 'E', 'J', 'w', 'A', 'N5v2D', 'rF', 'F', 'B', 'B', 'yHkL', 'y', 'N', 'j', '9', 'H', 'r', '2s', 'J', '1', 'K8x3', '7', 'F', 'j', '9', 'B', 'B', 'B', 'B', 'B', 'B', 'B', 'B', 'B', 'B', 'B', 'B', 'B', 'B', 'B', 'B', 'B', 'B', 'B', 'B', 'B', 'B', 'B', 'B', 'B', 'BA4', 'F', 'N', 'i', 'N', 'B', 'J', 'P2q', 'r', '5', 'H', 'B', 'B', 'B', 'B', 'B', 'B', 'B', 'B', 'B', 'B', 'B', 'B', 'B', 'B', '3', 'l', 'O', '5', 'K', 'C', 'A2DG', 'J', 'j', 'A', 'N', 'B', 'B', 'B', 'B', 'B', 'B', 'B', 'B', 'B', 'B', 'B', 'B', 'i', 's', 's', '0', 'j', '9', 'H', 'B', 'B', 'B', 'B', 'B', 'B', 'B', 'B', 'B', 'B', 'B', 'B', 'B', 'B', 'B', 'B', 'B', 'B', 'B', 'B', 'B', 'B', 'B', 'B', 'B', 'B', 'B', 'B', 'Bhttp', 'kjhdf', 'com', '120', 'index_bo', 'B', '5', 'E', 'J', 'j', '9', 'H', 'O', '3', '3', 'i', '2', 'C', 'H', 'B', 'B', '2sFCJL', 'K', 'R2p', '5', 'F', 'M', '9a', '5', 's', 'N', 'K', 'b', 'B', 'B', 'B', 't', 'N', 'w', 'J', 'r', 'BT', 'A', '7', 'F', '9', 'M', 'J', 'i', 'AG', 'M', 'J', 'N', 'K', 'B', 'B', '0', 'Mp', 'J', 'JJ', 'N', 'kJ', 'J', 'I', 'L', 'NO', 'N', 'P2q', 'G', 'b', 'M_5aITK', 'J', 's', 'F', 'o', 's', 'B', 'B', 'z', 'y', 'z9', '_', 'N', '5', 'H', 'i0lH', 'EPO', 'G', 'z', 'y', 'z', 'B', 'BA4', 'F', 'N', 'C', 'A', 'Bhttp', 'kjhdf', 'com', '120', 'index_bo', 'B', 'B', 'B', 'B', 'B', 'B', 'B', 'B', 'B', 'B', 'B', 'B', 'B', 'B', 'B', 'B', 'B', 'B', 'B', 'B', 'B', 'B', 'B', 'B', 'B', 'B', 'B', 'B', 'B', 'B', 'B', 'B', 'B', 'B', 'B', 'B', 'B', 'B', 'B', 'B', 'BFMF', 'Bhttp', 'kjhdf', 'com', '120', 'index_bo', 'B', 'b', 'A', 'm', 's', 'B', 'B', 'B', 'B', 'v0B', '4', 'G', 'k', '2', '4', '4V', '5', 'H', 'uK', 'A4', 'N', 'e', 'j', 'F', '7', '9', 'F', 'v', 'B', 'B', 'B', 'B', 'B', 'http', 'kjhdf', 'com', '120', 'index_bo', 'B', 'G', 'O', 'Z', 'P2q', 'BRANKING', 'B', 'P2q', 'EY', 'B120', 'B', 'G', 'BT', 'A', '7', 'F', '9', 'B', 'B', 'c', 'c', 'c', 'c', 'c', 'c9', '9p', 'd', 'd', 'd', 'd', 'd', 'd', 'B', 'B', 'E', 'E', 'D', 'D', 'D', 'D', 'E', 'E', 'B', 'B', '3', 'GM', '0l', 'N', 'P', 'A', 'c', 'k', 'S', 'E', 'X', '2', 'a', 'Z', 'B', 'B', 'j', 'e', '8', 'g', 's', 'B', 'B', 'B', 'B', 'E', 'E', 'D', 'D', 'D', 'D', 'E', 'E', 'B', 'B', 'NCf', 'K', '3', 's', 'J', 'KH', '7', 'm', '2', 'C', 'J', 's', 'F', 'D', 'D', 'B', 'B', 'j', 'e', '8', 'g', 's', 'O', '3', 'GM', '0l', 'P', 'A', 'c', 'k', 'S', 'E', 'X', 'r', '2', 'H', '7', 'FHNGd', '7', 'F', '9', 'B', 'B', '3', 'N', '2', 'G', 'O', 'B', '_', '7', 'F', 'k', 'h', 'J', 'w', 'N', 'RC', 'H', 'l9g', 'K', 'J', '0J', 'e', 'N2w46', 'rF', 'i', 'l', '9', 'B', 'B8', 'MU', '1', '8', 'cEA', 'o', 'i', 'J', '3', 'N2w46', 'r', 'Z', 'B', 'BL5NA', 'B', 'B', 'BN83HG', 'G', 'n', '72', '5', 'B', 'B', '3', 'N', 'Z', '8', 'K', 'O2a7c', 'JI', '8', 'B', '4', 'l', 'F', '9', 'N', 'G', '4Cm0U2', '5', 'B', 'http', 'www', 'illusion', 'jp', 'enter', 'html', 'BG', 'Dd', '_', 'O', '3', 'A', 'i', 'B', 'deai120_gogo', 'yahoo', 'co', 'jp']\n"
     ]
    }
   ],
   "source": [
    "doc = get_random_spam_content()\n",
    "print(doc)\n",
    "print(vectorizer.build_preprocessor()(doc))\n",
    "print(vectorizer.build_tokenizer()(doc))"
   ],
   "metadata": {
    "collapsed": false,
    "pycharm": {
     "name": "#%%\n"
    }
   }
  },
  {
   "cell_type": "code",
   "execution_count": 27,
   "outputs": [
    {
     "data": {
      "text/plain": "<module 'model' from '/home/junetheriver/code/ml/bayes/model.py'>"
     },
     "execution_count": 27,
     "metadata": {},
     "output_type": "execute_result"
    }
   ],
   "source": [
    "import model\n",
    "importlib.reload(model)"
   ],
   "metadata": {
    "collapsed": false,
    "pycharm": {
     "name": "#%%\n"
    }
   }
  },
  {
   "cell_type": "code",
   "execution_count": 28,
   "outputs": [],
   "source": [
    "nbc = model.NBC(dl, args)\n",
    "nbc.train()"
   ],
   "metadata": {
    "collapsed": false,
    "pycharm": {
     "name": "#%%\n"
    }
   }
  },
  {
   "cell_type": "code",
   "execution_count": 31,
   "outputs": [],
   "source": [
    "feature = nbc.feature_extraction([get_random_ham_content()])"
   ],
   "metadata": {
    "collapsed": false,
    "pycharm": {
     "name": "#%%\n"
    }
   }
  },
  {
   "cell_type": "code",
   "execution_count": 32,
   "outputs": [
    {
     "data": {
      "text/plain": "(1, 1504468)"
     },
     "execution_count": 32,
     "metadata": {},
     "output_type": "execute_result"
    }
   ],
   "source": [
    "feature.shape"
   ],
   "metadata": {
    "collapsed": false,
    "pycharm": {
     "name": "#%%\n"
    }
   }
  },
  {
   "cell_type": "code",
   "execution_count": null,
   "outputs": [],
   "source": [
    "from scipy import sparse\n",
    "resparse = sparse.csr_matrix(feature)"
   ],
   "metadata": {
    "collapsed": false,
    "pycharm": {
     "name": "#%%\n"
    }
   }
  },
  {
   "cell_type": "code",
   "execution_count": null,
   "outputs": [],
   "source": [
    "resparse"
   ],
   "metadata": {
    "collapsed": false,
    "pycharm": {
     "name": "#%%\n"
    }
   }
  },
  {
   "cell_type": "code",
   "execution_count": 34,
   "outputs": [
    {
     "data": {
      "text/plain": "11.0"
     },
     "execution_count": 34,
     "metadata": {},
     "output_type": "execute_result"
    }
   ],
   "source": [
    "np.max(feature)"
   ],
   "metadata": {
    "collapsed": false,
    "pycharm": {
     "name": "#%%\n"
    }
   }
  },
  {
   "cell_type": "code",
   "execution_count": 5,
   "outputs": [
    {
     "name": "stdout",
     "output_type": "stream",
     "text": [
      "Loaded 37822 data\n",
      "Random seed: 1\n",
      "Generated a vectorizer of bow with 1000 vocabulary\n",
      "Save model weight to:  /home/junetheriver/code/ml/bayes/weight.pkl\n"
     ]
    }
   ],
   "source": [
    "import dataloader\n",
    "import params\n",
    "import random\n",
    "import numpy as np\n",
    "import matplotlib.pyplot as plt\n",
    "import importlib\n",
    "import model\n",
    "\n",
    "args = params.get_default_args()\n",
    "dl = dataloader.Dataloader(args)\n",
    "args.save_weight = '/home/junetheriver/code/ml/bayes/weight.pkl'\n",
    "\n",
    "nbc = model.NBC(args)\n",
    "train_dataset = dl[dl.get_train_fold(0)]\n",
    "test_dataset = dl[dl.get_test_fold(0)]\n",
    "nbc.train(train_dataset)"
   ],
   "metadata": {
    "collapsed": false,
    "pycharm": {
     "name": "#%%\n"
    }
   }
  },
  {
   "cell_type": "code",
   "execution_count": 4,
   "outputs": [
    {
     "data": {
      "text/plain": "<module 'model' from '/home/junetheriver/code/ml/bayes/model.py'>"
     },
     "execution_count": 4,
     "metadata": {},
     "output_type": "execute_result"
    }
   ],
   "source": [
    "importlib.reload(params)\n",
    "importlib.reload(model)"
   ],
   "metadata": {
    "collapsed": false,
    "pycharm": {
     "name": "#%%\n"
    }
   }
  },
  {
   "cell_type": "code",
   "execution_count": 28,
   "outputs": [
    {
     "name": "stdout",
     "output_type": "stream",
     "text": [
      "0.7589899524061343\n"
     ]
    }
   ],
   "source": [
    "cnt = 0\n",
    "for i in test_dataset:\n",
    "    result = nbc.demo(i[0])\n",
    "    if result == i[1] :\n",
    "        cnt += 1\n",
    "print(cnt / len(test_dataset))"
   ],
   "metadata": {
    "collapsed": false,
    "pycharm": {
     "name": "#%%\n"
    }
   }
  },
  {
   "cell_type": "code",
   "execution_count": 13,
   "outputs": [],
   "source": [
    "hams = dl.get_ham()\n",
    "spams = dl.get_spam()"
   ],
   "metadata": {
    "collapsed": false,
    "pycharm": {
     "name": "#%%\n"
    }
   }
  },
  {
   "cell_type": "code",
   "execution_count": null,
   "outputs": [],
   "source": [],
   "metadata": {
    "collapsed": false,
    "pycharm": {
     "name": "#%%\n"
    }
   }
  }
 ],
 "metadata": {
  "kernelspec": {
   "display_name": "Python 3",
   "language": "python",
   "name": "python3"
  },
  "language_info": {
   "codemirror_mode": {
    "name": "ipython",
    "version": 2
   },
   "file_extension": ".py",
   "mimetype": "text/x-python",
   "name": "python",
   "nbconvert_exporter": "python",
   "pygments_lexer": "ipython2",
   "version": "2.7.6"
  }
 },
 "nbformat": 4,
 "nbformat_minor": 0
}